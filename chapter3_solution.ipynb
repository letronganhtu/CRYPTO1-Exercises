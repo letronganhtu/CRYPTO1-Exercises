{
 "cells": [
  {
   "attachments": {},
   "cell_type": "markdown",
   "metadata": {},
   "source": [
    "#### Chapter 3: Integer Factorization and RSA"
   ]
  },
  {
   "cell_type": "code",
   "execution_count": 10,
   "metadata": {},
   "outputs": [],
   "source": [
    "import math"
   ]
  },
  {
   "attachments": {},
   "cell_type": "markdown",
   "metadata": {},
   "source": [
    "#### 3.3"
   ]
  },
  {
   "attachments": {},
   "cell_type": "markdown",
   "metadata": {},
   "source": [
    "(a) $\\phi(6)=2$ do $gcd(1,6)=gcd(5,6)=1$\n",
    "\n",
    "$\\phi(9)=6$ do $gcd(1,9)=gcd(2,9)=gcd(4,9)=gcd(5,9)=gcd(7,9)=gcd(8,9)=1$\n",
    "\n",
    "$\\phi(15)=8$ do $gcd(1,15)=gcd(2,15)=gcd(4,15)=gcd(7,15)=gcd(8,15)=gcd(11,15)=gcd(13,15)=gcd(14,15)=1$\n",
    "\n",
    "$\\phi(17)=16$ do $17$ là số nguyên tố nên mọi số trong khoảng $[1,16]$ đều nguyên tố cùng nhau với $17$\n",
    "\n",
    "(b) Nếu $p$ là số nguyên tố $\\rightarrow$ tất cả các số trong khoảng $[1,p-1]$ đều nguyên tố cùng nhau với $p\\rightarrow \\phi(p)=p-1$\n",
    "\n",
    "(c) Gọi $L=\\{ i \\in \\mathbb{Z_n}$ $:$ $gcd(i,n)=1 \\} \\rightarrow |L|=\\phi(n)$\n",
    "\n",
    "Ta lấy từng phần tử trong tập $L$ và nhân cho một con số $a$ bất kì thuộc $\\mathbb{Z}_n$ thoả $gcd(a,n)=1$ thì $L'=\\{ ia$ $:$ $gcd(i,n)=1 \\}$\n",
    "- Do $gcd(a,n)=1$ và $gcd(i,n)=1$ nên $gcd(ai,n)=1$ $\\rightarrow ai \\in L$ $\\rightarrow L'$ là 1 hoán vị của $L \\rightarrow |L'|=\\phi(n)$\n",
    "\n",
    "Lấy mọi phần tử trong $L'$ nhân với nhau ta có $\\prod_{i=1\\&gcd(i,n)=1}^{n}(i*a)=\\prod_{i=1\\&gcd(i,n)=1}^{n}(i)$ $(mod$ $n)$ $\\Rightarrow a^{\\phi(n)}=1$ $(mod$ $n)$ "
   ]
  },
  {
   "attachments": {},
   "cell_type": "markdown",
   "metadata": {},
   "source": [
    "#### 3.5"
   ]
  },
  {
   "attachments": {},
   "cell_type": "markdown",
   "metadata": {},
   "source": [
    "(a) Tính $d$ thoả $d=e^{-1}$ $(mod$ $\\phi(n))$ (có thể tính được do $gcd(e, \\phi(n)) = 1$) $\\rightarrow ed=1$ $(mod$ $n)$\n",
    "\n",
    "$x^e=c$ $(mod$ $n)$ $\\rightarrow x^{ed}=c^d$ $(mod$ $n)$\n",
    "\n",
    "Do $gcd(n,c)=1$ $\\rightarrow gcd(n,x)=1$ $\\rightarrow x^{\\phi(n)}=1$ $(mod$ $n)$ $\\rightarrow x^{ed\\text{ }\\%\\text{ }\\phi(n)}=x=c^d$ $(mod$ $n)$"
   ]
  },
  {
   "cell_type": "code",
   "execution_count": 11,
   "metadata": {},
   "outputs": [
    {
     "name": "stdout",
     "output_type": "stream",
     "text": [
      "(i). x = 1390\n",
      "(ii). x = 147\n",
      "(iii). x = 1892929\n"
     ]
    }
   ],
   "source": [
    "def solve35(e, c, n):\n",
    "    factor = []\n",
    "    pi = 2\n",
    "    tmp = n\n",
    "    while tmp != 1:\n",
    "        while tmp % pi == 0:\n",
    "            if pi not in factor: factor.append(pi)\n",
    "            tmp //= pi\n",
    "        pi += 1\n",
    "    \n",
    "    phi_n = n\n",
    "    for x in factor:\n",
    "        phi_n = phi_n // x * (x - 1)\n",
    "    \n",
    "    d = pow(e, -1, phi_n)\n",
    "    return pow(c, d, n)\n",
    "\n",
    "print(\"(i). x =\", solve35(577, 60, 1463))\n",
    "print(\"(ii). x =\", solve35(959, 1583, 1625))\n",
    "print(\"(iii). x =\", solve35(133957, 224689, 2134440))"
   ]
  },
  {
   "attachments": {},
   "cell_type": "markdown",
   "metadata": {},
   "source": [
    "#### 3.8"
   ]
  },
  {
   "cell_type": "code",
   "execution_count": 12,
   "metadata": {},
   "outputs": [
    {
     "name": "stdout",
     "output_type": "stream",
     "text": [
      "(a). (677, 521)\n",
      "(b). (10007, 7703)\n",
      "(c). (17183, 6367)\n",
      "(d). (422183, 407893)\n"
     ]
    }
   ],
   "source": [
    "def solve_factor(a, b):\n",
    "    sum_prime = a - b + 1 # p + q = pq + 1 - (p - 1)(q - 1) = a + 1 - b\n",
    "    delta = sum_prime * sum_prime - 4 * a\n",
    "    p = (sum_prime + int(math.sqrt(delta))) // 2\n",
    "    q = (sum_prime - int(math.sqrt(delta))) // 2\n",
    "    return p, q\n",
    "\n",
    "print(\"(a).\", solve_factor(352717, 351520))\n",
    "print(\"(b).\", solve_factor(77083921, 77066212))\n",
    "print(\"(c).\", solve_factor(109404161, 109380612))\n",
    "print(\"(d).\", solve_factor(172205490419, 172204660344))"
   ]
  },
  {
   "attachments": {},
   "cell_type": "markdown",
   "metadata": {},
   "source": [
    "#### 3.12"
   ]
  },
  {
   "attachments": {},
   "cell_type": "markdown",
   "metadata": {},
   "source": [
    "Do $gcd(e_1,e_2)=gcd(1021763679,519424709)=1 \\rightarrow$ có thể tìm lại được tin nhắn $m$\n",
    "\n",
    "Xét phương trình $e_1*u+e_2*v=gcd(e_1,e_2) \\rightarrow 1021763679*u+519424709*v=1$\n",
    "\n",
    "Sử dụng định lý **Bezout** ta giải ra được $u=252426389$ và $v=-496549570$\n",
    "\n",
    "Vậy xét đẳng thức $c_1^u*c_2^v=m^{e_1*u+e_2*v}=m$ $(mod$ $n)$ $\\Rightarrow m=1244183534^{252426389}*(732959706^{496549570})^{-1}$ $(mod$ $1889570071)=1054592380$"
   ]
  }
 ],
 "metadata": {
  "kernelspec": {
   "display_name": "Python 3",
   "language": "python",
   "name": "python3"
  },
  "language_info": {
   "codemirror_mode": {
    "name": "ipython",
    "version": 3
   },
   "file_extension": ".py",
   "mimetype": "text/x-python",
   "name": "python",
   "nbconvert_exporter": "python",
   "pygments_lexer": "ipython3",
   "version": "3.9.7"
  },
  "orig_nbformat": 4,
  "vscode": {
   "interpreter": {
    "hash": "eadba2b3581326a2d7bd273e9d419eb0fab219e321930fd6a453aab726dd8270"
   }
  }
 },
 "nbformat": 4,
 "nbformat_minor": 2
}
