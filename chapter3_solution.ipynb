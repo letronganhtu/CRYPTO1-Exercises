{
 "cells": [
  {
   "attachments": {},
   "cell_type": "markdown",
   "metadata": {},
   "source": [
    "#### Chapter 3: Integer Factorization and RSA"
   ]
  },
  {
   "cell_type": "code",
   "execution_count": 1,
   "metadata": {},
   "outputs": [],
   "source": [
    "import math\n",
    "import random\n",
    "import matplotlib.pyplot as plt\n",
    "import numpy as np"
   ]
  },
  {
   "attachments": {},
   "cell_type": "markdown",
   "metadata": {},
   "source": [
    "#### 3.3"
   ]
  },
  {
   "attachments": {},
   "cell_type": "markdown",
   "metadata": {},
   "source": [
    "(a) $\\phi(6)=2$ do $gcd(1,6)=gcd(5,6)=1$\n",
    "\n",
    "$\\phi(9)=6$ do $gcd(1,9)=gcd(2,9)=gcd(4,9)=gcd(5,9)=gcd(7,9)=gcd(8,9)=1$\n",
    "\n",
    "$\\phi(15)=8$ do $gcd(1,15)=gcd(2,15)=gcd(4,15)=gcd(7,15)=gcd(8,15)=gcd(11,15)=gcd(13,15)=gcd(14,15)=1$\n",
    "\n",
    "$\\phi(17)=16$ do $17$ là số nguyên tố nên mọi số trong khoảng $[1,16]$ đều nguyên tố cùng nhau với $17$\n",
    "\n",
    "(b) Nếu $p$ là số nguyên tố $\\rightarrow$ tất cả các số trong khoảng $[1,p-1]$ đều nguyên tố cùng nhau với $p\\rightarrow \\phi(p)=p-1$\n",
    "\n",
    "(c) Gọi $L=\\{ i \\in \\mathbb{Z_n}$ $:$ $gcd(i,n)=1 \\} \\rightarrow |L|=\\phi(n)$\n",
    "\n",
    "Ta lấy từng phần tử trong tập $L$ và nhân cho một con số $a$ bất kì thuộc $\\mathbb{Z}_n$ thoả $gcd(a,n)=1$ thì $L'=\\{ ia$ $:$ $gcd(i,n)=1 \\}$\n",
    "- Do $gcd(a,n)=1$ và $gcd(i,n)=1$ nên $gcd(ai,n)=1$ $\\rightarrow ai \\in L$ $\\rightarrow L'$ là 1 hoán vị của $L \\rightarrow |L'|=\\phi(n)$\n",
    "\n",
    "Lấy mọi phần tử trong $L'$ nhân với nhau ta có $\\prod_{i=1\\&gcd(i,n)=1}^{n}(i*a)=\\prod_{i=1\\&gcd(i,n)=1}^{n}(i)$ $(mod$ $n)$ $\\Rightarrow a^{\\phi(n)}=1$ $(mod$ $n)$ "
   ]
  },
  {
   "attachments": {},
   "cell_type": "markdown",
   "metadata": {},
   "source": [
    "#### 3.5"
   ]
  },
  {
   "attachments": {},
   "cell_type": "markdown",
   "metadata": {},
   "source": [
    "(a) Tính $d$ thoả $d=e^{-1}$ $(mod$ $\\phi(n))$ (có thể tính được do $gcd(e, \\phi(n)) = 1$) $\\rightarrow ed=1$ $(mod$ $n)$\n",
    "\n",
    "$x^e=c$ $(mod$ $n)$ $\\rightarrow x^{ed}=c^d$ $(mod$ $n)$\n",
    "\n",
    "Do $gcd(n,c)=1$ $\\rightarrow gcd(n,x)=1$ $\\rightarrow x^{\\phi(n)}=1$ $(mod$ $n)$ $\\rightarrow x^{ed\\text{ }\\%\\text{ }\\phi(n)}=x=c^d$ $(mod$ $n)$"
   ]
  },
  {
   "cell_type": "code",
   "execution_count": 2,
   "metadata": {},
   "outputs": [
    {
     "name": "stdout",
     "output_type": "stream",
     "text": [
      "(i). x = 1390\n",
      "(ii). x = 147\n",
      "(iii). x = 1892929\n"
     ]
    }
   ],
   "source": [
    "def solve35(e, c, n):\n",
    "    factor = []\n",
    "    pi = 2\n",
    "    tmp = n\n",
    "    while tmp != 1:\n",
    "        while tmp % pi == 0:\n",
    "            if pi not in factor: factor.append(pi)\n",
    "            tmp //= pi\n",
    "        pi += 1\n",
    "    \n",
    "    phi_n = n\n",
    "    for x in factor:\n",
    "        phi_n = phi_n // x * (x - 1)\n",
    "    \n",
    "    d = pow(e, -1, phi_n)\n",
    "    return pow(c, d, n)\n",
    "\n",
    "print(\"(i). x =\", solve35(577, 60, 1463))\n",
    "print(\"(ii). x =\", solve35(959, 1583, 1625))\n",
    "print(\"(iii). x =\", solve35(133957, 224689, 2134440))"
   ]
  },
  {
   "attachments": {},
   "cell_type": "markdown",
   "metadata": {},
   "source": [
    "#### 3.8"
   ]
  },
  {
   "cell_type": "code",
   "execution_count": 3,
   "metadata": {},
   "outputs": [
    {
     "name": "stdout",
     "output_type": "stream",
     "text": [
      "(a). (677, 521)\n",
      "(b). (10007, 7703)\n",
      "(c). (17183, 6367)\n",
      "(d). (422183, 407893)\n"
     ]
    }
   ],
   "source": [
    "def solve_factor(a, b):\n",
    "    sum_prime = a - b + 1 # p + q = pq + 1 - (p - 1)(q - 1) = a + 1 - b\n",
    "    delta = sum_prime * sum_prime - 4 * a\n",
    "    p = (sum_prime + int(math.sqrt(delta))) // 2\n",
    "    q = (sum_prime - int(math.sqrt(delta))) // 2\n",
    "    return p, q\n",
    "\n",
    "print(\"(a).\", solve_factor(352717, 351520))\n",
    "print(\"(b).\", solve_factor(77083921, 77066212))\n",
    "print(\"(c).\", solve_factor(109404161, 109380612))\n",
    "print(\"(d).\", solve_factor(172205490419, 172204660344))"
   ]
  },
  {
   "attachments": {},
   "cell_type": "markdown",
   "metadata": {},
   "source": [
    "#### 3.12"
   ]
  },
  {
   "attachments": {},
   "cell_type": "markdown",
   "metadata": {},
   "source": [
    "Do $gcd(e_1,e_2)=gcd(1021763679,519424709)=1 \\rightarrow$ có thể tìm lại được tin nhắn $m$\n",
    "\n",
    "Xét phương trình $e_1*u+e_2*v=gcd(e_1,e_2) \\rightarrow 1021763679*u+519424709*v=1$\n",
    "\n",
    "Sử dụng định lý **Bezout** ta giải ra được $u=252426389$ và $v=-496549570$\n",
    "\n",
    "Vậy xét đẳng thức $c_1^u*c_2^v=m^{e_1*u+e_2*v}=m$ $(mod$ $n)$ $\\Rightarrow m=1244183534^{252426389}*(732959706^{496549570})^{-1}$ $(mod$ $1889570071)=1054592380$"
   ]
  },
  {
   "attachments": {},
   "cell_type": "markdown",
   "metadata": {},
   "source": [
    "#### 3.14"
   ]
  },
  {
   "cell_type": "code",
   "execution_count": 4,
   "metadata": {},
   "outputs": [
    {
     "name": "stdout",
     "output_type": "stream",
     "text": [
      "(a). 1105 is composite. Witness = 333\n",
      "(b) + (c). 294409 is composite. Witness = 165811\n",
      "(d). 118901509 is probably prime. Witness = [81386180, 65644858, 26302546, 10407784, 14926588, 60940259, 69832787, 114180051, 14356736, 114718804]\n",
      "(e). 118901521 is composite. Witness = 85789505\n",
      "(f). 118901527 is probably prime. Witness = [100741604, 90484343, 61766249, 101719615, 109336035, 86304710, 52874890, 83010743, 19525212, 21596686]\n",
      "(g). 118915387 is composite. Witness = 713468\n"
     ]
    }
   ],
   "source": [
    "def miller_rabin_test(a, n):\n",
    "    if n % 2 == 0 or math.gcd(a, n) > 1: return 0\n",
    "\n",
    "    q = n - 1\n",
    "    k = 0\n",
    "    while q % 2 == 0:\n",
    "        k += 1\n",
    "        q //= 2\n",
    "    \n",
    "    a = pow(a, q, n)\n",
    "    if a == 1: return 1\n",
    "    for i in range(k):\n",
    "        if a == n - 1: return 1\n",
    "        a = (a * a) % n\n",
    "    return 0\n",
    "\n",
    "n = 1105\n",
    "ok = 0\n",
    "tmp = []\n",
    "for i in range(10):\n",
    "    a = random.randint(2, n - 1)\n",
    "    tmp.append(a)\n",
    "    if miller_rabin_test(a, n) == 0:\n",
    "        print(\"(a).\", n, \"is composite. Witness =\", a)\n",
    "        ok = 1\n",
    "        break\n",
    "if ok == 0: print(\"(a).\", n, \"is probably prime. Witness =\", tmp)\n",
    "\n",
    "n = 294409\n",
    "ok = 0\n",
    "tmp = []\n",
    "for i in range(10):\n",
    "    a = random.randint(2, n - 1)\n",
    "    tmp.append(a)\n",
    "    if miller_rabin_test(a, n) == 0:\n",
    "        print(\"(b) + (c).\", n, \"is composite. Witness =\", a)\n",
    "        ok = 1\n",
    "        break\n",
    "if ok == 0: print(\"(b) + (c).\", n, \"is probably prime. Witness =\", tmp)\n",
    "\n",
    "n = 118901509\n",
    "ok = 0\n",
    "tmp = []\n",
    "for i in range(10):\n",
    "    a = random.randint(2, n - 1)\n",
    "    tmp.append(a)\n",
    "    if miller_rabin_test(a, n) == 0:\n",
    "        print(\"(d).\", n, \"is composite. Witness =\", a)\n",
    "        ok = 1\n",
    "        break\n",
    "if ok == 0: print(\"(d).\", n, \"is probably prime. Witness =\", tmp)\n",
    "\n",
    "n = 118901521\n",
    "ok = 0\n",
    "tmp = []\n",
    "for i in range(10):\n",
    "    a = random.randint(2, n - 1)\n",
    "    tmp.append(a)\n",
    "    if miller_rabin_test(a, n) == 0:\n",
    "        print(\"(e).\", n, \"is composite. Witness =\", a)\n",
    "        ok = 1\n",
    "        break\n",
    "if ok == 0: print(\"(e).\", n, \"is probably prime. Witness =\", tmp)\n",
    "\n",
    "n = 118901527\n",
    "ok = 0\n",
    "tmp = []\n",
    "for i in range(10):\n",
    "    a = random.randint(2, n - 1)\n",
    "    tmp.append(a)\n",
    "    if miller_rabin_test(a, n) == 0:\n",
    "        print(\"(f).\", n, \"is composite. Witness =\", a)\n",
    "        ok = 1\n",
    "        break\n",
    "if ok == 0: print(\"(f).\", n, \"is probably prime. Witness =\", tmp)\n",
    "\n",
    "n = 118915387\n",
    "ok = 0\n",
    "tmp = []\n",
    "for i in range(10):\n",
    "    a = random.randint(2, n - 1)\n",
    "    tmp.append(a)\n",
    "    if miller_rabin_test(a, n) == 0:\n",
    "        print(\"(g).\", n, \"is composite. Witness =\", a)\n",
    "        ok = 1\n",
    "        break\n",
    "if ok == 0: print(\"(g).\", n, \"is probably prime. Witness =\", tmp)"
   ]
  },
  {
   "attachments": {},
   "cell_type": "markdown",
   "metadata": {},
   "source": [
    "#### 3.16"
   ]
  },
  {
   "cell_type": "code",
   "execution_count": 5,
   "metadata": {},
   "outputs": [
    {
     "name": "stdout",
     "output_type": "stream",
     "text": [
      "r(20) = 8\n",
      "r(30) = 10\n",
      "r(100) = 25; ratio(100) = 1.151292546497023\n",
      "r(1000) = 168; ratio(1000) = 1.1605028868689988\n",
      "r(10000) = 1229; ratio(10000) = 1.131950831715873\n",
      "r(100000) = 9592; ratio(100000) = 1.1043198105999443\n"
     ]
    },
    {
     "data": {
      "text/plain": [
       "Text(0, 0.5, 'Ratio')"
      ]
     },
     "execution_count": 5,
     "metadata": {},
     "output_type": "execute_result"
    },
    {
     "data": {
      "image/png": "[encoded data removed]",
      "text/plain": [
       "<Figure size 640x480 with 1 Axes>"
      ]
     },
     "metadata": {},
     "output_type": "display_data"
    }
   ],
   "source": [
    "def count_prime(n):\n",
    "    cnt = 0\n",
    "    for i in range(2, n + 1):\n",
    "        ok = 1\n",
    "        for j in range(10):\n",
    "            if i - 1 < 2:\n",
    "                break\n",
    "            a = random.randint(2, i - 1)\n",
    "            if miller_rabin_test(a, i) == 0:\n",
    "                ok = 0\n",
    "                break\n",
    "        if ok == 1 or i == 2:\n",
    "            cnt += 1\n",
    "    return cnt\n",
    "\n",
    "print(\"r(20) =\", count_prime(20))\n",
    "print(\"r(30) =\", count_prime(30))\n",
    "print(\"r(100) =\", str(count_prime(100)) + str(\";\"), \"ratio(100) =\", count_prime(100) / (100 / math.log(100)))\n",
    "print(\"r(1000) =\", str(count_prime(1000)) + str(\";\"), \"ratio(1000) =\", count_prime(1000) / (1000 / math.log(1000)))\n",
    "print(\"r(10000) =\", str(count_prime(10000)) + str(\";\"), \"ratio(10000) =\", count_prime(10000) / (10000 / math.log(10000)))\n",
    "print(\"r(100000) =\", str(count_prime(100000)) + str(\";\"), \"ratio(100000) =\", count_prime(100000) / (100000 / math.log(100000)))\n",
    "\n",
    "x = []\n",
    "y = []\n",
    "for i in range(1, 7):\n",
    "    x.append(pow(10, i))\n",
    "    y.append(count_prime(pow(10, i)) / (pow(10, i) / math.log(pow(10, i))))\n",
    "plt.plot(np.array(x), np.array(y))\n",
    "plt.xlabel(\"X value\")\n",
    "plt.ylabel(\"Ratio\")"
   ]
  },
  {
   "attachments": {},
   "cell_type": "markdown",
   "metadata": {},
   "source": [
    "#### 3.17"
   ]
  },
  {
   "cell_type": "code",
   "execution_count": 6,
   "metadata": {},
   "outputs": [
    {
     "name": "stdout",
     "output_type": "stream",
     "text": [
      "(a). r_1(10) = 1; r_3(10) = 2\n",
      "     r_1(25) = 3; r_3(25) = 5\n",
      "     r_1(100) = 11; r_3(100) = 13\n",
      "(b). ratio(100) = 1.1818181818181819\n",
      "     ratio(1000) = 1.0875\n",
      "     ratio(10000) = 1.0164203612479474\n",
      "     ratio(100000) = 1.005226845076312\n"
     ]
    },
    {
     "data": {
      "text/plain": [
       "Text(0, 0.5, 'Ratio')"
      ]
     },
     "execution_count": 6,
     "metadata": {},
     "output_type": "execute_result"
    },
    {
     "data": {
      "image/png": "[encoded data removed]",
      "text/plain": [
       "<Figure size 640x480 with 1 Axes>"
      ]
     },
     "metadata": {},
     "output_type": "display_data"
    }
   ],
   "source": [
    "def count_prime_mod1(n):\n",
    "    cnt = 0\n",
    "    for i in range(5, n + 1, 4):\n",
    "        ok = 1\n",
    "        for j in range(10):\n",
    "            if i - 1 < 2:\n",
    "                break\n",
    "            a = random.randint(2, i - 1)\n",
    "            if miller_rabin_test(a, i) == 0:\n",
    "                ok = 0\n",
    "                break\n",
    "        if ok == 1 or i == 2:\n",
    "            cnt += 1\n",
    "    return cnt\n",
    "\n",
    "def count_prime_mod3(n):\n",
    "    cnt = 0\n",
    "    for i in range(3, n + 1, 4):\n",
    "        ok = 1\n",
    "        for j in range(10):\n",
    "            if i - 1 < 2:\n",
    "                break\n",
    "            a = random.randint(2, i - 1)\n",
    "            if miller_rabin_test(a, i) == 0:\n",
    "                ok = 0\n",
    "                break\n",
    "        if ok == 1 or i == 2:\n",
    "            cnt += 1\n",
    "    return cnt\n",
    "\n",
    "print(\"(a). r_1(10) =\", str(count_prime_mod1(10)) + \";\", \"r_3(10) =\", count_prime_mod3(10))\n",
    "print(\"     r_1(25) =\", str(count_prime_mod1(25)) + \";\", \"r_3(25) =\", count_prime_mod3(25))\n",
    "print(\"     r_1(100) =\", str(count_prime_mod1(100)) + \";\", \"r_3(100) =\", count_prime_mod3(100))\n",
    "\n",
    "def calc_ratio(n):\n",
    "    return count_prime_mod3(n) / count_prime_mod1(n)\n",
    "\n",
    "print(\"(b). ratio(100) =\", calc_ratio(100))\n",
    "print(\"     ratio(1000) =\", calc_ratio(1000))\n",
    "print(\"     ratio(10000) =\", calc_ratio(10000))\n",
    "print(\"     ratio(100000) =\", calc_ratio(100000))\n",
    "\n",
    "x = []\n",
    "y = []\n",
    "for i in range(2, 9):\n",
    "    x.append(pow(5, i))\n",
    "    y.append(calc_ratio(pow(5, i)))\n",
    "plt.plot(np.array(x), np.array(y))\n",
    "plt.xlabel(\"X value\")\n",
    "plt.ylabel(\"Ratio\")"
   ]
  },
  {
   "attachments": {},
   "cell_type": "markdown",
   "metadata": {},
   "source": [
    "Số lượng số nguyên tố đồng dư $3$ mod $4$ và đồng dư $1$ mod $4$ là gần như tương đương nhau khi giá trị $n$ tiến ra vô cực"
   ]
  },
  {
   "attachments": {},
   "cell_type": "markdown",
   "metadata": {},
   "source": [
    "#### 3.20"
   ]
  },
  {
   "attachments": {},
   "cell_type": "markdown",
   "metadata": {},
   "source": [
    "(a) Áp dụng tích phân từng phần ta có\n",
    "\n",
    "$Li(X)=\\displaystyle \\int _{2}^{X }\\mathrm \\displaystyle\\frac{dt}{ln(t)}\\,=\\displaystyle \\int _{2}^{X }\\mathrm \\displaystyle\\frac{dt}{ln(t)}\\, \\bigg(u=\\displaystyle\\frac{1}{ln(t)}\\rightarrow du = \\displaystyle\\frac{-1}{t*ln(t)^2}, dv=dt\\rightarrow v=t\\bigg)=\\displaystyle\\frac{t}{ln(t)} \\bigg|^X_2+ \\displaystyle \\int _{2}^{X }\\mathrm \\displaystyle\\frac{dt}{ln(t)^2}=\\displaystyle\\frac{X}{ln(X)} + O(1) + \\displaystyle \\int _{2}^{X }\\mathrm \\displaystyle\\frac{dt}{ln(t)^2}$"
   ]
  },
  {
   "attachments": {},
   "cell_type": "markdown",
   "metadata": {},
   "source": [
    "#### 3.21"
   ]
  },
  {
   "cell_type": "code",
   "execution_count": 7,
   "metadata": {},
   "outputs": [
    {
     "name": "stdout",
     "output_type": "stream",
     "text": [
      "(a). n = 1739 = 37 * 47\n",
      "(b). n = 220459 = 449 * 491\n",
      "(c). n = 48356747 = 6917 * 6991\n"
     ]
    }
   ],
   "source": [
    "def pollard(n):\n",
    "    a = 2\n",
    "    i = 2\n",
    "    while True:\n",
    "        a = pow(a, i, n)\n",
    "        i += 1\n",
    "        d = math.gcd(a - 1, n)\n",
    "        if d > 1: return d, n // d\n",
    "\n",
    "p, q = pollard(1739)\n",
    "print(f\"(a). n = 1739 = {p} * {q}\")\n",
    "p, q = pollard(220459)\n",
    "print(f\"(b). n = 220459 = {p} * {q}\")\n",
    "p, q = pollard(48356747)\n",
    "print(f\"(c). n = 48356747 = {p} * {q}\")"
   ]
  },
  {
   "attachments": {},
   "cell_type": "markdown",
   "metadata": {},
   "source": [
    "#### 3.23"
   ]
  },
  {
   "cell_type": "code",
   "execution_count": 8,
   "metadata": {},
   "outputs": [
    {
     "name": "stdout",
     "output_type": "stream",
     "text": [
      "(a). n = 53357 = 233 * 229\n",
      "(b). n = 34571 = 191 * 181\n",
      "(c). n = 25777 = 173 * 149\n",
      "(d). n = 64213 = 409 * 157\n"
     ]
    }
   ],
   "source": [
    "def factor1(n):\n",
    "    count = 1\n",
    "    while True:\n",
    "        temp = n + count * count\n",
    "        if abs(int(math.sqrt(temp)) - math.sqrt(temp)) < 1e-7: return int(math.sqrt(temp)), count\n",
    "        count += 1\n",
    "\n",
    "a, b = factor1(53357)\n",
    "print(\"(a). n = 53357 =\", a + b, \"*\", abs(a - b))\n",
    "\n",
    "a, b = factor1(34571)\n",
    "print(\"(b). n = 34571 =\", a + b, \"*\", abs(a - b))\n",
    "\n",
    "a, b = factor1(25777)\n",
    "print(\"(c). n = 25777 =\", a + b, \"*\", abs(a - b))\n",
    "\n",
    "a, b = factor1(64213)\n",
    "print(\"(d). n = 64213 =\", a + b, \"*\", abs(a - b))"
   ]
  },
  {
   "attachments": {},
   "cell_type": "markdown",
   "metadata": {},
   "source": [
    "#### 3.25"
   ]
  },
  {
   "attachments": {},
   "cell_type": "markdown",
   "metadata": {},
   "source": [
    "(a) $1882^2*1898^2=30382^2=2*3^3* 5*2*3^5*5^3=(2*3^4*5^2)^2=4050^2$ $(mod$ $61063) \\rightarrow a=30382$ và $b=4050$\n",
    "\n",
    "$\\rightarrow gcd(61063, 30382-4050)=gcd(61063, 26632)=1 \\rightarrow$ Với dữ liệu được cung cấp thì không giải được bài toán phân tích số $61063$\n",
    "\n",
    "(b) $763^2*773^2=7822^2=2^6*3*2^6*3^5=(2^6*3^3)^2=1728^2$ $(mod$ $52907) \\rightarrow a=7822$ và $b=1728$\n",
    "\n",
    "$\\rightarrow gcd(52907, 7822-1728)=gcd(52907, 6094)=277 \\rightarrow 52907 = 277 * 191$\n",
    "\n",
    "(c) $2378^2*1605^2*2815^2=64248^2=2^5*3^3*5^3*2*7^3*3*5*7=(2^3*3^2*5^2*7^2)^2=88200^2$ $(mod$ $198103) \\rightarrow a=64248$ và $b=88200$\n",
    "\n",
    "$\\rightarrow gcd(198103, 88200-64248)=gcd(198103, 23952)=499 \\rightarrow 198103 = 499 * 397$\n",
    "\n",
    "(d) $4773^2*5275^2*5401^2=214699^2=(2^4*3^5*5^2*7^2*11)^2=1872980^2$ $(mod$ $2525891) \\rightarrow a=214699$ và $b=1872980$\n",
    "\n",
    "$\\rightarrow gcd(2525891, 1872980-214699)=gcd(2525891, 1658281)=1637 \\rightarrow 2525891 = 1637 * 1543$"
   ]
  },
  {
   "attachments": {},
   "cell_type": "markdown",
   "metadata": {},
   "source": [
    "#### 3.33"
   ]
  },
  {
   "attachments": {},
   "cell_type": "markdown",
   "metadata": {},
   "source": [
    "(a) Với $n=493$, ta tạo 1 danh sách từ $F(23)$ đến $F(38)$. $[36, 83, 132, 183, 236, 291, 348, 407, 468, 531, 596, 663, 732, 803, 876, 951]$ và $B=11$\n",
    "\n",
    "$p=2\\rightarrow [18, 83, 66, 183, 118, 291, 174, 407, 234, 531, 298, 663, 366, 803, 438, 951]$\n",
    "\n",
    "$p=3\\rightarrow [6, 83, 22, 61, 118, 97, 58, 407, 78, 177, 298, 221, 122, 803, 146, 317]$\n",
    "\n",
    "$p=4=2^2\\rightarrow [3, 83, 11, 61, 59, 97, 29, 407, 39, 177, 149, 221, 61, 803, 73, 317]$\n",
    "\n",
    "$p=5\\rightarrow [3, 83, 11, 61, 59, 97, 29, 407, 39, 177, 149, 221, 61, 803, 73, 317]$\n",
    "\n",
    "$p=7\\rightarrow [3, 83, 11, 61, 59, 97, 29, 407, 39, 177, 149, 221, 61, 803, 73, 317]$\n",
    "\n",
    "$p=9\\rightarrow [1, 83, 11, 61, 59, 97, 29, 407, 13, 59, 149, 221, 61, 803, 73, 317]$\n",
    "\n",
    "$p=11\\rightarrow [1, 83, 1, 61, 59, 97, 29, 37, 13, 59, 149, 221, 61, 73, 73, 317]$\n",
    "\n",
    "Vậy $F(23)=36$ và $F(25)=132$ được sàng về $1$ với $B=11$\n",
    "\n",
    "$23^2=2^2*3^2$ $(mod$ $493)$ và $25^2=2^2*3*11$ $(mod$ $493)$\n",
    "\n",
    "Có: $23^2=6^2$ $(mod$ $493)$ và $gcd(23-6, 493)=17$ $\\rightarrow 493=17*29$\n",
    "\n",
    "(b) Danh sách từ $F(23)$ đến $F(50)$ là $[36, 83, 132, 183, 236, 291, 348, 407, 468, 531, 596, 663, 732, 803, 876, 951, 1028, 1107, 1188, 1271, 1356, 1443, 1532, 1623, 1716, 1811, 1908, 2007]$\n",
    "\n",
    "$p=2\\rightarrow [18, 83, 66, 183, 118, 291, 174, 407, 234, 531, 298, 663, 366, 803, 438, 951, 514, 1107, 594, 1271, 678, 1443, 766, 1623, 858, 1811, 954, 2007]$\n",
    "\n",
    "$p=3\\rightarrow [6, 83, 22, 61, 118, 97, 58, 407, 78, 177, 298, 221, 122, 803, 146, 317, 514, 369, 198, 1271, 226, 481, 766, 541, 286, 1811, 318, 669]$\n",
    "\n",
    "$p=4=2^2\\rightarrow [3, 83, 11, 61, 59, 97, 29, 407, 39, 177, 149, 221, 61, 803, 73, 317, 257, 369, 99, 1271, 113, 481, 383, 541, 143, 1811, 159, 669]$\n",
    "\n",
    "$p=5\\rightarrow [3, 83, 11, 61, 59, 97, 29, 407, 39, 177, 149, 221, 61, 803, 73, 317, 257, 369, 99, 1271, 113, 481, 383, 541, 143, 1811, 159, 669]$\n",
    "\n",
    "$p=7\\rightarrow [3, 83, 11, 61, 59, 97, 29, 407, 39, 177, 149, 221, 61, 803, 73, 317, 257, 369, 99, 1271, 113, 481, 383, 541, 143, 1811, 159, 669]$\n",
    "\n",
    "$p=8=2^3\\rightarrow [3, 83, 11, 61, 59, 97, 29, 407, 39, 177, 149, 221, 61, 803, 73, 317, 257, 369, 99, 1271, 113, 481, 383, 541, 143, 1811, 159, 669]$\n",
    "\n",
    "$p=9\\rightarrow [1, 83, 11, 61, 59, 97, 29, 407, 13, 59, 149, 221, 61, 803, 73, 317, 257, 123, 33, 1271, 113, 481, 383, 541, 143, 1811, 53, 223]$\n",
    "\n",
    "$p=11\\rightarrow [1, 83, 1, 61, 59, 97, 29, 37, 13, 59, 149, 221, 61, 73, 73, 317, 257, 123, 3, 1271, 113, 481, 383, 541, 13, 1811, 53, 223]$\n",
    "\n",
    "$p=13\\rightarrow [1, 83, 1, 61, 59, 97, 29, 37, 1, 59, 149, 17, 61, 73, 73, 317, 257, 123, 3, 1271, 113, 37, 383, 541, 1, 1811, 53, 223]$\n",
    "\n",
    "$p=16=2^4\\rightarrow [1, 83, 1, 61, 59, 97, 29, 37, 1, 59, 149, 17, 61, 73, 73, 317, 257, 123, 3, 1271, 113, 37, 383, 541, 1, 1811, 53, 223]$\n",
    "\n",
    "Vậy ngoài $F(23)$ và $F(25)$ thì ta còn có $F(31)$ và $F(47)$\n",
    "\n",
    "$31^2=2^2*3^2*13$ $(mod$ $493)$ và $47^2=2^2*3*11*13$ $(mod$ $493)$"
   ]
  },
  {
   "attachments": {},
   "cell_type": "markdown",
   "metadata": {},
   "source": [
    "#### 3.34"
   ]
  },
  {
   "attachments": {},
   "cell_type": "markdown",
   "metadata": {},
   "source": [
    "(a) $u=-5-2\\beta + 9\\beta ^2 -9\\beta ^3$ và $v=2+9\\beta -7\\beta ^2 +7\\beta ^3$\n",
    "\n",
    "$\\rightarrow u+v=-3+7\\beta +2\\beta ^2-2\\beta^3$\n",
    "\n",
    "Nhân 2 phần tử $u$ và $v$ ta ra được $-10-49\\beta+35\\beta ^2 +42\\beta ^3-158\\beta ^4+126\\beta ^5 - 63\\beta ^6$\n",
    "\n",
    "Lấy phần dư của kết quả trên cho đa thức $f(x)=1+3x-2x^3+x^4$ ta được $uv=-85\\beta^3+98\\beta^2+425\\beta+148$\n",
    "\n",
    "(b) $u=9+9\\beta + 6\\beta ^2 -5\\beta ^3$ và $v=-4-6\\beta -2\\beta ^2 -5\\beta ^3$\n",
    "\n",
    "$\\rightarrow u+v=5+3\\beta +4\\beta ^2-10\\beta^3$\n",
    "\n",
    "Nhân 2 phần tử $u$ và $v$ ta ra được $-36-90\\beta-96\\beta ^2-79\\beta ^3-27\\beta ^4-20\\beta ^5+25\\beta ^6$\n",
    "\n",
    "Lấy phần dư của kết quả trên cho đa thức $f(x)=1+3x-2x^3+x^4$ ta được $uv=-88\\beta^3-211\\beta^2-219\\beta-69$\n",
    "\n",
    "(c) $u=6-5\\beta + 3\\beta ^2 +3\\beta ^3$ và $v=-2+7\\beta +6\\beta ^2$\n",
    "\n",
    "$\\rightarrow u+v=4+2\\beta +9\\beta ^2+3\\beta^3$\n",
    "\n",
    "Nhân 2 phần tử $u$ và $v$ ta ra được $-12+52\\beta-5\\beta ^2 -15\\beta ^3+39\\beta ^4+18\\beta ^5$\n",
    "\n",
    "Lấy phần dư của kết quả trên cho đa thức $f(x)=1+3x-2x^3+x^4$ ta được $uv=135\\beta^3-59\\beta^2-191\\beta-87$"
   ]
  },
  {
   "attachments": {},
   "cell_type": "markdown",
   "metadata": {},
   "source": [
    "#### 3.35"
   ]
  },
  {
   "attachments": {},
   "cell_type": "markdown",
   "metadata": {},
   "source": [
    "(a) $p=19079$ và $g=17$\n",
    "\n",
    "$i=3030\\rightarrow 17^{3030}\\equiv 14580\\equiv 2^2*3^6*5$ $(mod$ $19079)$ là 5-smooth\n",
    "\n",
    "$i=6892\\rightarrow 17^{6892}\\equiv 18432\\equiv 2^{11}*3^2$ $(mod$ $19079)$ là 5-smooth (hay 3-smooth)\n",
    "\n",
    "$i=18312\\rightarrow 17^{18312}\\equiv 6000\\equiv 2^4*3*5^3$ $(mod$ $19079)$ là 5-smooth\n",
    "\n",
    "(b) Lấy $log_{17}$ trong $\\mathbb{F}_{19079}$ cho 2 vế ta có\n",
    "\n",
    "$3030 = 2*log_{17}(2) + 6*log_{17}(3) + log_{17}(5)$ $(mod$ $19078)$\n",
    "\n",
    "$6892 = 11*log_{17}(2) + 2*log_{17}(3)$ $(mod$ $19078)$\n",
    "\n",
    "$18312 = 4*log_{17}(2) + log_{17}(3) + 3*log_{17}(5)$ $(mod$ $19078)$\n",
    "\n",
    "Giải hệ phương trình trên bằng phương pháp Gauss ta được $log_{17}(2)=17734;log_{17}(3)=10838;log_{17}(5)=17002$\n",
    "\n",
    "(c) $19*17^{-12400}\\equiv 384\\equiv 2^7*3$ $(mod$ $19079)$ là 5-smooth\n",
    "\n",
    "(d) $17^x\\equiv 19$ $(mod$ $19079) \\Leftrightarrow 17^{x-12400}\\equiv 19*17^{-12400}\\equiv 2^7*3$ $(mod$ $19079)$\n",
    "\n",
    "Lấy $log_{17}$ trong $\\mathbb{F}_{19079}$ cho 2 vế ta có $x-12400 \\equiv 7*log_{17}(2) + log_{17}(3)\\equiv 1430$ $(mod$ $19078)$ $\\rightarrow x = 13830$"
   ]
  },
  {
   "attachments": {},
   "cell_type": "markdown",
   "metadata": {},
   "source": [
    "#### 3.36"
   ]
  },
  {
   "attachments": {},
   "cell_type": "markdown",
   "metadata": {},
   "source": [
    "(a) Theo định lý Fermat nhỏ ta có $a^{p-1}\\equiv 1$ $(mod$ $p)$ $\\rightarrow a^{(p-1)/2}\\equiv \\pm 1$ $(mod$ $p)$\n",
    "\n",
    "(b) $a \\in \\mathbb{QR}_p$ $\\rightarrow a\\equiv b^2$ $(mod$ $p) \\rightarrow a^{(p-1)/2}\\equiv b^{p-1}\\equiv 1$ $(mod$ $p)$\n",
    "\n",
    "$a^{(p-1)/2}\\equiv 1\\equiv 1^2$ $(mod$ $p) \\rightarrow a \\in \\mathbb{QR}_p$\n",
    "\n",
    "(c) Nếu $a \\in \\mathbb{QR}_p$ $\\rightarrow(\\frac{a}{p})=1$, thì $a^{(p-1)/2}\\equiv 1$ $(mod$ $p)$ (như chứng minh ở trên)\n",
    "\n",
    "Nếu $a \\notin \\mathbb{QR}_p$ $\\rightarrow(\\frac{a}{p})=-1$, thì $a^{(p-1)/2}\\equiv -1$ $(mod$ $p)$ (trường hợp còn lại như câu (a))\n",
    "\n",
    "Nếu $p$ | $a$ $\\rightarrow(\\frac{a}{p})=-1$, thì $a^{(p-1)/2}\\equiv 0$ $(mod$ $p)$ ($a$ chia hết cho $p$)\n",
    "\n",
    "Vậy $a^{(p-1)/2}\\equiv (\\frac{a}{p})$ $(mod$ $p)$\n",
    "\n",
    "(d) Với $p\\equiv 1$ $(mod$ $4)$ thì $p-1=4k$ với $k \\in \\mathbb{Z} \\rightarrow (\\frac{-1}{p})\\equiv(-1)^{(p-1)/2}\\equiv(-1)^{2k}\\equiv 1$ $(mod$ $p)$\n",
    "\n",
    "Với $p\\equiv 3$ $(mod$ $4)$ thì $p-1=4k+2$ với $k \\in \\mathbb{Z} \\rightarrow (\\frac{-1}{p})\\equiv(-1)^{(p-1)/2}\\equiv(-1)^{2k+1}\\equiv -1$ $(mod$ $p)$"
   ]
  },
  {
   "attachments": {},
   "cell_type": "markdown",
   "metadata": {},
   "source": [
    "#### 3.38"
   ]
  },
  {
   "attachments": {},
   "cell_type": "markdown",
   "metadata": {},
   "source": [
    "(a) $p\\equiv 3$ $(mod$ $4) \\rightarrow p+1 = 4k$ với $k \\in \\mathbb{Z}$\n",
    "\n",
    "Với $a\\equiv b^2$ $(mod$ $p)$ ta có $a^{(p+1)/4}\\equiv b^{(p+1)/2}\\equiv b*b^{(p-1)/2}\\equiv \\pm b$ $(mod$ $p)$\n",
    "\n",
    "Vậy $b \\equiv \\pm a^{(p+1)/4}$ $(mod$ $p)$"
   ]
  },
  {
   "cell_type": "code",
   "execution_count": 9,
   "metadata": {},
   "outputs": [
    {
     "name": "stdout",
     "output_type": "stream",
     "text": [
      "(i). b = 65\n",
      "(ii). b = 2980\n",
      "(iii). No solution\n"
     ]
    }
   ],
   "source": [
    "def solve_quadratic_residue(a, p):\n",
    "    if p % 4 != 3: return -1\n",
    "    result = pow(a, (p + 1) // 4, p)\n",
    "    if pow(result, 2, p) == a: return result\n",
    "    return -1\n",
    "\n",
    "res = solve_quadratic_residue(116, 587)\n",
    "if res == -1: print(\"(i). No solution\")\n",
    "else: print(\"(i). b =\", res)\n",
    "\n",
    "res = solve_quadratic_residue(3217, 8627)\n",
    "if res == -1: print(\"(ii). No solution\")\n",
    "else: print(\"(ii). b =\", res)\n",
    "\n",
    "res = solve_quadratic_residue(9109, 10663)\n",
    "if res == -1: print(\"(iii). No solution\")\n",
    "else: print(\"(iii). b =\", res)"
   ]
  }
 ],
 "metadata": {
  "kernelspec": {
   "display_name": "Python 3",
   "language": "python",
   "name": "python3"
  },
  "language_info": {
   "codemirror_mode": {
    "name": "ipython",
    "version": 3
   },
   "file_extension": ".py",
   "mimetype": "text/x-python",
   "name": "python",
   "nbconvert_exporter": "python",
   "pygments_lexer": "ipython3",
   "version": "3.11.1"
  },
  "orig_nbformat": 4,
  "vscode": {
   "interpreter": {
    "hash": "d2c7e20b4de8759bf70f06311a58eeb17bbc254d85ecaa7e2665fd598f87fd62"
   }
  }
 },
 "nbformat": 4,
 "nbformat_minor": 2
}
