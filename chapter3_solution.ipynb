{
 "cells": [
  {
   "attachments": {},
   "cell_type": "markdown",
   "metadata": {},
   "source": [
    "#### Chapter 3: Integer Factorization and RSA"
   ]
  },
  {
   "cell_type": "code",
   "execution_count": 46,
   "metadata": {},
   "outputs": [],
   "source": [
    "import math\n",
    "import random\n",
    "import matplotlib.pyplot as plt\n",
    "import numpy as np"
   ]
  },
  {
   "attachments": {},
   "cell_type": "markdown",
   "metadata": {},
   "source": [
    "#### 3.3"
   ]
  },
  {
   "attachments": {},
   "cell_type": "markdown",
   "metadata": {},
   "source": [
    "(a) $\\phi(6)=2$ do $gcd(1,6)=gcd(5,6)=1$\n",
    "\n",
    "$\\phi(9)=6$ do $gcd(1,9)=gcd(2,9)=gcd(4,9)=gcd(5,9)=gcd(7,9)=gcd(8,9)=1$\n",
    "\n",
    "$\\phi(15)=8$ do $gcd(1,15)=gcd(2,15)=gcd(4,15)=gcd(7,15)=gcd(8,15)=gcd(11,15)=gcd(13,15)=gcd(14,15)=1$\n",
    "\n",
    "$\\phi(17)=16$ do $17$ là số nguyên tố nên mọi số trong khoảng $[1,16]$ đều nguyên tố cùng nhau với $17$\n",
    "\n",
    "(b) Nếu $p$ là số nguyên tố $\\rightarrow$ tất cả các số trong khoảng $[1,p-1]$ đều nguyên tố cùng nhau với $p\\rightarrow \\phi(p)=p-1$\n",
    "\n",
    "(c) Gọi $L=\\{ i \\in \\mathbb{Z_n}$ $:$ $gcd(i,n)=1 \\} \\rightarrow |L|=\\phi(n)$\n",
    "\n",
    "Ta lấy từng phần tử trong tập $L$ và nhân cho một con số $a$ bất kì thuộc $\\mathbb{Z}_n$ thoả $gcd(a,n)=1$ thì $L'=\\{ ia$ $:$ $gcd(i,n)=1 \\}$\n",
    "- Do $gcd(a,n)=1$ và $gcd(i,n)=1$ nên $gcd(ai,n)=1$ $\\rightarrow ai \\in L$ $\\rightarrow L'$ là 1 hoán vị của $L \\rightarrow |L'|=\\phi(n)$\n",
    "\n",
    "Lấy mọi phần tử trong $L'$ nhân với nhau ta có $\\prod_{i=1\\&gcd(i,n)=1}^{n}(i*a)=\\prod_{i=1\\&gcd(i,n)=1}^{n}(i)$ $(mod$ $n)$ $\\Rightarrow a^{\\phi(n)}=1$ $(mod$ $n)$ "
   ]
  },
  {
   "attachments": {},
   "cell_type": "markdown",
   "metadata": {},
   "source": [
    "#### 3.5"
   ]
  },
  {
   "attachments": {},
   "cell_type": "markdown",
   "metadata": {},
   "source": [
    "(a) Tính $d$ thoả $d=e^{-1}$ $(mod$ $\\phi(n))$ (có thể tính được do $gcd(e, \\phi(n)) = 1$) $\\rightarrow ed=1$ $(mod$ $n)$\n",
    "\n",
    "$x^e=c$ $(mod$ $n)$ $\\rightarrow x^{ed}=c^d$ $(mod$ $n)$\n",
    "\n",
    "Do $gcd(n,c)=1$ $\\rightarrow gcd(n,x)=1$ $\\rightarrow x^{\\phi(n)}=1$ $(mod$ $n)$ $\\rightarrow x^{ed\\text{ }\\%\\text{ }\\phi(n)}=x=c^d$ $(mod$ $n)$"
   ]
  },
  {
   "cell_type": "code",
   "execution_count": 47,
   "metadata": {},
   "outputs": [
    {
     "name": "stdout",
     "output_type": "stream",
     "text": [
      "(i). x = 1390\n",
      "(ii). x = 147\n",
      "(iii). x = 1892929\n"
     ]
    }
   ],
   "source": [
    "def solve35(e, c, n):\n",
    "    factor = []\n",
    "    pi = 2\n",
    "    tmp = n\n",
    "    while tmp != 1:\n",
    "        while tmp % pi == 0:\n",
    "            if pi not in factor: factor.append(pi)\n",
    "            tmp //= pi\n",
    "        pi += 1\n",
    "    \n",
    "    phi_n = n\n",
    "    for x in factor:\n",
    "        phi_n = phi_n // x * (x - 1)\n",
    "    \n",
    "    d = pow(e, -1, phi_n)\n",
    "    return pow(c, d, n)\n",
    "\n",
    "print(\"(i). x =\", solve35(577, 60, 1463))\n",
    "print(\"(ii). x =\", solve35(959, 1583, 1625))\n",
    "print(\"(iii). x =\", solve35(133957, 224689, 2134440))"
   ]
  },
  {
   "attachments": {},
   "cell_type": "markdown",
   "metadata": {},
   "source": [
    "#### 3.8"
   ]
  },
  {
   "cell_type": "code",
   "execution_count": 48,
   "metadata": {},
   "outputs": [
    {
     "name": "stdout",
     "output_type": "stream",
     "text": [
      "(a). (677, 521)\n",
      "(b). (10007, 7703)\n",
      "(c). (17183, 6367)\n",
      "(d). (422183, 407893)\n"
     ]
    }
   ],
   "source": [
    "def solve_factor(a, b):\n",
    "    sum_prime = a - b + 1 # p + q = pq + 1 - (p - 1)(q - 1) = a + 1 - b\n",
    "    delta = sum_prime * sum_prime - 4 * a\n",
    "    p = (sum_prime + int(math.sqrt(delta))) // 2\n",
    "    q = (sum_prime - int(math.sqrt(delta))) // 2\n",
    "    return p, q\n",
    "\n",
    "print(\"(a).\", solve_factor(352717, 351520))\n",
    "print(\"(b).\", solve_factor(77083921, 77066212))\n",
    "print(\"(c).\", solve_factor(109404161, 109380612))\n",
    "print(\"(d).\", solve_factor(172205490419, 172204660344))"
   ]
  },
  {
   "attachments": {},
   "cell_type": "markdown",
   "metadata": {},
   "source": [
    "#### 3.12"
   ]
  },
  {
   "attachments": {},
   "cell_type": "markdown",
   "metadata": {},
   "source": [
    "Do $gcd(e_1,e_2)=gcd(1021763679,519424709)=1 \\rightarrow$ có thể tìm lại được tin nhắn $m$\n",
    "\n",
    "Xét phương trình $e_1*u+e_2*v=gcd(e_1,e_2) \\rightarrow 1021763679*u+519424709*v=1$\n",
    "\n",
    "Sử dụng định lý **Bezout** ta giải ra được $u=252426389$ và $v=-496549570$\n",
    "\n",
    "Vậy xét đẳng thức $c_1^u*c_2^v=m^{e_1*u+e_2*v}=m$ $(mod$ $n)$ $\\Rightarrow m=1244183534^{252426389}*(732959706^{496549570})^{-1}$ $(mod$ $1889570071)=1054592380$"
   ]
  },
  {
   "attachments": {},
   "cell_type": "markdown",
   "metadata": {},
   "source": [
    "#### 3.14"
   ]
  },
  {
   "cell_type": "code",
   "execution_count": 49,
   "metadata": {},
   "outputs": [
    {
     "name": "stdout",
     "output_type": "stream",
     "text": [
      "(a). 1105 is composite. Witness = 97\n",
      "(b) + (c). 294409 is composite. Witness = 192740\n",
      "(d). 118901509 is probably prime. Witness = [104298968, 6724074, 30373268, 55587264, 33042464, 102805607, 58800684, 78266775, 23567334, 86161545]\n",
      "(e). 118901521 is composite. Witness = 32583734\n",
      "(f). 118901527 is probably prime. Witness = [101343031, 17634817, 83165383, 49475133, 45600084, 21917649, 30647973, 106658181, 20238324, 47061717]\n",
      "(g). 118915387 is composite. Witness = 56539066\n"
     ]
    }
   ],
   "source": [
    "def miller_rabin_test(a, n):\n",
    "    if n % 2 == 0 or math.gcd(a, n) > 1: return 0\n",
    "\n",
    "    q = n - 1\n",
    "    k = 0\n",
    "    while q % 2 == 0:\n",
    "        k += 1\n",
    "        q //= 2\n",
    "    \n",
    "    a = pow(a, q, n)\n",
    "    if a == 1: return 1\n",
    "    for i in range(k):\n",
    "        if a == n - 1: return 1\n",
    "        a = (a * a) % n\n",
    "    return 0\n",
    "\n",
    "n = 1105\n",
    "ok = 0\n",
    "tmp = []\n",
    "for i in range(10):\n",
    "    a = random.randint(2, n - 1)\n",
    "    tmp.append(a)\n",
    "    if miller_rabin_test(a, n) == 0:\n",
    "        print(\"(a).\", n, \"is composite. Witness =\", a)\n",
    "        ok = 1\n",
    "        break\n",
    "if ok == 0: print(\"(a).\", n, \"is probably prime. Witness =\", tmp)\n",
    "\n",
    "n = 294409\n",
    "ok = 0\n",
    "tmp = []\n",
    "for i in range(10):\n",
    "    a = random.randint(2, n - 1)\n",
    "    tmp.append(a)\n",
    "    if miller_rabin_test(a, n) == 0:\n",
    "        print(\"(b) + (c).\", n, \"is composite. Witness =\", a)\n",
    "        ok = 1\n",
    "        break\n",
    "if ok == 0: print(\"(b) + (c).\", n, \"is probably prime. Witness =\", tmp)\n",
    "\n",
    "n = 118901509\n",
    "ok = 0\n",
    "tmp = []\n",
    "for i in range(10):\n",
    "    a = random.randint(2, n - 1)\n",
    "    tmp.append(a)\n",
    "    if miller_rabin_test(a, n) == 0:\n",
    "        print(\"(d).\", n, \"is composite. Witness =\", a)\n",
    "        ok = 1\n",
    "        break\n",
    "if ok == 0: print(\"(d).\", n, \"is probably prime. Witness =\", tmp)\n",
    "\n",
    "n = 118901521\n",
    "ok = 0\n",
    "tmp = []\n",
    "for i in range(10):\n",
    "    a = random.randint(2, n - 1)\n",
    "    tmp.append(a)\n",
    "    if miller_rabin_test(a, n) == 0:\n",
    "        print(\"(e).\", n, \"is composite. Witness =\", a)\n",
    "        ok = 1\n",
    "        break\n",
    "if ok == 0: print(\"(e).\", n, \"is probably prime. Witness =\", tmp)\n",
    "\n",
    "n = 118901527\n",
    "ok = 0\n",
    "tmp = []\n",
    "for i in range(10):\n",
    "    a = random.randint(2, n - 1)\n",
    "    tmp.append(a)\n",
    "    if miller_rabin_test(a, n) == 0:\n",
    "        print(\"(f).\", n, \"is composite. Witness =\", a)\n",
    "        ok = 1\n",
    "        break\n",
    "if ok == 0: print(\"(f).\", n, \"is probably prime. Witness =\", tmp)\n",
    "\n",
    "n = 118915387\n",
    "ok = 0\n",
    "tmp = []\n",
    "for i in range(10):\n",
    "    a = random.randint(2, n - 1)\n",
    "    tmp.append(a)\n",
    "    if miller_rabin_test(a, n) == 0:\n",
    "        print(\"(g).\", n, \"is composite. Witness =\", a)\n",
    "        ok = 1\n",
    "        break\n",
    "if ok == 0: print(\"(g).\", n, \"is probably prime. Witness =\", tmp)"
   ]
  },
  {
   "attachments": {},
   "cell_type": "markdown",
   "metadata": {},
   "source": [
    "#### 3.16"
   ]
  },
  {
   "cell_type": "code",
   "execution_count": 50,
   "metadata": {},
   "outputs": [
    {
     "name": "stdout",
     "output_type": "stream",
     "text": [
      "r(20) = 8\n",
      "r(30) = 10\n",
      "r(100) = 25; ratio(100) = 1.151292546497023\n",
      "r(1000) = 168; ratio(1000) = 1.1605028868689988\n",
      "r(10000) = 1229; ratio(10000) = 1.131950831715873\n",
      "r(100000) = 9592; ratio(100000) = 1.1043198105999443\n"
     ]
    },
    {
     "data": {
      "text/plain": [
       "Text(0, 0.5, 'Ratio')"
      ]
     },
     "execution_count": 50,
     "metadata": {},
     "output_type": "execute_result"
    },
    {
     "data": {
      "image/png": "[encoded data removed]",
      "text/plain": [
       "<Figure size 432x288 with 1 Axes>"
      ]
     },
     "metadata": {
      "needs_background": "light"
     },
     "output_type": "display_data"
    }
   ],
   "source": [
    "def count_prime(n):\n",
    "    cnt = 0\n",
    "    for i in range(2, n + 1):\n",
    "        ok = 1\n",
    "        for j in range(10):\n",
    "            if i - 1 < 2:\n",
    "                break\n",
    "            a = random.randint(2, i - 1)\n",
    "            if miller_rabin_test(a, i) == 0:\n",
    "                ok = 0\n",
    "                break\n",
    "        if ok == 1 or i == 2:\n",
    "            cnt += 1\n",
    "    return cnt\n",
    "\n",
    "print(\"r(20) =\", count_prime(20))\n",
    "print(\"r(30) =\", count_prime(30))\n",
    "print(\"r(100) =\", str(count_prime(100)) + str(\";\"), \"ratio(100) =\", count_prime(100) / (100 / math.log(100)))\n",
    "print(\"r(1000) =\", str(count_prime(1000)) + str(\";\"), \"ratio(1000) =\", count_prime(1000) / (1000 / math.log(1000)))\n",
    "print(\"r(10000) =\", str(count_prime(10000)) + str(\";\"), \"ratio(10000) =\", count_prime(10000) / (10000 / math.log(10000)))\n",
    "print(\"r(100000) =\", str(count_prime(100000)) + str(\";\"), \"ratio(100000) =\", count_prime(100000) / (100000 / math.log(100000)))\n",
    "\n",
    "x = []\n",
    "y = []\n",
    "for i in range(1, 7):\n",
    "    x.append(pow(10, i))\n",
    "    y.append(count_prime(pow(10, i)) / (pow(10, i) / math.log(pow(10, i))))\n",
    "plt.plot(np.array(x), np.array(y))\n",
    "plt.xlabel(\"X value\")\n",
    "plt.ylabel(\"Ratio\")"
   ]
  }
 ],
 "metadata": {
  "kernelspec": {
   "display_name": "Python 3",
   "language": "python",
   "name": "python3"
  },
  "language_info": {
   "codemirror_mode": {
    "name": "ipython",
    "version": 3
   },
   "file_extension": ".py",
   "mimetype": "text/x-python",
   "name": "python",
   "nbconvert_exporter": "python",
   "pygments_lexer": "ipython3",
   "version": "3.9.7"
  },
  "orig_nbformat": 4,
  "vscode": {
   "interpreter": {
    "hash": "eadba2b3581326a2d7bd273e9d419eb0fab219e321930fd6a453aab726dd8270"
   }
  }
 },
 "nbformat": 4,
 "nbformat_minor": 2
}
