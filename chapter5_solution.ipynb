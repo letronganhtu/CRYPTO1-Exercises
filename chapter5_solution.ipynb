{
 "cells": [
  {
   "cell_type": "markdown",
   "metadata": {},
   "source": [
    "#### Chapter 5: Elliptic Curves and Cryptography"
   ]
  },
  {
   "cell_type": "code",
   "execution_count": 26,
   "metadata": {},
   "outputs": [],
   "source": [
    "import math\n",
    "import numpy as np\n",
    "from tabulate import tabulate"
   ]
  },
  {
   "cell_type": "markdown",
   "metadata": {},
   "source": [
    "#### 5.2\n",
    "\n",
    "(a.1) Tính $P \\oplus Q$ với $P = (-1, 4)$ và $Q = (2, 5)$\n",
    " \n",
    "Đường thẳng $(L)$ đi qua 2 điểm $P$ và $Q$ là $y=\\displaystyle\\frac{x+13}{3}$\n",
    "\n",
    "Giao điểm thứ 3 của $(L)$ và $(E)$ là $R = (-\\frac{8}{9},\\frac{109}{27})\\rightarrow P \\oplus Q=(-\\frac{8}{9},-\\frac{109}{27})$\n",
    "\n",
    "(a.2) Tính $P \\ominus Q = P \\oplus (\\ominus Q)$ với $\\ominus Q = (2, -5)$\n",
    " \n",
    "Đường thẳng $(L)$ đi qua 2 điểm $P$ và $\\ominus Q$ là $y=-3x+1$\n",
    "\n",
    "Giao điểm thứ 3 của $(L)$ và $(E)$ là $R = (8,-23)\\rightarrow P \\ominus Q=(8,23)$\n",
    "\n",
    "(b.1) Tính $2P=P\\oplus P$\n",
    "\n",
    "Tiếp tuyến $(L)$ của $E$ tại $P$ là $y=\\displaystyle\\frac{3}{8}(x+1)+4$\n",
    "\n",
    "Giao điểm thứ 2 của $(L)$ và $(E)$ là $R = (\\frac{137}{64},\\frac{2651}{512})\\rightarrow 2P=(\\frac{137}{64},-\\frac{2651}{512})$\n",
    "\n",
    "(b.2) Tính $2Q=Q\\oplus Q$\n",
    "\n",
    "Tiếp tuyến $(L)$ của $E$ tại $Q$ là $y=\\displaystyle\\frac{6}{5}(x-2)+5$\n",
    "\n",
    "Giao điểm thứ 2 của $(L)$ và $(E)$ là $R = (-\\frac{64}{25},-\\frac{59}{125})\\rightarrow 2Q=(-\\frac{64}{25},\\frac{59}{125})$"
   ]
  },
  {
   "cell_type": "markdown",
   "metadata": {},
   "source": [
    "#### 5.3\n",
    "\n",
    "**Chứng minh theo chiều ngược.**\n",
    "\n",
    "Dễ chứng minh nếu $e_1=e_2=e_3$ thì $e_1=e_2=e_3=A=B=0$ (luôn thoả $4A^3+27B^2=0$).\n",
    "\n",
    "Không mất tính tổng quát, giả sử $e_1=e_2\\neq e_3$ thì theo định lý Viet cho phương trình $X^3+AX+B=0$ ta có hệ phương trình:\n",
    "$$\\begin{cases}\n",
    "    e_1 + e_2 + e_3 = 0 & (1) \\\\\n",
    "    e_1e_2+e_1e_3+e_2e_3=A & (2) \\\\\n",
    "    e_1e_2e_3=-B & (3)\n",
    "  \\end{cases}\n",
    "$$\n",
    "\n",
    "(1) $\\rightarrow e_3 = -2e_1$, (2) $\\rightarrow e_1^2+2e_1e_3=A$ và (3) $\\rightarrow e_1^2e_3=-B$\n",
    "\n",
    "$\\begin{cases}\n",
    "  A = -3e_1^2 \\\\\n",
    "  B = 2e_1^3\n",
    "  \\end{cases} \\rightarrow 4A^3+27B^2=4(-27e_1^6)+27(4e_1^6)=0$"
   ]
  },
  {
   "cell_type": "markdown",
   "metadata": {},
   "source": [
    "**Chứng minh theo chiều xuôi.**\n",
    "\n",
    "Từ Viet cho phương trình bậc 3, thế $e_3=-e_1-e_2$ vào phương trình $4A^3+27B^2=0$ thì ta được $4(e_1e_2-(e_1+e_2)^2)^3+27e_1^2e_2^2(e_1+e_2)^2=0$\n",
    "\n",
    "$\\Leftrightarrow 4e_1^6+12e_1^5e_2-3e_1^4e_2^2-26e_1^3e_2^3-3e_1^2e_2^4+ 12e_1e_2^5 + 4e_2^6 = 0$ $(*)$\n",
    "\n",
    "Do tồn tại ít nhất 2 trong 3 nghiệm trùng nhau $\\rightarrow$ phương trình trên sẽ rút gọn được về dạng $(2e_1+e_2)(e_1+2e_2)(e_1-e_2)=0$\n",
    "\n",
    "Thật vậy, $(*) \\Leftrightarrow (2e_1+e_2)^2(e_1+2e_2)^2(e_1-e_2)^2 = 0$\n",
    "\n",
    "Vậy nếu $2e_1+e_2=0$ thì $e_1=e_3$, $e_1+2e_2=0$ thì $e_2=e_3$, $e_1-e_2=0$ thì $e_1=e_2$. Cho nên ít nhất 2 trong 3 nghiệm trùng nhau"
   ]
  },
  {
   "cell_type": "markdown",
   "metadata": {},
   "source": [
    "#### 5.6"
   ]
  },
  {
   "cell_type": "code",
   "execution_count": 56,
   "metadata": {},
   "outputs": [
    {
     "name": "stdout",
     "output_type": "stream",
     "text": [
      "(a).\n",
      "         0       [1, 2]    [1, 3]    [4, 0]\n",
      "------  ------  --------  --------  --------\n",
      "0       0       [1, 2]    [1, 3]    [4, 0]\n",
      "[1, 2]  [1, 2]  [4, 0]    0         [1, 3]\n",
      "[1, 3]  [1, 3]  0         [4, 0]    [1, 2]\n",
      "[4, 0]  [4, 0]  [1, 3]    [1, 2]    0\n",
      "\n",
      "\n",
      "(b).\n",
      "         0       [2, 1]    [2, 6]    [3, 1]    [3, 6]    [6, 0]\n",
      "------  ------  --------  --------  --------  --------  --------\n",
      "0       0       [2, 1]    [2, 6]    [3, 1]    [3, 6]    [6, 0]\n",
      "[2, 1]  [2, 1]  [3, 6]    0         [2, 6]    [6, 0]    [3, 1]\n",
      "[2, 6]  [2, 6]  0         [3, 1]    [6, 0]    [2, 1]    [3, 6]\n",
      "[3, 1]  [3, 1]  [2, 6]    [6, 0]    [3, 6]    0         [2, 1]\n",
      "[3, 6]  [3, 6]  [6, 0]    [2, 1]    0         [3, 1]    [2, 6]\n",
      "[6, 0]  [6, 0]  [3, 1]    [3, 6]    [2, 1]    [2, 6]    0\n",
      "\n",
      "\n",
      "(c).\n",
      "         0       [0, 4]    [0, 7]    [3, 4]    [3, 7]    [4, 0]    [8, 4]    [8, 7]    [9, 2]    [9, 9]\n",
      "------  ------  --------  --------  --------  --------  --------  --------  --------  --------  --------\n",
      "0       0       [0, 4]    [0, 7]    [3, 4]    [3, 7]    [4, 0]    [8, 4]    [8, 7]    [9, 2]    [9, 9]\n",
      "[0, 4]  [0, 4]  [9, 2]    0         [8, 7]    [9, 9]    [8, 4]    [3, 7]    [4, 0]    [3, 4]    [0, 7]\n",
      "[0, 7]  [0, 7]  0         [9, 9]    [9, 2]    [8, 4]    [8, 7]    [4, 0]    [3, 4]    [0, 4]    [3, 7]\n",
      "[3, 4]  [3, 4]  [8, 7]    [9, 2]    [8, 4]    0         [9, 9]    [0, 7]    [3, 7]    [4, 0]    [0, 4]\n",
      "[3, 7]  [3, 7]  [9, 9]    [8, 4]    0         [8, 7]    [9, 2]    [3, 4]    [0, 4]    [0, 7]    [4, 0]\n",
      "[4, 0]  [4, 0]  [8, 4]    [8, 7]    [9, 9]    [9, 2]    0         [0, 4]    [0, 7]    [3, 7]    [3, 4]\n",
      "[8, 4]  [8, 4]  [3, 7]    [4, 0]    [0, 7]    [3, 4]    [0, 4]    [9, 2]    0         [9, 9]    [8, 7]\n",
      "[8, 7]  [8, 7]  [4, 0]    [3, 4]    [3, 7]    [0, 4]    [0, 7]    0         [9, 9]    [8, 4]    [9, 2]\n",
      "[9, 2]  [9, 2]  [3, 4]    [0, 4]    [4, 0]    [0, 7]    [3, 7]    [9, 9]    [8, 4]    [8, 7]    0\n",
      "[9, 9]  [9, 9]  [0, 7]    [3, 7]    [0, 4]    [4, 0]    [3, 4]    [8, 7]    [9, 2]    0         [8, 4]\n"
     ]
    }
   ],
   "source": [
    "def elliptic_fp(a, b, p):\n",
    "    ec_all = []\n",
    "    ec_points = [0]\n",
    "\n",
    "    for x in range(p):\n",
    "        # Tính y^2\n",
    "        y_square = (pow(x, 3, p) + (a * x % p) + (b % p)) % p\n",
    "\n",
    "        # Kiểm tra tồn tại y sinh ra y^2\n",
    "        ok = 0\n",
    "        for i in range(p):\n",
    "            if pow(i, 2, p) == y_square:\n",
    "                ok = 1\n",
    "                break\n",
    "\n",
    "        if ok == 0:\n",
    "            continue\n",
    "\n",
    "        ec_points.append([x, i])\n",
    "        if i != 0: ec_points.append([x, p - i])\n",
    "\n",
    "    ec_all.append(ec_points)\n",
    "    for i in range(1, len(ec_points)):\n",
    "        temp = ec_points.copy()\n",
    "        for j in range(i, len(ec_points)):\n",
    "            if i == j and ec_points[i][1] != 0:\n",
    "                x0 = ec_points[i][0]\n",
    "                y0 = ec_points[i][1]\n",
    "                lamda = ((3 * pow(x0, 2) + a) * pow(2 * y0, -1, p)) % p\n",
    "                v = (y0 - lamda * x0) % p\n",
    "                x_res = (pow(lamda, 2) - 2 * x0) % p\n",
    "                y_res = (-(lamda * x_res + v)) % p\n",
    "                temp[j] = [x_res, y_res]\n",
    "            elif ec_points[i][0] == ec_points[j][0]:\n",
    "                temp[j] = 0\n",
    "            else:\n",
    "                x0 = ec_points[i][0]\n",
    "                y0 = ec_points[i][1]\n",
    "                x1 = ec_points[j][0]\n",
    "                y1 = ec_points[j][1]\n",
    "                lamda = ((y1 - y0) * pow(x1 - x0, -1, p)) % p\n",
    "                v = (y0 - lamda * x0) % p\n",
    "                x_res = (pow(lamda, 2) - x0 - x1) % p\n",
    "                y_res = (-(lamda * x_res + v)) % p\n",
    "                temp[j] = [x_res, y_res]\n",
    "        ec_all.append(temp)\n",
    "    \n",
    "    for i in range(len(ec_all)):\n",
    "        for j in range(len(ec_all[i])):\n",
    "            if i > j:\n",
    "                ec_all[i][j] = ec_all[j][i]\n",
    "\n",
    "    col = []\n",
    "    for i in range(len(ec_points)):\n",
    "        col.append([ec_points[i]])\n",
    "\n",
    "    for i in range(len(ec_all)):\n",
    "        ec_all[i] = [ec_points[i]] + ec_all[i]\n",
    "\n",
    "    return tabulate(ec_all, headers = ec_points)\n",
    "\n",
    "print(\"(a).\\n\", elliptic_fp(1, 2, 5))\n",
    "print(\"\\n\\n(b).\\n\", elliptic_fp(2, 3, 7))\n",
    "print(\"\\n\\n(c).\\n\", elliptic_fp(2, 5, 11))"
   ]
  },
  {
   "cell_type": "markdown",
   "metadata": {},
   "source": [
    "#### 5.9"
   ]
  },
  {
   "cell_type": "markdown",
   "metadata": {},
   "source": [
    "Xét $n=is+r$ với $0 \\leq r < s$ và $i \\in \\mathbb{Z}$ thì $Q=nP=(is+r)P=isP+rP=rP$\n",
    "\n",
    "Do $Q=n_0P$ có $n_0$ là nghiệm nhỏ nhất tìm được $\\rightarrow r \\geq n_0$. Nếu $r=n_0$ thì coi như hoàn tất, nên ta xét $r>n_0$\n",
    "\n",
    "Ta có $Q=rP$ và $Q=n_0P$ nên $(r-n_0)P=O \\rightarrow r-n_0\\geq s \\rightarrow r \\geq s$ (vô lý nếu $r>n_0$)\n",
    "\n",
    "Vậy $r=n_0$ và $n=is+n_0$"
   ]
  }
 ],
 "metadata": {
  "kernelspec": {
   "display_name": "Python 3",
   "language": "python",
   "name": "python3"
  },
  "language_info": {
   "codemirror_mode": {
    "name": "ipython",
    "version": 3
   },
   "file_extension": ".py",
   "mimetype": "text/x-python",
   "name": "python",
   "nbconvert_exporter": "python",
   "pygments_lexer": "ipython3",
   "version": "3.11.1"
  },
  "orig_nbformat": 4
 },
 "nbformat": 4,
 "nbformat_minor": 2
}
