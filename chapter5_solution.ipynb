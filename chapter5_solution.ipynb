{
 "cells": [
  {
   "cell_type": "markdown",
   "metadata": {},
   "source": [
    "#### Chapter 5: Elliptic Curves and Cryptography"
   ]
  },
  {
   "cell_type": "markdown",
   "metadata": {},
   "source": [
    "#### 5.2\n",
    "\n",
    "(a.1) Tính $P \\oplus Q$ với $P = (-1, 4)$ và $Q = (2, 5)$\n",
    " \n",
    "Đường thẳng $(L)$ đi qua 2 điểm $P$ và $Q$ là $y=\\displaystyle\\frac{x+13}{3}$\n",
    "\n",
    "Giao điểm thứ 3 của $(L)$ và $(E)$ là $R = (-\\frac{8}{9},\\frac{109}{27})\\rightarrow P \\oplus Q=(-\\frac{8}{9},-\\frac{109}{27})$\n",
    "\n",
    "(a.2) Tính $P \\ominus Q = P \\oplus (\\ominus Q)$ với $\\ominus Q = (2, -5)$\n",
    " \n",
    "Đường thẳng $(L)$ đi qua 2 điểm $P$ và $\\ominus Q$ là $y=-3x+1$\n",
    "\n",
    "Giao điểm thứ 3 của $(L)$ và $(E)$ là $R = (8,-23)\\rightarrow P \\ominus Q=(8,23)$\n",
    "\n",
    "(b.1) Tính $2P=P\\oplus P$\n",
    "\n",
    "Tiếp tuyến $(L)$ của $E$ tại $P$ là $y=\\displaystyle\\frac{3}{8}(x+1)+4$\n",
    "\n",
    "Giao điểm thứ 2 của $(L)$ và $(E)$ là $R = (\\frac{137}{64},\\frac{2651}{512})\\rightarrow 2P=(\\frac{137}{64},-\\frac{2651}{512})$\n",
    "\n",
    "(b.2) Tính $2Q=Q\\oplus Q$\n",
    "\n",
    "Tiếp tuyến $(L)$ của $E$ tại $Q$ là $y=\\displaystyle\\frac{6}{5}(x-2)+5$\n",
    "\n",
    "Giao điểm thứ 2 của $(L)$ và $(E)$ là $R = (-\\frac{64}{25},-\\frac{59}{125})\\rightarrow 2Q=(-\\frac{64}{25},\\frac{59}{125})$"
   ]
  },
  {
   "cell_type": "markdown",
   "metadata": {},
   "source": [
    "#### 5.3\n",
    "\n",
    "**Chứng minh theo chiều ngược.**\n",
    "\n",
    "Dễ chứng minh nếu $e_1=e_2=e_3$ thì $e_1=e_2=e_3=A=B=0$ (luôn thoả $4A^3+27B^2=0$).\n",
    "\n",
    "Không mất tính tổng quát, giả sử $e_1=e_2\\neq e_3$ thì theo định lý Viet cho phương trình $X^3+AX+B=0$ ta có hệ phương trình:\n",
    "$$\\begin{cases}\n",
    "    e_1 + e_2 + e_3 = 0 & (1) \\\\\n",
    "    e_1e_2+e_1e_3+e_2e_3=A & (2) \\\\\n",
    "    e_1e_2e_3=-B & (3)\n",
    "  \\end{cases}\n",
    "$$\n",
    "\n",
    "(1) $\\rightarrow e_3 = -2e_1$, (2) $\\rightarrow e_1^2+2e_1e_3=A$ và (3) $\\rightarrow e_1^2e_3=-B$\n",
    "\n",
    "$\\begin{cases}\n",
    "  A = -3e_1^2 \\\\\n",
    "  B = 2e_1^3\n",
    "  \\end{cases} \\rightarrow 4A^3+27B^2=4(-27e_1^6)+27(4e_1^6)=0$"
   ]
  },
  {
   "cell_type": "markdown",
   "metadata": {},
   "source": [
    "**Chứng minh theo chiều xuôi.**\n",
    "\n",
    "Từ Viet cho phương trình bậc 3, thế $e_3=-e_1-e_2$ vào phương trình $4A^3+27B^2=0$ thì ta được $4(e_1e_2-(e_1+e_2)^2)^3+27e_1^2e_2^2(e_1+e_2)^2=0$\n",
    "\n",
    "$\\Leftrightarrow 4e_1^6+12e_1^5e_2-3e_1^4e_2^2-26e_1^3e_2^3-3e_1^2e_2^4+ 12e_1e_2^5 + 4e_2^6 = 0$ $(*)$\n",
    "\n",
    "Do tồn tại ít nhất 2 trong 3 nghiệm trùng nhau $\\rightarrow$ phương trình trên sẽ rút gọn được về dạng $(2e_1+e_2)(e_1+2e_2)(e_1-e_2)=0$\n",
    "\n",
    "Thật vậy, $(*) \\Leftrightarrow (2e_1+e_2)^2(e_1+2e_2)^2(e_1-e_2)^2 = 0$\n",
    "\n",
    "Vậy nếu $2e_1+e_2=0$ thì $e_1=e_3$, $e_1+2e_2=0$ thì $e_2=e_3$, $e_1-e_2=0$ thì $e_1=e_2$. Cho nên ít nhất 2 trong 3 nghiệm trùng nhau"
   ]
  }
 ],
 "metadata": {
  "language_info": {
   "name": "python"
  },
  "orig_nbformat": 4
 },
 "nbformat": 4,
 "nbformat_minor": 2
}
