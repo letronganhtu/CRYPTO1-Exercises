{
 "cells": [
  {
   "attachments": {},
   "cell_type": "markdown",
   "metadata": {},
   "source": [
    "#### Chapter 4: Combinatorics, Probability and Information Theory"
   ]
  },
  {
   "attachments": {},
   "cell_type": "markdown",
   "metadata": {},
   "source": [
    "#### 4.4\n",
    "\n",
    "(a) Liệt kê 24 hoán vị của 4 kí tự $A_1,A_2,B_1,B_2$ là \n",
    "\n",
    "$S=\\{[a1,a2,b1,b2],[a1,a2,b2,b1],[a1,b1,a2,b2],[a1,b1,b2,a2],[a1,b2,a2,b1],[a1,b2,b1,a2],$\n",
    "\n",
    "$[a2,a1,b1,b2],[a2,a1,b2,b1],[a2,b1,a1,b2],[a2,b1,b2,a1],[a2,b2,a1,b1],[a2,b2,b1,a1],$\n",
    "\n",
    "$[b1, a1, a2, b2], [b1, a1, b2, a2], [b1,a2,a1,b2], [b1,a2,b2,a1], [b1,b2,a1,a2], [b1,b2,a2,a1],$\n",
    "\n",
    "$[b2,a1,a2,b1], [b2,a1,b1,a2], [b2,a2,a1,b1], [b2,a2,b1,a1], [b2,b1,a1,a2], [b2,b1,a2,a1]\\}$\n",
    "\n",
    "Nếu $A_1$ và $A_2$ là không thể phân biệt được, $B_1$ và $B_2$ là không thể phân biệt được thì ta chia thành 6 nhóm như sau (mỗi nhóm là như nhau do tính không phân biệt được)\n",
    "\n",
    "$S_D = \\{[A, A, B, B], [A, B, A, B], [A, B, B, A], [B, B, A, A], [B, A, A, B], [B, A, B, A]\\}$\n",
    "\n",
    "$=\\{[S_1,S_2,S_7,S_8], [S_3,S_5,S_9,S_{11}],[S_4,S_6,S_{10}, S_{12}], [S_{18},S_{19},S_{23}, S_{24}],[S_{13}, S_{15},S_{19}, S_{21}],[S_{14}, S_{16}, S_{20}, S_{22}]\\}$\n",
    "\n",
    "(b) Từ 7 kí tự gồm 4 kí tự $A$ và 3 kí tự $B$, số chuỗi có độ dài là 7 từ 7 kí tự trên là $\\binom{7}{4}=35$\n",
    "- Chọn 4 vị trí cho 4 kí tự cho $A$ $\\rightarrow \\binom{7}{4}$\n",
    "- 3 vị trí còn lại chắc chắn là của kí tự $B \\rightarrow$ chỉ có 1 cách chọn\n",
    "\n",
    "(c) Từ 9 kí tự gồm 4 kí tự $A$, 3 kí tự $B$ và 2 kí tự $C$, số chuỗi có độ dài là 9 từ 9 kí tự trên là $\\binom{9}{4}\\times\\binom{5}{3}=1260$\n",
    "\n",
    "(d) Sử dụng 7 kí tự gồm 4 kí tự $A$ và 3 kí tự $B$, số chuỗi khác nhau có độ dài là 5 được tạo thành thì ta chia thành 3 trường hợp: 2 $A$ + 3 $B$, 3 $A$ + 2 $B$ và 4 $A$ + 1 $B$ $\\rightarrow$ số cách tạo chuỗi là $\\binom{5}{2} + \\binom{5}{3} + \\binom{5}{4}=25$"
   ]
  },
  {
   "attachments": {},
   "cell_type": "markdown",
   "metadata": {},
   "source": [
    "#### 4.7"
   ]
  },
  {
   "cell_type": "code",
   "execution_count": null,
   "metadata": {},
   "outputs": [],
   "source": []
  }
 ],
 "metadata": {
  "language_info": {
   "name": "python"
  },
  "orig_nbformat": 4
 },
 "nbformat": 4,
 "nbformat_minor": 2
}
