{
 "cells": [
  {
   "attachments": {},
   "cell_type": "markdown",
   "metadata": {},
   "source": [
    "#### Chapter 4: Combinatorics, Probability and Information Theory"
   ]
  },
  {
   "attachments": {},
   "cell_type": "markdown",
   "metadata": {},
   "source": [
    "#### 4.4\n",
    "\n",
    "(a) Liệt kê 24 hoán vị của 4 kí tự $A_1,A_2,B_1,B_2$ là \n",
    "\n",
    "$S=\\{[a1,a2,b1,b2],[a1,a2,b2,b1],[a1,b1,a2,b2],[a1,b1,b2,a2],[a1,b2,a2,b1],[a1,b2,b1,a2],$\n",
    "\n",
    "$[a2,a1,b1,b2],[a2,a1,b2,b1],[a2,b1,a1,b2],[a2,b1,b2,a1],[a2,b2,a1,b1],[a2,b2,b1,a1],$\n",
    "\n",
    "$[b1, a1, a2, b2], [b1, a1, b2, a2], [b1,a2,a1,b2], [b1,a2,b2,a1], [b1,b2,a1,a2], [b1,b2,a2,a1],$\n",
    "\n",
    "$[b2,a1,a2,b1], [b2,a1,b1,a2], [b2,a2,a1,b1], [b2,a2,b1,a1], [b2,b1,a1,a2], [b2,b1,a2,a1]\\}$\n",
    "\n",
    "Nếu $A_1$ và $A_2$ là không thể phân biệt được, $B_1$ và $B_2$ là không thể phân biệt được thì ta chia thành 6 nhóm như sau (mỗi nhóm là như nhau do tính không phân biệt được)\n",
    "\n",
    "$S_D = \\{[A, A, B, B], [A, B, A, B], [A, B, B, A], [B, B, A, A], [B, A, A, B], [B, A, B, A]\\}$\n",
    "\n",
    "$=\\{[S_1,S_2,S_7,S_8], [S_3,S_5,S_9,S_{11}],[S_4,S_6,S_{10}, S_{12}], [S_{18},S_{19},S_{23}, S_{24}],[S_{13}, S_{15},S_{19}, S_{21}],[S_{14}, S_{16}, S_{20}, S_{22}]\\}$\n",
    "\n",
    "(b) Từ 7 kí tự gồm 4 kí tự $A$ và 3 kí tự $B$, số chuỗi có độ dài là 7 từ 7 kí tự trên là $\\binom{7}{4}=35$\n",
    "- Chọn 4 vị trí cho 4 kí tự cho $A$ $\\rightarrow \\binom{7}{4}$\n",
    "- 3 vị trí còn lại chắc chắn là của kí tự $B \\rightarrow$ chỉ có 1 cách chọn\n",
    "\n",
    "(c) Từ 9 kí tự gồm 4 kí tự $A$, 3 kí tự $B$ và 2 kí tự $C$, số chuỗi có độ dài là 9 từ 9 kí tự trên là $\\binom{9}{4}\\times\\binom{5}{3}=1260$\n",
    "\n",
    "(d) Sử dụng 7 kí tự gồm 4 kí tự $A$ và 3 kí tự $B$, số chuỗi khác nhau có độ dài là 5 được tạo thành thì ta chia thành 3 trường hợp: 2 $A$ + 3 $B$, 3 $A$ + 2 $B$ và 4 $A$ + 1 $B$ $\\rightarrow$ số cách tạo chuỗi là $\\binom{5}{2} + \\binom{5}{3} + \\binom{5}{4}=25$"
   ]
  },
  {
   "attachments": {},
   "cell_type": "markdown",
   "metadata": {},
   "source": [
    "#### 4.7"
   ]
  },
  {
   "attachments": {},
   "cell_type": "markdown",
   "metadata": {},
   "source": [
    "(a) $\\binom{n-1}{j-1} + \\binom{n-1}{j} = \\frac{(n-1)!}{(n-j)!\\times (j-1)!} + \\frac{(n-1)!}{(n-j-1)!\\times j!} = \\frac{(n-1)!}{(n-j-1)!(j-1)!}\\times\\big(\\frac{1}{n-j}+\\frac{1}{j}\\big)=\\frac{(n-1)!}{(n-j-1)!(j-1)!}\\times\\big(\\frac{j+n-j}{j\\times(n-j)}\\big)=\\frac{n!}{(n-j)!j!}=\\binom{n}{j}$\n",
    "\n",
    "(b) Có: $(x+y)^n=(x+y)(x+y)^{n-1}$ và cần đi tìm hệ số của $x^jy^{n-j}$\n",
    "- Trong $(x+y)^n$ thì hệ số là $\\binom{n}{j}$\n",
    "- Trong $(x+y)(x+y)^{n-1}$ thì hệ số là\n",
    "    + Chỉ xét đẳng thức bên phải, nếu bên trái lấy $x$ thì ta cần hệ số của $x^{j-1}y^{n-j}$ trong $(x+y)^{n-1} \\rightarrow \\binom{n-1}{j-1}$\n",
    "    + Nếu bên trái lấy $y$ thì ta cần hệ số của $x^jy^{n-j-1}$ trong $(x+y)^{n-1} \\rightarrow \\binom{n-1}{j}$\n",
    "    \n",
    "Mà hệ số của $x^jy^{n-j}$ của 2 vế phương trình ban đầu là bằng nhau $\\rightarrow \\binom{n}{j} = \\binom{n-1}{j-1} + \\binom{n-1}{j}$\n",
    "\n",
    "(c) Để chọn $j$ phần tử từ một tập $n$ phần tử (có $\\binom{n}{j}$ cách chọn), không mất tính tổng quát, giả sử tập $n$ phần tử cần chọn là $S=\\{s_1,s_2,...,s_n\\}$ và $s_n$ là phần tử mà ta xét.\n",
    "- Không chọn phần tử $s_n \\rightarrow$ cần chọn $j$ phần tử từ tập $(n-1)$ phần tử $\\rightarrow \\binom{n-1}{j}$\n",
    "- Chọn phần tử $s_n \\rightarrow$ cần chọn $(j-1)$ phần tử từ tập $(n-1)$ phần tử $\\rightarrow \\binom{n-1}{j-1}$\n",
    "\n",
    "Vậy $\\binom{n}{j} = \\binom{n-1}{j-1} + \\binom{n-1}{j}$"
   ]
  },
  {
   "attachments": {},
   "cell_type": "markdown",
   "metadata": {},
   "source": [
    "#### 4.8\n",
    "\n",
    "(a) Nếu $1 \\leq j \\leq p-1$ thì ta có $\\binom{p}{j}=\\frac{p!}{(p-j)!j!}=p \\times \\frac{(p-1)!}{(p-j)!j!}$\n",
    "\n",
    "Có: $\\binom{p}{j} \\in \\mathbb{Z} \\rightarrow p \\times \\frac{(p-1)!}{(p-j)!j!} \\in \\mathbb{Z}$, mà $p$ không chia hết cho $(p-j)!j! \\rightarrow (p-1)!$ chia hết cho $(p-j)!j! \\rightarrow \\frac{(p-1)!}{(p-j)!j!} = k \\in \\mathbb{Z} \\rightarrow \\binom{p}{j}=p \\times k$ chia hết cho $p$\n",
    "\n",
    "(b) $(a+b)^p \\equiv \\displaystyle\\sum_{i=0}^p\\binom{p}{i}\\times a^i \\times b^{p-i}=a^p+b^p$ (mod $p$)\n",
    "\n",
    "(c) Chứng minh $a^p \\equiv a$ (mod $p$) với mọi $a \\geq 0$\n",
    "\n",
    "Sử dụng quy nạp, với $a=0$ ta thấy công thức trên luôn đúng. Giả sử công thức trên đúng với $a=k \\in \\mathbb{Z}$ (nghĩa là $k^p \\equiv k$ (mod $p$)), ta cần chứng minh công thức trên đúng với $a=k+1$, tức là chứng minh $(k+1)^p \\equiv k+1$ (mod $p$)\n",
    "\n",
    "Từ câu (b) và cho $b=1$ ta có $(k+1)^p \\equiv k^p + 1 \\equiv k + 1$ (mod $p$) $\\forall k \\in \\mathbb{Z}$ (đpcm, vế sau là từ điều giả sử của quy nạp)\n",
    "\n",
    "(d) Do $gcd(a,p)=1 \\rightarrow \\exists a^{-1}$ trong $\\mathbb{Z_p^*}$\n",
    "\n",
    "Có: $a^p \\equiv a$ (mod $p$) $\\rightarrow a^{p-1} \\equiv 1$ (mod $p$) do có nghịch đảo nên nhân $a^{-1}$ vào 2 vế"
   ]
  },
  {
   "attachments": {},
   "cell_type": "markdown",
   "metadata": {},
   "source": [
    "#### 4.10"
   ]
  },
  {
   "cell_type": "code",
   "execution_count": 5,
   "metadata": {},
   "outputs": [
    {
     "name": "stdout",
     "output_type": "stream",
     "text": [
      "(a). c = aonpskuofesulttlxbzttpunlsftsg\n",
      "(b). c = yvvmlrexiixcffzfzxxhrisimbrfnun\n"
     ]
    }
   ],
   "source": [
    "def vigenere_encrypt(m, k):\n",
    "    m = m.replace(\" \", \"\")\n",
    "    m = m.replace(\",\", \"\")\n",
    "    m = m.lower()\n",
    "\n",
    "    idx = 0\n",
    "    c = \"\"\n",
    "    for i in range(len(m)):\n",
    "        c += chr((ord(m[i]) + ord(k[idx]) - 2 * ord('a')) % 26 + ord('a'))\n",
    "        if idx == len(k) - 1:\n",
    "            idx = 0\n",
    "        else:\n",
    "            idx += 1\n",
    "    \n",
    "    return c\n",
    "\n",
    "print(\"(a). c =\", vigenere_encrypt(\"To be, or not to be, that is the question\", \"hamlet\"))\n",
    "print(\"(b). c =\", vigenere_encrypt(\"The treasure is buried under the big W\", \"fortune\"))"
   ]
  },
  {
   "attachments": {},
   "cell_type": "markdown",
   "metadata": {},
   "source": [
    "#### 4.11"
   ]
  },
  {
   "cell_type": "code",
   "execution_count": 6,
   "metadata": {},
   "outputs": [
    {
     "name": "stdout",
     "output_type": "stream",
     "text": [
      "(a). m = peterpiperpickedapeckofpickledpeppers\n",
      "(b). m = thedifferentbranchesofarithmeticrepliedthemockturtleareambitiondistractionuglificationandderision\n"
     ]
    }
   ],
   "source": [
    "def vigenere_decrypt(c, k):\n",
    "    c = c.replace(\" \", \"\")\n",
    "\n",
    "    idx = 0\n",
    "    m = \"\"\n",
    "    for i in range(len(c)):\n",
    "        m += chr((ord(c[i]) - ord(k[idx])) % 26 + ord('a'))\n",
    "        if idx == len(k) - 1:\n",
    "            idx = 0\n",
    "        else:\n",
    "            idx += 1\n",
    "    \n",
    "    return m\n",
    "\n",
    "print(\"(a). m =\", vigenere_decrypt(\"rsghz bmcxt dvfsq hnigq xrnbm pdnsq smbtr ku\", \"condiment\"))\n",
    "print(\"(b). m =\", vigenere_decrypt(\"khfeq ymsci etcsi gjvpw ffbsq moapx zcsfx epsox yenpk daicx cebsm ttptx zooeq laflg kipoc zswqm taujw ghboh vrjtq hu\", \"rabbithole\"))"
   ]
  },
  {
   "cell_type": "markdown",
   "metadata": {},
   "source": [
    "#### 4.18"
   ]
  },
  {
   "cell_type": "markdown",
   "metadata": {},
   "source": [
    "mgodt beida psgls akowu hxukc iawlr csoyh prtrt udrqh cengx uuqtu habxw dgkie ktsnp sekld zlvnh wefss glzrn peaoy lbyig uaafv eqgjo ewabz saawl rzjpv feyky gylwu btlyd kroec bpfvt psgki puxfb uxfuq cvymy okagl sactt uwlrx psgiy ytpsf rjfuw igxhr oyazd rakce dxeyr pdobr buehr uwcue ekfic zehrq ijezr xsyor tcylf egcy"
   ]
  },
  {
   "cell_type": "markdown",
   "metadata": {},
   "source": [
    "(a)\n",
    "| Triagram     | Appears at places | Differences |\n",
    "| ----------- | ----------- | -------- |\n",
    "| psg | 11, 151, 186 | 140 = 2<sup>2</sup> . 5 . 7 ; 35 = 5 . 7 |\n",
    "| sgl | 12, 85 |  73 = 73 |\n",
    "| gls | 13, 174 | 161 = 7 . 23 |\n",
    "| lsa | 14, 175 | 161 = 7 . 23 |\n",
    "| awl | 27, 118 | 91 = 7 . 13 |\n",
    "| wlr | 28, 119, 182 | 91 = 7 . 13 ; 63 = 3<sup>2</sup> . 7 |\n",
    "| gki | 62, 153 | 91 = 7 . 13 |\n",
    "\n",
    "Mọi giá trị khác nhau trong cột cuối đều chia hết cho 7 trừ triplet `sgl` &rarr; dự đoán độ dài khoá là 7"
   ]
  },
  {
   "cell_type": "markdown",
   "metadata": {},
   "source": [
    "(b) Xét chuỗi $s=c_1c_2...c_n$ ta có công thức tính **Individual Indices of Coincidence** $=\\displaystyle\\frac{1}{n(n-1)\\sum_{i=0}^{25}(F_i(F_i - 1))}$ với $F_i$ là số lượng xuất hiện kí tự $i$ trong alphabet trong chuỗi\n",
    "| Key Length | Average Index | Individual Indices of Coincidence |\n",
    "| ---------- | ------------- | --------------------------------- |\n",
    "| 4 | 0.042 | 0.038; 0.043; 0.042; 0.046 |\n",
    "| 5 | 0.044 | 0.048; 0.052; 0.046; 0.031; 0.041 |\n",
    "| 6 | 0.042 | 0.036; 0.050; 0.042; 0.051; 0.038; 0.037 |\n",
    "| 7 | 0.060 | 0.058; 0.060; 0.081; 0.054; 0.055; 0.065; 0.047 |\n",
    "| 8 | 0.046 | 0.042; 0.051; 0.030; 0.053; 0.040; 0.051; 0.057; 0.042 |\n",
    "| 9 | 0.041 | 0.041; 0.053; 0.041; 0.037; 0.052; 0.030; 0.054; 0.030; 0.030 |\n",
    "\n",
    "&rarr; Độ dài khoá có **Average Index** cao nhất là 7, giống với Kasiski test"
   ]
  },
  {
   "cell_type": "markdown",
   "metadata": {},
   "source": [
    "#### 4.26"
   ]
  },
  {
   "cell_type": "markdown",
   "metadata": {},
   "source": [
    "(a) Dan nên chuyển hộp, vì\n",
    "- Gọi $Y\\in\\{1,2,3\\}$ là hộp chứa phần thưởng của chương trình\n",
    "- Giả sử Dan chọn hộp $X \\in \\{1,2,3\\}$\n",
    "- Monty Hall mở 1 trong 2 hộp trống ra $\\rightarrow$ chỉ còn 1 hộp trống và 1 hộp có phần thưởng, ta có 2 trường hợp sau\n",
    "    - $X=Y$ (xác suất là $\\frac{1}{3}$) $\\rightarrow$ nếu đổi thì không trúng nữa\n",
    "    - $X$ khác $Y$ (xác suất là $\\frac{2}{3}$) $\\rightarrow$ nếu đổi thì trúng\n",
    "\n",
    "$\\rightarrow$ Xác suất trúng khi đổi hộp là $\\frac{2}{3}$ còn xác suất trúng khi không đổi hộp là $\\frac{1}{3}$"
   ]
  }
 ],
 "metadata": {
  "kernelspec": {
   "display_name": "Python 3",
   "language": "python",
   "name": "python3"
  },
  "language_info": {
   "codemirror_mode": {
    "name": "ipython",
    "version": 3
   },
   "file_extension": ".py",
   "mimetype": "text/x-python",
   "name": "python",
   "nbconvert_exporter": "python",
   "pygments_lexer": "ipython3",
   "version": "3.11.1"
  },
  "orig_nbformat": 4
 },
 "nbformat": 4,
 "nbformat_minor": 2
}
