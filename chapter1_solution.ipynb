{
 "cells": [
  {
   "cell_type": "markdown",
   "metadata": {},
   "source": [
    "#### Chapter 1: An Introduction to Cryptography"
   ]
  },
  {
   "cell_type": "code",
   "execution_count": 51,
   "metadata": {},
   "outputs": [],
   "source": [
    "import numpy as np\n",
    "import pandas as pd\n",
    "import math\n",
    "from sympy import Matrix"
   ]
  },
  {
   "cell_type": "markdown",
   "metadata": {},
   "source": [
    "#### 1.3"
   ]
  },
  {
   "cell_type": "code",
   "execution_count": 52,
   "metadata": {},
   "outputs": [
    {
     "name": "stdout",
     "output_type": "stream",
     "text": [
      "IBXFEPAQLBQAAXWQWIBXFSVAXW\n"
     ]
    }
   ],
   "source": [
    "# Create substitution table (message -> ciphertext)\n",
    "e = \"SCJAXUFBQKTPRWEZHVLIGYDNMO\"\n",
    "encrypt = {}\n",
    "i = 0\n",
    "for i in range(len(e)):\n",
    "    encrypt[chr(ord('a') + i)] = e[i]\n",
    "\n",
    "# Encrypt the plaintext message\n",
    "message = \"The gold is hidden in the garden\"\n",
    "ciphertext = \"\"\n",
    "for x in message:\n",
    "    if x == ' ': continue\n",
    "    else: ciphertext += encrypt[x.lower()]\n",
    "print(ciphertext)"
   ]
  },
  {
   "cell_type": "code",
   "execution_count": 53,
   "metadata": {},
   "outputs": [
    {
     "data": {
      "text/html": [
       "<div>\n",
       "<style scoped>\n",
       "    .dataframe tbody tr th:only-of-type {\n",
       "        vertical-align: middle;\n",
       "    }\n",
       "\n",
       "    .dataframe tbody tr th {\n",
       "        vertical-align: top;\n",
       "    }\n",
       "\n",
       "    .dataframe thead th {\n",
       "        text-align: right;\n",
       "    }\n",
       "</style>\n",
       "<table border=\"1\" class=\"dataframe\">\n",
       "  <thead>\n",
       "    <tr style=\"text-align: right;\">\n",
       "      <th></th>\n",
       "      <th>Cipher</th>\n",
       "      <th>Message</th>\n",
       "    </tr>\n",
       "  </thead>\n",
       "  <tbody>\n",
       "    <tr>\n",
       "      <th>0</th>\n",
       "      <td>A</td>\n",
       "      <td>d</td>\n",
       "    </tr>\n",
       "    <tr>\n",
       "      <th>1</th>\n",
       "      <td>B</td>\n",
       "      <td>h</td>\n",
       "    </tr>\n",
       "    <tr>\n",
       "      <th>2</th>\n",
       "      <td>C</td>\n",
       "      <td>b</td>\n",
       "    </tr>\n",
       "    <tr>\n",
       "      <th>3</th>\n",
       "      <td>D</td>\n",
       "      <td>w</td>\n",
       "    </tr>\n",
       "    <tr>\n",
       "      <th>4</th>\n",
       "      <td>E</td>\n",
       "      <td>o</td>\n",
       "    </tr>\n",
       "    <tr>\n",
       "      <th>5</th>\n",
       "      <td>F</td>\n",
       "      <td>g</td>\n",
       "    </tr>\n",
       "    <tr>\n",
       "      <th>6</th>\n",
       "      <td>G</td>\n",
       "      <td>u</td>\n",
       "    </tr>\n",
       "    <tr>\n",
       "      <th>7</th>\n",
       "      <td>H</td>\n",
       "      <td>q</td>\n",
       "    </tr>\n",
       "    <tr>\n",
       "      <th>8</th>\n",
       "      <td>I</td>\n",
       "      <td>t</td>\n",
       "    </tr>\n",
       "    <tr>\n",
       "      <th>9</th>\n",
       "      <td>J</td>\n",
       "      <td>c</td>\n",
       "    </tr>\n",
       "    <tr>\n",
       "      <th>10</th>\n",
       "      <td>K</td>\n",
       "      <td>j</td>\n",
       "    </tr>\n",
       "    <tr>\n",
       "      <th>11</th>\n",
       "      <td>L</td>\n",
       "      <td>s</td>\n",
       "    </tr>\n",
       "    <tr>\n",
       "      <th>12</th>\n",
       "      <td>M</td>\n",
       "      <td>y</td>\n",
       "    </tr>\n",
       "    <tr>\n",
       "      <th>13</th>\n",
       "      <td>N</td>\n",
       "      <td>x</td>\n",
       "    </tr>\n",
       "    <tr>\n",
       "      <th>14</th>\n",
       "      <td>O</td>\n",
       "      <td>z</td>\n",
       "    </tr>\n",
       "    <tr>\n",
       "      <th>15</th>\n",
       "      <td>P</td>\n",
       "      <td>l</td>\n",
       "    </tr>\n",
       "    <tr>\n",
       "      <th>16</th>\n",
       "      <td>Q</td>\n",
       "      <td>i</td>\n",
       "    </tr>\n",
       "    <tr>\n",
       "      <th>17</th>\n",
       "      <td>R</td>\n",
       "      <td>m</td>\n",
       "    </tr>\n",
       "    <tr>\n",
       "      <th>18</th>\n",
       "      <td>S</td>\n",
       "      <td>a</td>\n",
       "    </tr>\n",
       "    <tr>\n",
       "      <th>19</th>\n",
       "      <td>T</td>\n",
       "      <td>k</td>\n",
       "    </tr>\n",
       "    <tr>\n",
       "      <th>20</th>\n",
       "      <td>U</td>\n",
       "      <td>f</td>\n",
       "    </tr>\n",
       "    <tr>\n",
       "      <th>21</th>\n",
       "      <td>V</td>\n",
       "      <td>r</td>\n",
       "    </tr>\n",
       "    <tr>\n",
       "      <th>22</th>\n",
       "      <td>W</td>\n",
       "      <td>n</td>\n",
       "    </tr>\n",
       "    <tr>\n",
       "      <th>23</th>\n",
       "      <td>X</td>\n",
       "      <td>e</td>\n",
       "    </tr>\n",
       "    <tr>\n",
       "      <th>24</th>\n",
       "      <td>Y</td>\n",
       "      <td>v</td>\n",
       "    </tr>\n",
       "    <tr>\n",
       "      <th>25</th>\n",
       "      <td>Z</td>\n",
       "      <td>p</td>\n",
       "    </tr>\n",
       "  </tbody>\n",
       "</table>\n",
       "</div>"
      ],
      "text/plain": [
       "   Cipher Message\n",
       "0       A       d\n",
       "1       B       h\n",
       "2       C       b\n",
       "3       D       w\n",
       "4       E       o\n",
       "5       F       g\n",
       "6       G       u\n",
       "7       H       q\n",
       "8       I       t\n",
       "9       J       c\n",
       "10      K       j\n",
       "11      L       s\n",
       "12      M       y\n",
       "13      N       x\n",
       "14      O       z\n",
       "15      P       l\n",
       "16      Q       i\n",
       "17      R       m\n",
       "18      S       a\n",
       "19      T       k\n",
       "20      U       f\n",
       "21      V       r\n",
       "22      W       n\n",
       "23      X       e\n",
       "24      Y       v\n",
       "25      Z       p"
      ]
     },
     "execution_count": 53,
     "metadata": {},
     "output_type": "execute_result"
    }
   ],
   "source": [
    "# Create substitution table (ciphertext -> message)\n",
    "decrypt = {}\n",
    "i = 0\n",
    "for i in range(len(e)):\n",
    "    decrypt[e[i]] = chr(ord('a') + i)\n",
    "\n",
    "# Print decryption table\n",
    "decryption_table = np.array([['Cipher', 'Message']])\n",
    "for i in range(len(e)):\n",
    "    tmp = np.array([[chr(ord('A') + i), decrypt[chr(ord('A') + i)]]])\n",
    "    decryption_table = np.append(decryption_table, tmp, axis = 0)\n",
    "decryption_table = pd.DataFrame(data = decryption_table[1:, :], columns = decryption_table[0, :])\n",
    "decryption_table"
   ]
  },
  {
   "cell_type": "code",
   "execution_count": 54,
   "metadata": {},
   "outputs": [
    {
     "name": "stdout",
     "output_type": "stream",
     "text": [
      "thesecretpasswordisswordfish\n"
     ]
    }
   ],
   "source": [
    "ciphertext = \"IBXLX JVXIZ SLLDE VAQLL DEVAU QLB\"\n",
    "message = \"\"\n",
    "for x in ciphertext:\n",
    "    if x == ' ': continue\n",
    "    else: message += decrypt[x]\n",
    "print(message)"
   ]
  },
  {
   "attachments": {},
   "cell_type": "markdown",
   "metadata": {},
   "source": [
    "#### 1.5"
   ]
  },
  {
   "attachments": {},
   "cell_type": "markdown",
   "metadata": {},
   "source": [
    "(a) Có tổng cộng $26!$ mã thay thế có thể sử dụng được\n",
    "\n",
    "(b.i) Không có kí tự nào được giữ nguyên khi mã hoá\n",
    "\n",
    "Gọi $S_i$ là tập hợp các hệ mã thay thế thoả vị trí $i$ là cố định $(1 \\leq i \\leq 26)$, ta chỉ xét vị trí $i$, những vị trí khác có cố định hay không thì ta không quan tâm $\\rightarrow$ có ít nhất 1 vị trí cố định trong $S_i$\n",
    "\n",
    "Vậy để không có kí tự nào cố định ta thiết lập đẳng thức ở bao hàm loại trừ như sau, việc không có kí tự nào tương đương với phần bù của việc có ít nhất 1 kí tự cố định trong 26 kí tự.\n",
    "\n",
    "$26!-|S_1\\cup S_2\\cup S_3 ... \\cup S_{26}|=26!-(\\displaystyle\\sum_i(S_i)-\\displaystyle\\sum_{i<j}(S_i\\cap S_j)+...)$\n",
    "\n",
    "Ta có $k$ phần tử cố định, còn lại thì không quan tâm nó có cố định hay không $\\rightarrow$ ta có số lượng phần tử trong tập hợp là $\\binom{n}{k}*(n-k)!$\n",
    "\n",
    "Vậy số lượng hệ mã thay thế thoả mãn không có phần tử nào cố định là\n",
    "\n",
    "$26!-|S_1\\cup S_2\\cup S_3 ... \\cup S_{26}|=26!-(\\displaystyle\\sum_i(S_i)-\\displaystyle\\sum_{i<j}(S_i\\cap S_j)+...)=26!-\\sum_{k=1}^{26}(-1)^{k-1}*\\binom{26}{k}*(26-k)!=26!-26!*\\sum_{k=1}^{26}\\displaystyle\\frac{(-1)^{k-1}}{k!}=26!*\\sum_{k=0}^{26}\\displaystyle\\frac{(-1)^{k}}{k!}$ $\\bigg($ Xét $26!=26!*1=26!*\\displaystyle\\frac{(-1)^{0}}{0!}\\bigg)$\n",
    "\n",
    "(b.ii) Có ít nhất 1 kí tự được giữ nguyên $\\rightarrow$ như câu trên ta có số lượng hệ mã thay thế phù hợp là $26!*\\sum_{k=1}^{26}\\displaystyle\\frac{(-1)^{k-1}}{k!}$"
   ]
  },
  {
   "cell_type": "markdown",
   "metadata": {},
   "source": [
    "#### 1.6"
   ]
  },
  {
   "cell_type": "markdown",
   "metadata": {},
   "source": [
    "$\\textbf{(a) If a | b and b | c, then a | c}$\n",
    "\n",
    "$a | b \\Leftrightarrow b=k_1a$\n",
    "\n",
    "$b|c\\Leftrightarrow c=k_2b=k_1k_2a \\Rightarrow a|c$\n",
    "\n",
    "$\\textbf{(b) If a | b and b | a, then a = ±b}$\n",
    "\n",
    "$a | b \\Leftrightarrow b=k_1a$\n",
    "\n",
    "$b|a\\Leftrightarrow a=k_2b=k_1k_2a \\Rightarrow k_1k_2=1$\n",
    "\n",
    "$k_1,k_2\\in\\mathbb{Z} \\Rightarrow k_1=k_2=1 \\text{ }or\\text{ } k_1=k_2=-1$\n",
    "\n",
    "$\\Rightarrow a=\\pm b$\n",
    "\n",
    "$\\textbf{(c) If a | b and a | c, then a | (b + c) and a | (b − c)}$\n",
    "\n",
    "$a | b \\Leftrightarrow b=k_1a$\n",
    "\n",
    "$a|c\\Leftrightarrow c=k_2a \\Rightarrow b+c=a(k_1+k_2) \\Rightarrow a|(b+c)$\n",
    "\n",
    "$also \\text{ } b-c=a(k_1-k_2) \\Rightarrow a|(b-c)$"
   ]
  },
  {
   "cell_type": "markdown",
   "metadata": {},
   "source": [
    "#### 1.11\n",
    "\n",
    "(a) Theo thuật toán Euler mở rộng ta có $au+bv=gcd(a,b)$ với mọi a, b $\\in\\mathbb{Z}$ $\\Rightarrow gcd(a,b)=1$\n",
    "\n",
    "(b) Cho $a=b=3$, có $3*u+3*v=6 \\Leftrightarrow u+v=2$ (Counter-example) vì $gcd(a,b)=3$ vẫn có nghiệm\n",
    "\n",
    "Các giá trị có thể có của $gcd(a,b)$: $gcd(a, b) = 1$ hay $gcd(a, b) = 2$ hay $gcd(a, b) = 3$ hay $gcd(a, b) = 6$\n",
    "\n",
    "Hay nói tổng quát hơn, là ước của $gcd(a,b)$\n",
    "\n",
    "(c) Ta có $au_1+bv_1=1$ và $au_2+bv_2=1$\n",
    "\n",
    "$\\Rightarrow a*(u_2-u_1)+b*(v_2-v_1)=0$ $\\forall a, b$\n",
    "\n",
    "$\\Rightarrow a | b*(v_2-v_1)$ $\\forall a, b$\n",
    "\n",
    "$\\Rightarrow a | (v_2-v_1)$ do $gcd(a,b)=1$\n",
    "\n",
    "Ta chứng minh tương tự cho $b|(u_2-u_1)$\n",
    "\n",
    "(d) Ta có $a*u+b*v=g \\Rightarrow (a/g)*u+(b/g)*v=1$\n",
    "\n",
    "$\\Rightarrow a'=(a/g)|(v_1-v_0)$ và $b'=(b/g)|(u_1-u_0)$ (từ câu (c), ta giả sử nghiệm tiếp theo có dạng $(u_1,v_1)$)\n",
    "\n",
    "$\\Rightarrow v_1-v_0=k_1*a'$ và $u_1-u_0=k_2*b'$\n",
    "\n",
    "$\\Rightarrow a*u_1+b*v_1=a*u_0+a*(b/g)*k_2+b*v_0+b*k_1*(a/g)$\n",
    "\n",
    "$\\Rightarrow a*u_1+b*v_1=(a*u_0+b*v_0)+(a*b/g)*(k_2 + k_1)$\n",
    "\n",
    "$\\Rightarrow g=g+(a*b/g)*(k_2 + k_1) \\Rightarrow (a*b/g)*(k_2 + k_1)=0 \\Rightarrow k_1=-k_2$\n",
    "\n",
    "$\\Rightarrow v_1 = v_0 - k*a/g$ và $u_1=u_0+k*b/g$"
   ]
  },
  {
   "cell_type": "markdown",
   "metadata": {},
   "source": [
    "#### 1.12"
   ]
  },
  {
   "cell_type": "code",
   "execution_count": 55,
   "metadata": {},
   "outputs": [],
   "source": [
    "def bezout_algorithm(a, b):\n",
    "    if b == 0: return (a, 1, 0) # fix in problem (d)\n",
    "    u = 1; g = a; x = 0; y = b\n",
    "    while y != 0:\n",
    "        q = int(g / y)\n",
    "        t = g % y\n",
    "        s = u - q * x\n",
    "        u = x; g = y\n",
    "        x = s; y = t\n",
    "    v = (g - a * u) / b\n",
    "    return (g, u, int(v))"
   ]
  },
  {
   "cell_type": "code",
   "execution_count": 56,
   "metadata": {},
   "outputs": [
    {
     "name": "stdout",
     "output_type": "stream",
     "text": [
      "(i). (17, -31, 13)\n",
      "(ii). (12, -37, 8)\n",
      "(iii). (7, 4517, -4430)\n",
      "(iv). (1, 59789, -970295)\n"
     ]
    }
   ],
   "source": [
    "print(\"(i).\", bezout_algorithm(527, 1258))\n",
    "print(\"(ii).\", bezout_algorithm(228, 1056))\n",
    "print(\"(iii).\", bezout_algorithm(163961, 167181))\n",
    "print(\"(iv).\", bezout_algorithm(3892394, 239847))"
   ]
  },
  {
   "attachments": {},
   "cell_type": "markdown",
   "metadata": {},
   "source": [
    "(d) Nếu $b=0$ thì ở bước 1, $y=b=0$ và qua bước 2, ta không thể chia cho $b$ là số $0$\n",
    "\n",
    "Sửa lại để giải quyết trường hợp đó nằm ở dòng 2 trên code"
   ]
  },
  {
   "cell_type": "code",
   "execution_count": 57,
   "metadata": {},
   "outputs": [
    {
     "name": "stdout",
     "output_type": "stream",
     "text": [
      "(i). (17, 43, -18)\n",
      "(ii). (12, 51, -11)\n",
      "(iii). (7, 4517, -4430)\n",
      "(iv). (1, 59789, -970295)\n"
     ]
    }
   ],
   "source": [
    "def bezout_algorithm(a, b):\n",
    "    if b == 0: return (a, 1, 0) # fix in problem (d)\n",
    "    u = 1; g = a; x = 0; y = b\n",
    "    while y != 0:\n",
    "        q = int(g / y)\n",
    "        t = g % y\n",
    "        s = u - q * x\n",
    "        u = x; g = y\n",
    "        x = s; y = t\n",
    "    v = (g - a * u) // b\n",
    "\n",
    "    while u < 0:\n",
    "        u += b // g\n",
    "        v -= a // g\n",
    "\n",
    "    while u - b // g > 0:\n",
    "        u -= b // g\n",
    "        v += a // g\n",
    "\n",
    "    return (g, u, v)\n",
    "\n",
    "print(\"(i).\", bezout_algorithm(527, 1258))\n",
    "print(\"(ii).\", bezout_algorithm(228, 1056))\n",
    "print(\"(iii).\", bezout_algorithm(163961, 167181))\n",
    "print(\"(iv).\", bezout_algorithm(3892394, 239847))"
   ]
  },
  {
   "cell_type": "markdown",
   "metadata": {},
   "source": [
    "#### 1.14\n",
    "\n",
    "(a) Chứng minh $a_1\\pm b_1 \\equiv a_2\\pm b_2$ $(mod$ $m)$\n",
    "\n",
    "$a_1\\equiv a_2$ $(mod$ $m)$ $\\Rightarrow a_1=d_1*m+a_2$\n",
    "\n",
    "$b_1\\equiv b_2$ $(mod$ $m)$ $\\Rightarrow b_1=d_2*m+b_2$\n",
    "\n",
    "$\\Rightarrow a_1 \\pm b_1=m*(d_1\\pm d_2)+(a_2\\pm b_2) \\Rightarrow a_1\\pm b_1\\equiv a_2\\pm b_2$ $(mod$ $m)$\n",
    "\n",
    "(b) Chứng minh $a_1*b_1\\equiv a_2*b_2$ $(mod$ $m)$\n",
    "\n",
    "Có $a_1*b_1=(d_1*d_2*m+d_1*b_2+d_2*a_2)*m+(a_2*b_2)$ $\\Rightarrow$ $a_1*b_1\\equiv a_2*b_2$ $(mod$ $m)$"
   ]
  },
  {
   "cell_type": "markdown",
   "metadata": {},
   "source": [
    "#### 1.18\n",
    "\n",
    "Nếu $a=b\\Rightarrow$ $g^a\\equiv 1$ $(mod$ $m)$ $\\Leftrightarrow g^{gcd(a,b)}\\equiv g^{gcd(a,a)}\\equiv g^a\\equiv 1$ $(mod$ $m)$\n",
    "\n",
    "Nếu $a\\neq b$, không mất tính tổng quát ta giả sử $a < b$\n",
    "\n",
    "Ta có $g^b\\equiv g^a \\equiv g^{a*q+r_0}\\equiv g^{r_0} \\equiv 1$ $(mod$ $m)$\n",
    "\n",
    "Nhận xét rằng phương trình đồng dư trên khá giống với cách xây dựng thuật toán Euclid tìm ước chung lớn nhất\n",
    "\n",
    "Thật vậy ta có $gcd(b,a)=gcd(a,r_0)=gcd(r_0,r_1)=...=g(r_n, 0)=r_n$ với $r_{i-1} = q_i*r_i+r_{i+1}$\n",
    "\n",
    "và ta cũng chứng minh được $g^b \\equiv g^{a*q+r_0}\\equiv g^{r_0} \\equiv g^a \\equiv g^{r_0*q_0+r_1}\\equiv g^{r_1}\\equiv 1$ $(mod$ $m)$\n",
    "\n",
    "$\\Rightarrow g^{r_n}\\equiv 1 \\equiv g^{gcd(a,b)}$ $(mod$ $m)$"
   ]
  },
  {
   "cell_type": "markdown",
   "metadata": {},
   "source": [
    "#### 1.20\n",
    "\n",
    "$\\phi (m)$ là số lượng các số từ $1$ đến $m-1$ mà nguyên tố cùng nhau với $m\\Leftrightarrow gcd(a,m)=1;$ $a \\in [1,m-1]$\n",
    "\n",
    "Ta dễ dàng chứng minh được nếu $m$ là số nguyên tố thì $gcd(a,m)=1$ $\\forall a \\in [1,m-1]$\n",
    "\n",
    "Thật vậy, nếu ta biểu diễn phân tích của $a$ và $m$ thì nó sẽ có dạng như sau (với $a<m$)\n",
    "\n",
    "- $a = \\prod_{i=1}^t{p_i}^{k_i}$\n",
    "\n",
    "- $m = p$\n",
    "\n",
    "Do $a<m\\Rightarrow p_i<p$ $\\forall p_i \\Rightarrow gcd(a,m)=1$ $\\forall a \\in [1,m-1] \\Rightarrow \\phi (m) = m - 1$ nếu m là số nguyên tố"
   ]
  },
  {
   "cell_type": "markdown",
   "metadata": {},
   "source": [
    "#### 1.21\n",
    "\n",
    "(a) m lẻ $\\Rightarrow m=2k+1 \\Rightarrow m \\geq 3 \\Rightarrow m \\leq 2m-3<2m$\n",
    "\n",
    "Đặt số cần tìm là $a$ $(1 \\leq a \\leq m - 1) \\Rightarrow a \\equiv 2^{-1}$ $(mod$ $m)$\n",
    "\n",
    "$\\Leftrightarrow 2a \\equiv 1$ $(mod$ $m) \\Rightarrow m$ | $(2a - 1)$\n",
    "\n",
    "mà $0m < 1 \\leq 2a-1 \\leq 2m-3 < 2m \\Rightarrow m=2a-1\\Rightarrow a = \\displaystyle\\frac{m+1}{2}$\n",
    "\n",
    "(b) $m \\equiv 1$ $(mod$ $b)$ $\\Rightarrow m=bk+1 \\Rightarrow m \\geq b+1 \\Rightarrow (b-1)m \\leq b(m-1)-1 < bm$\n",
    "\n",
    "Đặt số cần tìm là $a$ $(1 \\leq a \\leq m - 1) \\Rightarrow a \\equiv b^{-1}$ $(mod$ $m)$\n",
    "\n",
    "$\\Leftrightarrow ba \\equiv 1$ $(mod$ $m) \\Rightarrow m$ | $(ba - 1)$\n",
    "\n",
    "mà $0m < 1 \\leq ba-1 \\leq b(m-1)-1 < bm \\Rightarrow km=ba-1\\Rightarrow a = \\displaystyle\\frac{km+1}{b}$ $\\forall k \\in [1, b-1]$"
   ]
  },
  {
   "cell_type": "markdown",
   "metadata": {},
   "source": [
    "#### 1.23\n",
    "\n",
    "(a) $x \\equiv 3$ $(mod$ $7)$ $\\Rightarrow x = 7k_1+3$\n",
    "\n",
    "$7k_1+3 \\equiv 4$ $(mod$ $9)$ $\\Rightarrow k_1 \\equiv 7^{-1}$ $(mod$ $9)$\n",
    "\n",
    "Có $7*4\\equiv 1$ $(mod$ $9)$ $\\Rightarrow 7^{-1}\\equiv 4$ trong $\\mathbb{Z}_9$ $\\Rightarrow k_1 \\equiv 4$ $(mod$ $9)$ $\\Rightarrow k_1=9k+4$ $\\forall k \\in \\mathbb{Z}$\n",
    "\n",
    "Vậy $x=7(9k+4)+3=63k+31$ $\\forall k \\in \\mathbb{Z}$\n",
    "\n",
    "(b) $x \\equiv 13$ $(mod$ $71)$ $\\Rightarrow x = 71k_1+13$\n",
    "\n",
    "$71k_1+13 \\equiv 41$ $(mod$ $97)$ $\\Rightarrow k_1 \\equiv 28*71^{-1}$ $(mod$ $97)$\n",
    "\n",
    "Có $71*41\\equiv 1$ $(mod$ $97)$ $\\Rightarrow 71^{-1}\\equiv 41$ trong $\\mathbb{Z}_{97}$ $\\Rightarrow k_1 \\equiv 81$ $(mod$ $97)$ $\\Rightarrow k_1=97k+81$ $\\forall k \\in \\mathbb{Z}$\n",
    "\n",
    "Vậy $x=71(97k+81)+13=6887k+5764$ $\\forall k \\in \\mathbb{Z}$\n",
    "\n",
    "(c) $x \\equiv 4$ $(mod$ $7)$ $\\Rightarrow x = 7k_1+4$\n",
    "\n",
    "$7k_1+4 \\equiv 5$ $(mod$ $8)$ $\\Rightarrow k_1 \\equiv 7^{-1}$ $(mod$ $8)$\n",
    "\n",
    "Có $7*7\\equiv 1$ $(mod$ $8)$ $\\Rightarrow 7^{-1}\\equiv 7$ trong $\\mathbb{Z}_8$ $\\Rightarrow k_1 \\equiv 7$ $(mod$ $8)$ $\\Rightarrow k_1=8k-1$ $\\forall k \\in \\mathbb{Z}$ $\\Rightarrow x=7k_1+4=7(8k-1)+4=56k-3$ $\\forall k \\in \\mathbb{Z}$\n",
    "\n",
    "$56k-3 \\equiv 11$ $(mod$ $15)$ $\\Rightarrow k \\equiv 14*11^{-1}$ $(mod$ $15)$\n",
    "\n",
    "Có $11*11\\equiv 1$ $(mod$ $15)$ $\\Rightarrow 11^{-1}\\equiv 11$ trong $\\mathbb{Z}_{15}$ $\\Rightarrow k \\equiv 4$ $(mod$ $15)$ $\\Rightarrow k=15t+4$ $\\forall t \\in \\mathbb{Z}$\n",
    "\n",
    "Vậy $x=56(15t+4)-3=840t+221$ $\\forall t \\in \\mathbb{Z}$\n",
    "\n",
    "(d) $x \\equiv a$ $(mod$ $m)$ $\\Rightarrow x = m*k_1+a$\n",
    "\n",
    "$m*k_1+a \\equiv b$ $(mod$ $n)$ $\\Rightarrow k_1 \\equiv (b-a)*m^{-1}$ $(mod$ $n)$\n",
    "\n",
    "Do $gcd(m,n)=1\\Rightarrow \\exists m^{-1}=c$ trong $\\mathbb{Z}_n \\Rightarrow k_1=k*n+(b-a)*c$\n",
    "\n",
    "$\\Rightarrow x=m*(k*n+(b-a)*c)+a=k*m*n+m*c*(b-a)+a$ $\\forall k \\in \\mathbb{Z}$\n",
    "\n",
    "Nếu không có $gcd(m,n)=1\\Rightarrow$ không tìm được nghịch đảo modulo thì không tính tiếp được nữa\n",
    "\n",
    "*Ví dụ*: $x \\equiv 2$ $(mod$ $4)$ và $x \\equiv 3$ $(mod$ $6)$\n",
    "\n",
    "$x \\equiv 2$ $(mod$ $4)$ $\\Rightarrow x=4k_1+2$\n",
    "\n",
    "$4k_1+2 \\equiv 3$ $(mod$ $6)$ $\\Rightarrow k_1 \\equiv 4^{-1}$ $(mod$ $6)$\n",
    "\n",
    "Ta lập bảng để xét đẳng thức $4*z$ $(mod$ $6)$ với $z \\in \\mathbb{Z}_6^*$\n",
    "\n",
    "| $z$      |  1|2|3|4|5|\n",
    "| ----------- | ----------- | ----------- | ----------- | ----------- | ----------- |\n",
    "| $4*z$ $(mod$ $6)$ | 4 | 2 | 0 | 4 | 2 |\n",
    "\n",
    "Suy ra $4^{-1}$ không khả nghịch trong $\\mathbb{Z}_6$"
   ]
  },
  {
   "cell_type": "markdown",
   "metadata": {},
   "source": [
    "#### 1.26\n",
    "\n",
    "Đặt $\\mathbb{S}=\\{p_1,p_2,...,p_r\\}$ và $N=p_1p_2...p_r+1$\n",
    "\n",
    "$\\Rightarrow N \\equiv 1$ $(mod$ $p_i)$ $\\forall p_i \\in \\mathbb{S}$\n",
    "\n",
    "$\\Rightarrow N$ là số nguyên tố hoặc $N$ có thể phân tích bởi các số nguyên tố nằm ngoài tập $\\mathbb{S}$ (nếu ở trong tập $\\mathbb{S}$ thì $N \\equiv 0$ $(mod$ $p_i)$ vô lý với điều vừa được suy ra trên)"
   ]
  },
  {
   "cell_type": "markdown",
   "metadata": {},
   "source": [
    "#### 1.29\n",
    "\n",
    "(a) Đặt $ord_p(a)=t_1$ và $ord_p(b)=t_2$\n",
    "\n",
    "$\\Rightarrow a = p^{t_1}*K_1; b=p^{t_2}*K_2$ với $K_1, K_2$ là 2 số không chia hết cho $p$ được nữa\n",
    "\n",
    "$\\Rightarrow ab=p^{t_1+t_2}*K_1*K_2\\Rightarrow ord_p(ab)=t_1+t_2=ord_p(a)+ord_p(b)$\n",
    "\n",
    "(b) + (c) Đặt $ord_p(a)=t_1$ và $ord_p(b)=t_2$\n",
    "\n",
    "$\\Rightarrow a = p^{t_1}*K_1; b=p^{t_2}*K_2$ với $K_1, K_2$ là 2 số không chia hết cho $p$ được nữa\n",
    "\n",
    "Không mất tính tổng quát, giả sử $min\\{ord_p(a),ord_p(b)\\}=ord_p(a) \\Rightarrow t_1 \\leq t_2$\n",
    "\n",
    "$\\Rightarrow a+b=p^{t_1}*(K_1+p^{t_2-t_1}*K_2)$\n",
    "\n",
    "Do $p$ $|$ $p^{t_2-t_1}*K_2$ và $p \\nmid K_1$ $\\Rightarrow ord_p(a+b)=t_1=min\\{ord_p(a),ord_p(b)\\}$\n",
    "\n",
    "Nếu $t_1=t_2$, do cả $K_1$ và $K_2$ đều không chia hết cho $p$ nên tồn tại khả năng $K_1+K_2$ chia hết cho $p$ \n",
    "\n",
    "$\\Rightarrow ord_p(a+b)\\geq min\\{ord_p(a),ord_p(b)\\}$ nếu $ord_p(a) = ord_p(b)$\n",
    "\n",
    "$ ord_p(a+b)= min\\{ord_p(a),ord_p(b)\\}$ nếu $ord_p(a) \\neq ord_p(b)$"
   ]
  },
  {
   "cell_type": "markdown",
   "metadata": {},
   "source": [
    "#### 1.32\n",
    "\n",
    "(a) $p=13$ và $p=19$\n",
    "\n",
    "(b) $p=5$; $p=7$ và $p=17$\n",
    "\n",
    "(c) $p=23\\Rightarrow g=5$\n",
    "\n",
    " $p=29\\Rightarrow g=2$\n",
    "\n",
    "  $p=41\\Rightarrow g=6$\n",
    "\n",
    "   $p=43\\Rightarrow g=3$\n",
    "\n",
    "(d) Tất cả căn nguyên thuỷ modulo 11 là 2, 6, 7, 8\n",
    "\n",
    "Ta có $\\phi (10) =\\phi(2)\\phi(5)=1*4=4$ bằng với số lượng căn nguyên thuỷ modulo 11"
   ]
  },
  {
   "cell_type": "code",
   "execution_count": 58,
   "metadata": {},
   "outputs": [
    {
     "name": "stdout",
     "output_type": "stream",
     "text": [
      "[6, 7, 10, 23, 24, 28, 29, 31, 35, 38, 39, 40, 41, 47, 50, 59, 63, 65, 66, 67, 69, 72, 73, 74, 77, 79, 87, 90, 92, 96, 98, 102, 105, 110, 112, 113, 116, 117, 119, 124, 127, 131, 133, 137, 139, 142, 150, 152, 155, 156, 157, 160, 162, 163, 164, 166, 170, 179, 182, 188, 189, 190, 191, 194, 198, 200, 201, 205, 206, 219, 222, 223]\n",
      "Accept\n"
     ]
    }
   ],
   "source": [
    "p = 229\n",
    "\n",
    "def checkPrimitiveRoot(g, p):\n",
    "    a = []\n",
    "    for i in range(p):\n",
    "        if (g ** i) % p not in a: a.append(g ** i)\n",
    "    if len(a) == p - 1: return True\n",
    "    return False\n",
    "\n",
    "def checkPrime(n):\n",
    "    if n < 2: return False\n",
    "    if n == 2: return True\n",
    "    for i in range(3, int(math.sqrt(n)) + 1, 2):\n",
    "        if n % i == 0: return False\n",
    "    return True\n",
    "\n",
    "def listPrimes(n):\n",
    "    res = []\n",
    "    for i in range(0, n + 1):\n",
    "        if checkPrime(i) == True: res.append(i)\n",
    "    return res\n",
    "\n",
    "def valuePhi(n):\n",
    "    factor = []\n",
    "    pr = listPrimes(n)\n",
    "    res = n\n",
    "    i = 0\n",
    "    while n != 1:\n",
    "        if n % pr[i] == 0:\n",
    "            factor.append(pr[i])\n",
    "            while n % pr[i] == 0:\n",
    "                n /= pr[i]\n",
    "        i += 1\n",
    "    for x in factor:\n",
    "        res = res * (x - 1) / x\n",
    "    return res\n",
    "\n",
    "# (e)\n",
    "primitive_root = []\n",
    "for g in range(2, p):\n",
    "    if checkPrimitiveRoot(g, p) == True: primitive_root.append(g)\n",
    "\n",
    "print(primitive_root)\n",
    "if valuePhi(p - 1) == len(primitive_root): print(\"Accept\")\n",
    "else: print(\"Reject\")"
   ]
  },
  {
   "cell_type": "code",
   "execution_count": 59,
   "metadata": {},
   "outputs": [
    {
     "name": "stdout",
     "output_type": "stream",
     "text": [
      "[3, 5, 11, 13, 19, 29, 37, 53, 59, 61, 67, 83]\n"
     ]
    }
   ],
   "source": [
    "# (f)\n",
    "prime = listPrimes(99)\n",
    "res = []\n",
    "for x in prime:\n",
    "    if checkPrimitiveRoot(2, x) == True: res.append(x)\n",
    "print(res)"
   ]
  },
  {
   "cell_type": "code",
   "execution_count": 60,
   "metadata": {},
   "outputs": [
    {
     "name": "stdout",
     "output_type": "stream",
     "text": [
      "[2, 5, 7, 17, 19, 29, 31, 43, 53, 79, 89]\n",
      "[]\n"
     ]
    }
   ],
   "source": [
    "# (g)\n",
    "res_3 = []\n",
    "for x in prime:\n",
    "    if checkPrimitiveRoot(3, x) == True: res_3.append(x)\n",
    "print(res_3)\n",
    "\n",
    "res_4 = []\n",
    "for x in prime:\n",
    "    if checkPrimitiveRoot(4, x) == True: res_4.append(x)\n",
    "print(res_4)"
   ]
  },
  {
   "cell_type": "markdown",
   "metadata": {},
   "source": [
    "#### 1.34\n",
    "\n",
    "(a) Cho $p$ là số nguyên tố lẻ và $b$ thoả $p\\nmid b$\n",
    "\n",
    "Ta chứng minh phương trình $x^2\\equiv b$ $(mod$ $p)$ có nhiều nhất 2 nghiệm\n",
    "\n",
    "Do $b$ có căn bậc 2 nên $a^2=b\\Rightarrow (x-a)(x+a)\\equiv 0$ $(mod$ $p)$ (Dễ thấy, nếu $b$ không có căn bậc 2 thì phương trình trên sẽ vô nghiệm)\n",
    "\n",
    "$\\Rightarrow x \\equiv \\pm a$ $(mod$ $p)$ (do p là số nguyên tố nên $p = p * 1$ mà không phân tích được thêm nữa)\n",
    "\n",
    "Nếu phương trình trên có 1 nghiệm $\\Rightarrow a=0\\Rightarrow p\\mid x \\Rightarrow p\\mid x^2 \\Rightarrow p \\mid b$ (vô lý với giả thuyết)\n",
    "\n",
    "Vậy phương trình có 2 nghiệm hoặc không có nghiệm\n",
    "\n",
    "*Nếu p = 2* thì chỉ có 1 kết quả duy nhất là *b = 1* $\\Rightarrow$ Có nghiệm duy nhất là $x=1$\n",
    "\n",
    "Nếu $p \\mid b\\Rightarrow p \\mid x\\Rightarrow x = kp$ $\\forall k \\in \\mathbb{Z}$\n",
    "\n",
    "(b) $(p,b)=(7,2)\\Rightarrow x^2\\equiv 2$ $(mod$ $7)$\n",
    "\n",
    "Theo định lý Fermat nhỏ ta có $x^6 \\equiv 1$ (mod 7)\n",
    "\n",
    "$\\Rightarrow x^3 \\equiv 1$ (mod 7) hay $x^3 \\equiv 6$ (mod 7)\n",
    "\n",
    "Do $x^2\\equiv 2$ $(mod$ $7)$ $\\Rightarrow x^{-2}\\equiv 2^{-1} \\equiv 4$ (mod 7)\n",
    "\n",
    "$\\Rightarrow x=4$ hay $x=3$ modulo 7\n",
    "\n",
    "$(p,b)=(11,5)\\Rightarrow x^2 \\equiv 5$ (mod 11)\n",
    "\n",
    "Theo định lý Fermat nhỏ ta có $x^{10} \\equiv 1$ (mod 11)\n",
    "\n",
    "$\\Rightarrow x^5 \\equiv 1$ (mod 11) hay $x^5 \\equiv 10$ (mod 11)\n",
    "\n",
    "Do $x^4\\equiv 3$ $(mod$ $11)$ $\\Rightarrow x^{-4}\\equiv 3^{-1} \\equiv 4$ (mod 11)\n",
    "\n",
    "$\\Rightarrow x=4$ hay $x=7$ modulo 11\n",
    "\n",
    "$(p,b)=(11,7)\\Rightarrow x^2 \\equiv 7$ (mod 11)\n",
    "\n",
    "Theo định lý Fermat nhỏ ta có $x^{10} \\equiv 1$ (mod 11)\n",
    "\n",
    "$\\Rightarrow x^5 \\equiv 1$ (mod 11) hay $x^5 \\equiv 10$ (mod 11)\n",
    "\n",
    "Do $x^4\\equiv 5$ $(mod$ $11)$ $\\Rightarrow x^{-4}\\equiv 5^{-1} \\equiv 9$ (mod 11)\n",
    "\n",
    "$\\Rightarrow x=9$ hay $x=2$ modulo 11\n",
    "\n",
    "Thử lại ban đầu ta thấy không thoả $\\Rightarrow$ Phương trình không có nghiệm\n",
    "\n",
    "$(p,b)=(37,3)\\Rightarrow x^2 \\equiv 3$ (mod 37)\n",
    "\n",
    "Theo định lý Fermat nhỏ ta có $x^{36} \\equiv 1$ (mod 37)\n",
    "\n",
    "$\\Rightarrow x^{18} \\equiv 36$ (mod 37) $\\Rightarrow (x^9-6)(x^9+6) \\equiv 0$ (mod 37) $\\Rightarrow x^9 \\equiv 6$ (mod 37) hay $x^9 \\equiv 31$ (mod 37)\n",
    "\n",
    "Do $x^8\\equiv 7$ $(mod$ $37)$ $\\Rightarrow x^{-8}\\equiv 7^{-1} \\equiv 16$ (mod 37)\n",
    "\n",
    "$\\Rightarrow x=22$ hay $x=15$ modulo 37\n",
    "\n",
    "(c) $x^2\\equiv 29$ (mod 35) $\\Rightarrow x=8, 13, 22, 27$\n",
    "\n",
    "Nó không mâu thuẫn với a vì $35$ không phải là số nguyên tố\n",
    "\n",
    "(d) $p$ là số nguyên tố lẻ, $g$ là căn nguyên thuỷ modulo $p$. Có $a\\equiv g^k$ (mod p)\n",
    "\n",
    "Ta chứng minh chiều xuôi: $a$ có square root $\\Rightarrow$ $k$ chẵn\n",
    "\n",
    "$a$ có square root $\\Rightarrow a = b^2 = g^k \\Rightarrow b^{p-1}=g^{k*\\frac{p-1}{2}}$\n",
    "\n",
    "Do $b^{p-1}\\equiv 1$ (mod p) $\\Rightarrow g^{k*\\frac{p-1}{2}} \\equiv 1$ (mod p) $\\Rightarrow g^{(p-1)*\\frac{k}{2}} \\equiv 1$ (mod p)\n",
    "\n",
    "Và theo định lý Fermat nhỏ ta có $g^{p-1}\\equiv1$ (mod p) $\\Rightarrow k$ chẵn\n",
    "\n",
    "Chứng minh chiều ngược: $k$ chẵn $\\Rightarrow$ $a$ có square root\n",
    "\n",
    "$a=g^k=(g^{k/2})^2=B^2$ do $k$ chẵn $\\Rightarrow a$ có square root "
   ]
  },
  {
   "cell_type": "markdown",
   "metadata": {},
   "source": [
    "#### 1.38\n",
    "\n",
    "Answer: ifmusicbethefoodofloveplayon"
   ]
  },
  {
   "attachments": {},
   "cell_type": "markdown",
   "metadata": {},
   "source": [
    "#### 1.42"
   ]
  },
  {
   "cell_type": "code",
   "execution_count": 61,
   "metadata": {},
   "outputs": [
    {
     "name": "stdout",
     "output_type": "stream",
     "text": [
      "(i). c = Matrix([[3], [3]])\n",
      "(ii). k1^{-1} = Matrix([[3, 6], [4, 5]])\n",
      "(iii). m = Matrix([[0], [4]])\n"
     ]
    }
   ],
   "source": [
    "def hill_cipher_encrypt(k1, m, k2, p):\n",
    "    return (k1 @ m + k2) % p\n",
    "\n",
    "def hill_cipher_decrypt(k1, c, k2, p):\n",
    "    return (Matrix(k1).inv_mod(p) @ ((c - k2) % p)) % p\n",
    "\n",
    "m = np.array([[2], [1]])\n",
    "k1 = np.array([[1, 3], [2, 2]])\n",
    "k2 = np.array([[5], [4]])\n",
    "p = 7\n",
    "c = np.array([[3], [5]])\n",
    "\n",
    "print(\"(i). c =\", Matrix(hill_cipher_encrypt(k1, m, k2, p)))\n",
    "print(\"(ii). k1^{-1} =\", Matrix(k1).inv_mod(p))\n",
    "print(\"(iii). m =\", hill_cipher_decrypt(k1, c, k2, p))"
   ]
  },
  {
   "attachments": {},
   "cell_type": "markdown",
   "metadata": {},
   "source": [
    "(b) Hệ mã Hill dễ bị tấn công bởi phương pháp *chosen plaintext attack* bởi vì ta có thể yêu cầu các cặp $(p,c)$ để lập nên hệ phương trình dạng $c=k_1*p+k_2$ và giải hệ phương trình tuyến tính trên nếu ta không thay đổi $k_1, k_2$ thường xuyên\n",
    "\n",
    "(c) Giả sử $k_1=[[a,b],[c,d]]$ và $k_2=[[e],[f]]$ thì ta lập được hệ phương trình theo modulo $11$\n",
    "\n",
    "Có: $5a+4b+e=1$, $8a+10b+e=8$ và $7a+b+e=8$ nên $a=3,b=7,e=2$\n",
    "\n",
    "Có: $5a+4b+e=8$, $8a+10b+e=5$ và $7a+b+e=7$ nên $c=4,d=3,f=9$"
   ]
  },
  {
   "cell_type": "markdown",
   "metadata": {},
   "source": [
    "#### 1.46\n",
    "\n",
    "Nhắc lại về *chosen plaintext attack*: Cho một hoặc nhiều cặp $(m_i,c_i)$ thì sẽ khó để giải mã bất kì ciphertext $c$ nào không được cho trong danh sách trên mà không có thông tin của khoá $k$\n",
    "\n",
    "Với hệ mã như đề bài cung cấp, giả sử ta có 1 cặp $(m_0, c_0)$ thoả $c_0=k\\oplus m_0$ và đang có cipher c cần được giải mã $\\Rightarrow c_0 \\oplus c = m_0 \\oplus k \\oplus m \\oplus k=m_0\\oplus m\\Rightarrow m=c_0\\oplus c\\oplus m_0 \\Rightarrow$ **not secure against a chosen plaintext attack**, do ta biết được $m_0, c_0$ và $c$\n",
    "\n",
    "$c= 1001010001010111, m = 0010010000101100 \\Rightarrow k = c \\oplus m = 1011000001111011$"
   ]
  }
 ],
 "metadata": {
  "kernelspec": {
   "display_name": "Python 3.9.7 64-bit",
   "language": "python",
   "name": "python3"
  },
  "language_info": {
   "codemirror_mode": {
    "name": "ipython",
    "version": 3
   },
   "file_extension": ".py",
   "mimetype": "text/x-python",
   "name": "python",
   "nbconvert_exporter": "python",
   "pygments_lexer": "ipython3",
   "version": "3.9.7"
  },
  "orig_nbformat": 4,
  "vscode": {
   "interpreter": {
    "hash": "eadba2b3581326a2d7bd273e9d419eb0fab219e321930fd6a453aab726dd8270"
   }
  }
 },
 "nbformat": 4,
 "nbformat_minor": 2
}
