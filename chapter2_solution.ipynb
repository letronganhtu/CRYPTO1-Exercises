{
 "cells": [
  {
   "attachments": {},
   "cell_type": "markdown",
   "metadata": {},
   "source": [
    "#### Chapter 2: Discrete Logarithms and Diffie-Hellman"
   ]
  },
  {
   "attachments": {},
   "cell_type": "markdown",
   "metadata": {},
   "source": [
    "#### 2.3"
   ]
  },
  {
   "attachments": {},
   "cell_type": "markdown",
   "metadata": {},
   "source": [
    "(a) Do g là căn nguyên thuỷ của trường $\\mathbb{F}_p$ nên $ord(g) = p - 1$ $\\rightarrow x \\equiv log_g(h)$ $(mod$ $p-1)$ (mọi phần tử $x \\in \\mathbb{F}_p$ đều cho ra một giá trị $g^x$ duy nhất trong $\\mathbb{F}_p$)\n",
    "\n",
    "Do $x=a$ và $x=b$ nên $x\\equiv a \\equiv b \\equiv log_g(h)$ $(mod $ $p-1)$\n",
    "\n",
    "Ánh xạ được định nghĩa tốt là vì nếu giả sử tồn tại $a \\equiv b$ $(mod$ $p-1)$ thoả $g^a \\neq g^b$ $(mod$ $p)$ làm cho ánh xạ không được định nghĩa tốt thì ta có thể suy ra được $a \\equiv b \\equiv log_g(h)$ $(mod $ $p-1)$ như chứng minh ở trên và $g^a\\equiv g^b$ $(mod$ $p)$ (vô lí với điều ta đang giả sử)\n",
    "\n",
    "(b) Đặt $x_1=log_g(h_1)$ và $x_2=log_g(h_2)$ $\\rightarrow x_1+x_2=log_g(h_1)+log_g(h_2)=log_g(h_1h_2)$\n",
    "\n",
    "Với $h_1, h_2 \\in \\mathbb{F}_p^*$ nên $g^{x_1}=h_1$ $(mod$ $p)$ và $g^{x_2}=h_2$ $(mod$ $p)$ $\\rightarrow g^{x_1+x_2}=h_1h_2$ $(mod$ $p)$ $\\Rightarrow log_g(g^{x_1+x_2})=log_g(h_1h_2)=x_1+x_2=log_g(h_1)+log_g(h_2)$\n",
    "\n",
    "(c) Đặt $x=log_g(h)$ với $h \\in \\mathbb{F}_p^*$ $\\rightarrow g^x=h$ $(mod$ $p)$\n",
    "\n",
    "Gọi $n \\in \\mathbb{Z}$ và lấy mũ $n$ cho 2 vế của phương trình đồng dư trên $\\rightarrow g^{nx}=h^n$ $(mod$ $p)$ $\\rightarrow log_g(h^n)=nx=nlog_g(h)$"
   ]
  },
  {
   "attachments": {},
   "cell_type": "markdown",
   "metadata": {},
   "source": [
    "#### 2.4"
   ]
  },
  {
   "cell_type": "code",
   "execution_count": 3,
   "metadata": {},
   "outputs": [
    {
     "name": "stdout",
     "output_type": "stream",
     "text": [
      "(a). 7\n",
      "(b). 11\n",
      "(c). 18\n"
     ]
    }
   ],
   "source": [
    "def solve_dlp(g, h, p):\n",
    "    for x in range(0, p):\n",
    "        if pow(g, x, p) == h: return x\n",
    "\n",
    "print('(a). ' + str(solve_dlp(2, 13, 23))) # In ra kết quả câu a\n",
    "print('(b). ' + str(solve_dlp(10, 22, 47))) # In ra kết quả câu b\n",
    "print('(c). ' + str(solve_dlp(627, 608, 941))) # In ra kết quả câu c"
   ]
  },
  {
   "attachments": {},
   "cell_type": "markdown",
   "metadata": {},
   "source": [
    "#### 2.6"
   ]
  },
  {
   "cell_type": "code",
   "execution_count": 4,
   "metadata": {},
   "outputs": [
    {
     "name": "stdout",
     "output_type": "stream",
     "text": [
      "Bob sends to Alice value B = 805\n",
      "Their secret shared value is K = 397\n",
      "Secret key of Alice is a = 587\n"
     ]
    }
   ],
   "source": [
    "g = 2\n",
    "p = 1373\n",
    "A = 974\n",
    "\n",
    "b = 871\n",
    "B = pow(g, b, p)\n",
    "print(\"Bob sends to Alice value B =\", B)\n",
    "print(\"Their secret shared value is K =\", pow(A, b, p))\n",
    "\n",
    "for x in range(0, p):\n",
    "    if pow(g, x, p) == A:\n",
    "        print(\"Secret key of Alice is a =\", x)\n",
    "        break"
   ]
  },
  {
   "attachments": {},
   "cell_type": "markdown",
   "metadata": {},
   "source": [
    "#### 2.8"
   ]
  },
  {
   "cell_type": "code",
   "execution_count": 5,
   "metadata": {},
   "outputs": [
    {
     "name": "stdout",
     "output_type": "stream",
     "text": [
      "a. Public key of Alice is A = 177\n",
      "b. Alice sends to Bob (c1, c2) = (719, 623)\n",
      "c. Decrypt the message m = 332\n",
      "d. Secret key of Bob is b = 219\n",
      "   Message m = 365\n"
     ]
    }
   ],
   "source": [
    "p = 1373\n",
    "g = 2\n",
    "\n",
    "a = 947\n",
    "public_key = pow(g, a, p)\n",
    "print(\"a. Public key of Alice is A =\", public_key)\n",
    "\n",
    "b = 716\n",
    "B = 469\n",
    "m = 583\n",
    "k = 877\n",
    "print(\"b. Alice sends to Bob (c1, c2) = (\" + str(pow(g, k, p)) + \", \" + str((m * pow(B, k, p)) % p) + \")\")\n",
    "\n",
    "a = 299\n",
    "A = 34\n",
    "c1 = 661\n",
    "c2 = 1325\n",
    "tmp = pow(c1, a, p)\n",
    "msg = (c2 * pow(tmp, -1, p)) % p\n",
    "print(\"c. Decrypt the message m =\", msg)\n",
    "\n",
    "B = 893\n",
    "c1 = 693\n",
    "c2 = 793\n",
    "for x in range(0, p):\n",
    "    if pow(g, x, p) == B:\n",
    "        b = x\n",
    "        print(\"d. Secret key of Bob is b =\", b)\n",
    "        break\n",
    "\n",
    "tmp = pow(c1, b, p)\n",
    "msg = (c2 * pow(tmp, -1, p)) % p\n",
    "print(\"   Message m =\", msg)"
   ]
  },
  {
   "attachments": {},
   "cell_type": "markdown",
   "metadata": {},
   "source": [
    "#### 2.9"
   ]
  },
  {
   "attachments": {},
   "cell_type": "markdown",
   "metadata": {},
   "source": [
    "Có $p$, $g$ và $pk=g^a$ $(mod$ $p)$ công khai trên kênh truyền với $a$ là khoá bí mật\n",
    "\n",
    "Nhắc lại về ElGamal, $(c1, c2)=(g^r$ $\\%$ $p, m*pk^r$ $\\%$ $p)=(g^r, m*g^{ar})$\n",
    "\n",
    "Do ta có oracle để giải được bài toán **DHP** $\\rightarrow$ Từ $g^a$ (khoá công khai) và $g^r$ ($c1$ được gửi trên kênh truyền) ta sẽ sinh ra được $g^{ar}$ $(mod$ $p) \\rightarrow (g^{ar})^{-1}$ $(mod$ $p)$\n",
    "\n",
    "Vậy lấy $c2$ nhân với giá trị $(g^{ar})^{-1}$ ta vừa tính được thì sẽ ra được $m$"
   ]
  },
  {
   "attachments": {},
   "cell_type": "markdown",
   "metadata": {},
   "source": [
    "#### 2.12"
   ]
  },
  {
   "attachments": {},
   "cell_type": "markdown",
   "metadata": {},
   "source": [
    "(a) Nếu $g \\in G[d] \\rightarrow g^d=e$\n",
    "\n",
    "Chứng minh $e^{-1}=e$\n",
    "\n",
    "- $e$ là phần tử đơn vị thoả $a*e=e*a=a$\n",
    "- $a*e=a\\rightarrow a=a*e^{-1}$\n",
    "- $e*a=a\\rightarrow a = e^{-1}*a \\Rightarrow a = a*e^{-1}=e^{-1}*a \\Rightarrow e$ cũng là phần tử đơn vị\n",
    "- Mà phần tử đơn vị của 1 nhóm là duy nhất $\\rightarrow e = e^{-1}$\n",
    "\n",
    "$g^d=e\\rightarrow (g^d)^{-1}=e^{-1}=e \\rightarrow (g^{-1})^d=e \\rightarrow g^{-1} \\in G[d]$\n",
    "\n",
    "(b) Nếu $g_1$ và $g_2 \\in G[d]$ thì $g_1^d=e$ và $g_2^d=e$ $\\rightarrow g_1^d*g_2^d=e*e=e$ $\\rightarrow g_1*g_1*...*g_1*g_2*...*g_2=e$ $\\rightarrow (g_1*g_2)^d=e \\rightarrow g_1*g_2 \\in G[d]$\n",
    "\n",
    "(c) $G[d]$ có phần tử đơn vị $e$ khi $g^d=e^d=e$\n",
    "\n",
    "$G[d]$ có phần tử nghịch đảo như đã chứng minh ở câu a\n",
    "\n",
    "$G[d]$ có tính kết hợp, $(g_1*g_2)^d*g_3^d=g_1^d*(g_2*g_3)^d=(g_1*g_2*g_3)^d$ như đã chứng minh ở câu b\n",
    "\n",
    "$\\Rightarrow G[d]$ là 1 nhóm\n",
    "\n",
    "(d) Xét nhóm ma trận $G = GL_n(\\mathbb{R})$ thì $G$ không phải là nhóm giao hoán\n",
    "\n",
    "Xét $(g_1g_2)^dg_3^d=g_1^d(g_2g_3)^d \\rightarrow (g_1*g_2)^d*g_3^d*(g_2g_3)^{-d}=g_1^d \\rightarrow (g_1*g_2)^d*g_3^d*g_3^{-d}*g_2^{-d}=g_1^d \\rightarrow (g_1*g_2)^d=g_1^d*g_2^d$\n",
    "\n",
    "Do $G$ không mang tính giao hoán nên phương trình cuối cùng ở trên không xảy ra $\\rightarrow G[d]$ không là 1 nhóm"
   ]
  },
  {
   "attachments": {},
   "cell_type": "markdown",
   "metadata": {},
   "source": [
    "#### 2.13"
   ]
  },
  {
   "attachments": {},
   "cell_type": "markdown",
   "metadata": {},
   "source": [
    "(a) $\\phi(g_1*g_2)=\\phi(g_1)*\\phi(g_2)$ với $g_1, g_2 \\in G$\n",
    "\n",
    "Đặt $g_2=e_G$ ta có $\\phi(g_1*e_G)=\\phi(g_1)=\\phi(g_1)*\\phi(e_G)$\n",
    "\n",
    "Do $\\phi(g_1)$ và $\\phi(e_G) \\in H \\rightarrow$ chia $\\phi(g_1)$ cho 2 vế ta được $e_H=\\phi(e_G)$\n",
    "\n",
    "Có $\\phi(g*g^{-1})=\\phi(g)*\\phi(g^{-1})=\\phi(e_G)=e_H \\rightarrow \\phi(g^{-1})=\\phi(g)^{-1}$ với $g \\in G$\n",
    "\n",
    "(b) Gọi $x_1$ và $x_2 \\in G$\n",
    "\n",
    "Xét $\\phi(x_1*x_2)=(x_1*x_2)^2 = x_1*x_2*x_1*x_2=x_1*x_1*x_2*x_2=x_1^2*x_2^2=\\phi(x_1)*\\phi(x_2)$ (do $G$ có tính giao hoán) $\\rightarrow$ $G$ đồng cấu\n",
    "\n",
    "Xét nhóm không mang tính giao hoán là $G = GL_n(\\mathbb{R})$ $\\rightarrow$ với $A, B \\in G$ ta có $A*B\\neq B*A$\n",
    "\n",
    "Xét $\\phi(x_1*x_2)=(x_1*x_2)^2 = x_1*x_2*x_1*x_2 \\neq x_1*x_1*x_2*x_2$\n",
    "\n",
    "$\\rightarrow \\phi(x_1*x_2) \\neq \\phi(x_1)*\\phi(x_2) \\rightarrow$ không phải là đồng cấu\n",
    "\n",
    "(c) Gọi $x_1$ và $x_2 \\in G$\n",
    "\n",
    "Xét $\\phi(x_1*x_2)=(x_1*x_2)^{-1} = x_2^{-1}*x_1^{-1}=x_1^{-1}*x_2^{-1}=\\phi(x_1)*\\phi(x_2)$ (do $G$ có tính giao hoán) $\\rightarrow$ $G$ đồng cấu\n",
    "\n",
    "Xét nhóm không mang tính giao hoán là $G = GL_n(\\mathbb{R})$ $\\rightarrow$ với $A, B \\in G$ ta có $A*B\\neq B*A$\n",
    "\n",
    "Xét $\\phi(x_1*x_2)=(x_1*x_2)^{-1} = x_2^{-1}*x_1^{-1} \\neq x_1^{-1}*x_2^{-1}$\n",
    "\n",
    "$\\rightarrow \\phi(x_1*x_2) \\neq \\phi(x_1)*\\phi(x_2) \\rightarrow$ không phải là đồng cấu"
   ]
  },
  {
   "attachments": {},
   "cell_type": "markdown",
   "metadata": {},
   "source": [
    "#### 2.15"
   ]
  },
  {
   "attachments": {},
   "cell_type": "markdown",
   "metadata": {},
   "source": [
    "(a) $GL_2(\\mathbb{F}_p)=\\{\\begin{pmatrix} a & b \\\\ c & d \\\\ \\end{pmatrix} : a,b,c,d \\in \\mathbb{F}_p; \\exists \\begin{pmatrix} a & b \\\\ c & d \\\\ \\end{pmatrix}^{-1} \\in GL_2(\\mathbb{F}_p)\\}$\n",
    "- Có tính đóng: với $A, B \\in GL_2(\\mathbb{F}_p)$ ta có $det(A*B)=det(A)*det(B)\\neq 0$ $(mod$ $p)$ do $det(A) \\neq 0$ và $det(B) \\neq 0$ $(mod$ $p)$\n",
    "- Phần tử đơn vị là $\\begin{pmatrix} 1 & 0 \\\\ 0 & 1 \\\\ \\end{pmatrix} \\in GL_2(\\mathbb{F}_p)$ do định thức là 1 và $0,1\\in \\mathbb{F}_p$\n",
    "- Tồn tại phần tử nghịch đảo như định nghĩa của $GL_2(\\mathbb{F}_p)$\n",
    "- Có tính kết hợp: $(A * B)*C=A*(B*C)$ do định nghĩa của ma trận\n",
    "\n",
    "$\\rightarrow GL_2(\\mathbb{F}_p)$ là 1 nhóm\n",
    "\n",
    "(b) Với $A=\\begin{pmatrix} 1 & 0 \\\\ 1 & 1 \\\\ \\end{pmatrix}$ và $B=\\begin{pmatrix} 1 & 1 \\\\ 0 & 1 \\\\ \\end{pmatrix}$ ta có\n",
    "\n",
    "$A*B=\\begin{pmatrix} 1 & 1 \\\\ 1 & 2 \\% p \\\\ \\end{pmatrix}$ và $B*A=\\begin{pmatrix} 2 \\% p & 1 \\\\ 1 & 1 \\\\ \\end{pmatrix}$\n",
    "\n",
    "với $p$ là số nguyên tố $\\rightarrow p \\ge 2 \\rightarrow 2\\%p=0$ với $p=2$ và $2\\%p=2$ với $p > 2$\n",
    "\n",
    "mà để $A*B=B*A$ thì tồn tại $p$ sao cho $2\\%p=1 \\rightarrow A*B\\neq B*A \\rightarrow GL_2(\\mathbb{F}_p)$ không là nhóm giao hoán\n",
    "\n",
    "(c) $\\mathbb{F}_2=\\{0,1\\}\\rightarrow GL_2(\\mathbb{F}_2)=\\{\\begin{pmatrix} 0 & 1 \\\\ 1 & 0 \\\\ \\end{pmatrix};\\begin{pmatrix} 0 & 1 \\\\ 1 & 1 \\\\ \\end{pmatrix};\\begin{pmatrix} 1 & 0 \\\\ 0 & 1 \\\\ \\end{pmatrix};\\begin{pmatrix} 1 & 0 \\\\ 1 & 1 \\\\ \\end{pmatrix};\\begin{pmatrix} 1 & 1 \\\\ 0 & 1 \\\\ \\end{pmatrix};\\begin{pmatrix} 1 & 1 \\\\ 1 & 0 \\\\ \\end{pmatrix}\\}$\n",
    "\n",
    "(d) Xét ma trận $A=\\begin{pmatrix} a & b \\\\ c & d \\\\ \\end{pmatrix}$, với trường hợp tồn tại 1 phần tử bằng 0 ta có $4*(p-1)^3+2*(p-1)^2$ ma trận thuộc $GL_2(\\mathbb{F}_p)$\n",
    "- $a=0; b,c,d\\neq 0$ (và tương tự cho $b=0,c=0,d=0$) ta có $4*(p-1)^3$ cách chọn [do với trường hợp $a=0; b,c,d\\neq 0$ thì $det(A)=b*c\\neq 0$ $(mod$ $p)$ $\\forall b,c,d \\in \\mathbb{F}_p \\rightarrow$ có $(p-1)^3$ cách chọn]\n",
    "\n",
    "- $a=0,d=0,b\\neq 0, c \\neq 0$ luôn cho định thức khác 0 có $(p-1)^2$ và tương tự cho trường hợp $a \\neq 0,d\\neq 0,b= 0, c = 0 \\rightarrow$ tổng cộng có $2*(p-1)^2$ cách chọn\n",
    "\n",
    "Nếu không có phần tử khác 0 ta chọn $a,b,c$ khác 0 $\\rightarrow$ có $(p-1)^3$ cách chọn, đồng thời ta phải chọn $d$ sao cho giá trị $d$ thoả $ad-bc\\neq 0$. Do chỉ tồn tại 1 giá trị $d$ thoả $ad=bc$ nên ta có $p-2$ cách chọn $d$\n",
    "\n",
    "Vậy có tổng cộng $4*(p-1)^3+2*(p-1)^2+(p-1)^3*(p-2)=(p-1)^2*p*(p+1)$ phần tử trong nhóm $GL_2(\\mathbb{F}_p)$"
   ]
  },
  {
   "attachments": {},
   "cell_type": "markdown",
   "metadata": {},
   "source": [
    "#### 2.16"
   ]
  },
  {
   "attachments": {},
   "cell_type": "markdown",
   "metadata": {},
   "source": [
    "Sử dụng định lý được nêu trong sách, nếu $\\lim\\limits_{x \\to \\infty} \\displaystyle\\frac{f(x)}{g(x)}$ tồn tại và hữu hạn thì $f(x)=O(g(x))$\n",
    "\n",
    "(a) $x^2+\\sqrt{x}=O(x^2)$\n",
    "\n",
    "$\\lim\\limits_{x \\to \\infty} \\displaystyle\\frac{x^2+\\sqrt{x}}{x^2} = 1$ hữu hạn $\\rightarrow x^2+\\sqrt{x}=O(x^2)$\n",
    "\n",
    "(b) $5+6x^2-37x^5=O(x^5)$\n",
    "\n",
    "$\\lim\\limits_{x \\to \\infty} \\displaystyle\\frac{5+6x^2-37x^5}{x^5} = -37$ hữu hạn $\\rightarrow 5+6x^2-37x^5=O(x^5)$\n",
    "\n",
    "(c) $k^{300}=O(2^k)$\n",
    "\n",
    "Sử dụng định lý **L'Hospital** ta có\n",
    "\n",
    "$\\lim\\limits_{k \\to \\infty} \\displaystyle\\frac{k^{300}}{2^k} = \\lim\\limits_{k \\to \\infty} \\displaystyle\\frac{300*k^{299}}{2^k*ln(2)} = \\lim\\limits_{k \\to \\infty} \\displaystyle\\frac{300*299*k^{298}}{2^k*ln(2)^2}=...=\\lim\\limits_{k \\to \\infty} \\displaystyle\\frac{300*299*...*2*1}{2^k*ln(2)^{300}}=\\displaystyle\\frac{\\prod_{i=1}^{300}(i)}{ln(2)^{300}}*\\lim\\limits_{k \\to \\infty} \\displaystyle\\frac{1}{2^k}=0$ có giới hạn hữu hạn  \n",
    "\n",
    "$\\rightarrow k^{300}=O(2^k)$\n",
    "\n",
    "(d) $(ln(k))^{375}=O(k^{0.001})$\n",
    "\n",
    "$\\lim\\limits_{k \\to \\infty} \\displaystyle\\frac{(ln(k))^{375}}{k^{0.001}} = \\lim\\limits_{k \\to \\infty} \\displaystyle\\frac{375*(ln(k))^{374}*\\frac{1}{k}}{0.001*k^{0.001}*\\frac{1}{k}} = \\lim\\limits_{k \\to \\infty} \\displaystyle\\frac{375*(ln(k))^{374}}{0.001*k^{0.001}}=\\lim\\limits_{k \\to \\infty} \\displaystyle\\frac{375*374*(ln(k))^{373}*\\frac{1}{k}}{0.001*k^{0.001}*\\frac{1}{k}}=\\lim\\limits_{k \\to \\infty} \\displaystyle\\frac{375*374*(ln(k))^{373}}{0.001*k^{0.001}}=...=\\lim\\limits_{k \\to \\infty} \\displaystyle\\frac{375*374*373*...*2*1}{0.001*k^{0.001}}=0$ có giới hạn hữu hạn\n",
    "\n",
    "$\\rightarrow (ln(k))^{375}=O(k^{0.001})$\n",
    "\n",
    "(e) $k^2*2^k=O(e^{2k})$\n",
    "\n",
    "$\\lim\\limits_{k \\to \\infty} \\displaystyle\\frac{k^2*2^k}{e^{2k}} = \\lim\\limits_{k \\to \\infty} \\displaystyle\\frac{k^2}{\\bigg(\\displaystyle\\frac{e^2}{2}\\bigg)^k}= \\lim\\limits_{k \\to \\infty} \\displaystyle\\frac{2k}{\\bigg(\\displaystyle\\frac{e^2}{2}\\bigg)^k*ln\\bigg(\\displaystyle\\frac{e^2}{2}\\bigg)}= \\lim\\limits_{k \\to \\infty} \\displaystyle\\frac{2}{\\bigg(\\displaystyle\\frac{e^2}{2}\\bigg)^k*ln\\bigg(\\displaystyle\\frac{e^2}{2}\\bigg)*ln\\bigg(\\displaystyle\\frac{e^2}{2}\\bigg)}=0$ có giới hạn hữu hạn\n",
    "\n",
    "$\\rightarrow k^2*2^k=O(e^{2k})$\n",
    "\n",
    "(f) $n^{10}*2^n=O(e^n)$\n",
    "\n",
    "$\\lim\\limits_{n \\to \\infty} \\displaystyle\\frac{n^{10}*2^n}{e^n} = \\lim\\limits_{n \\to \\infty} \\displaystyle\\frac{n^{10}}{\\bigg(\\displaystyle\\frac{e}{2}\\bigg)^n}= \\lim\\limits_{n \\to \\infty} \\displaystyle\\frac{10*n^9}{\\bigg(\\displaystyle\\frac{e}{2}\\bigg)^n*ln\\bigg(\\displaystyle\\frac{e}{2}\\bigg)}=...= \\lim\\limits_{n \\to \\infty} \\displaystyle\\frac{10*9*...*2*1}{\\bigg(\\displaystyle\\frac{e}{2}\\bigg)^n*\\Bigg(ln\\bigg(\\displaystyle\\frac{e}{2}\\bigg)\\Bigg)^{10}}=0$ có giới hạn hữu hạn\n",
    "\n",
    "$\\rightarrow n^{10}*2^n=O(e^n)$"
   ]
  },
  {
   "attachments": {},
   "cell_type": "markdown",
   "metadata": {},
   "source": [
    "#### 2.17"
   ]
  },
  {
   "cell_type": "code",
   "execution_count": 6,
   "metadata": {},
   "outputs": [
    {
     "name": "stdout",
     "output_type": "stream",
     "text": [
      "a. x = 37\n",
      "b. x = 59\n",
      "c. x = 319\n"
     ]
    }
   ],
   "source": [
    "import math\n",
    "\n",
    "def shanks_algorithm(g, h, p):\n",
    "    for N in range(1, p):\n",
    "        if pow(g, N, p) == 1: break\n",
    "    \n",
    "    n = 1 + int(math.sqrt(N))\n",
    "    l1 = []\n",
    "    for i in range(n + 1):\n",
    "        l1.append([i, pow(g, i, p)])\n",
    "\n",
    "    temp = pow(g, -n, p)\n",
    "    l2 = []\n",
    "    for i in range(n + 1):\n",
    "        l2.append([i, (h * pow(temp, i, p)) % p])\n",
    "\n",
    "    l1.sort(key = lambda x: x[1])\n",
    "    l2.sort(key = lambda x: x[1])\n",
    "\n",
    "    ans = -1\n",
    "    for i in range(len(l2)): # -> l2[i]\n",
    "        left = 0\n",
    "        right = len(l1) - 1\n",
    "        while left <= right:\n",
    "            mid = (left + right) // 2\n",
    "            if l2[i][1] == l1[mid][1]:\n",
    "                ans = [l1[mid][0], l2[i][0]]\n",
    "                break\n",
    "            elif l2[i][1] > l1[mid][1]:\n",
    "                left = mid + 1\n",
    "            else: right = mid - 1\n",
    "        if ans != -1: break\n",
    "\n",
    "    return ans[0] + n * ans[1]\n",
    "\n",
    "res_a = shanks_algorithm(11, 21, 71)\n",
    "print('a. x =', res_a)\n",
    "\n",
    "res_b = shanks_algorithm(156, 116, 593)\n",
    "print('b. x =', res_b)\n",
    "\n",
    "res_c = shanks_algorithm(650, 2213, 3571)\n",
    "print('c. x =', res_c)"
   ]
  },
  {
   "attachments": {},
   "cell_type": "markdown",
   "metadata": {},
   "source": [
    "#### 2.18"
   ]
  },
  {
   "cell_type": "code",
   "execution_count": 7,
   "metadata": {},
   "outputs": [
    {
     "name": "stdout",
     "output_type": "stream",
     "text": [
      "a. x = 31\n",
      "b. x = 27209\n",
      "c. x = -1\n",
      "d. x = 986\n",
      "e. x = 11733\n"
     ]
    }
   ],
   "source": [
    "def chinese_remainder_theorem(inp):\n",
    "    tmp_gcd = 0\n",
    "    N = 1\n",
    "    x = 0\n",
    "    for i in range(len(inp)):\n",
    "        tmp_gcd = math.gcd(tmp_gcd, inp[i][1])\n",
    "        N *= inp[i][1]\n",
    "    if tmp_gcd != 1: return -1\n",
    "\n",
    "    n = []\n",
    "    for i in range(len(inp)):\n",
    "        n.append(N // inp[i][1])\n",
    "\n",
    "    m = []\n",
    "    for i in range(len(inp)):\n",
    "        m.append(pow(n[i], -1, inp[i][1]))\n",
    "\n",
    "    for i in range(len(inp)):\n",
    "        x += inp[i][0] * n[i] * m[i]\n",
    "\n",
    "    return x % N\n",
    "\n",
    "print('a. x =', chinese_remainder_theorem([[3, 7], [4, 9]]))\n",
    "print('b. x =', chinese_remainder_theorem([[137, 423], [87, 191]]))\n",
    "print('c. x =', chinese_remainder_theorem([[133, 451], [237, 697]])) # -1 -> No solution\n",
    "print('d. x =', chinese_remainder_theorem([[5, 9], [6, 10], [7, 11]]))\n",
    "print('e. x =', chinese_remainder_theorem([[37, 43], [22, 49], [18, 71]]))"
   ]
  },
  {
   "attachments": {},
   "cell_type": "markdown",
   "metadata": {},
   "source": [
    "#### 2.20"
   ]
  },
  {
   "attachments": {},
   "cell_type": "markdown",
   "metadata": {},
   "source": [
    "$x=a+cm \\rightarrow x=a$ $(mod$ $m)$\n",
    "\n",
    "Do $c=(b-a)*m^{-1}$ $(mod$ $n) \\rightarrow cm=b-a$ $(mod$ $n) \\rightarrow cm = b - a + k*n$ với $k \\in \\mathbb{Z}$\n",
    "\n",
    "$x=a+cm=a+b - a + k*n=b+k*n \\rightarrow x=b$ $(mod$ $n)$\n",
    "\n",
    "$x \\equiv a$ $(mod$ $m)$ $\\Rightarrow x = m*k_1+a$\n",
    "\n",
    "$m*k_1+a \\equiv b$ $(mod$ $n)$ $\\Rightarrow k_1 \\equiv (b-a)*m^{-1} \\equiv c$ $(mod$ $n) \\Rightarrow k_1 = k*n+c$\n",
    "\n",
    "$\\Rightarrow x=m*(k*n+c)+a=k*m*n+m*c+a$ $\\forall k \\in \\mathbb{Z}$"
   ]
  },
  {
   "attachments": {},
   "cell_type": "markdown",
   "metadata": {},
   "source": [
    "#### 2.23"
   ]
  },
  {
   "cell_type": "code",
   "execution_count": 8,
   "metadata": {},
   "outputs": [
    {
     "name": "stdout",
     "output_type": "stream",
     "text": [
      "(a). Square root of 340 modulo 437: [215, 291, 146, 222]\n",
      "(b). Square root of 253 modulo 3143: [1387, 2654, 489, 1756]\n",
      "(c). Square root of 2833 modulo 4189: [1712, 3187, 1002, 2477]\n",
      "(d). Square root of 813 modulo 868: [785, 393, 41, 517, 351, 827, 475, 83]\n"
     ]
    }
   ],
   "source": [
    "def find_square_root(b, n): # b = a^2 (mod n)\n",
    "    factor = []\n",
    "    square = []\n",
    "    res = []\n",
    "    temp = n\n",
    "    p = 2\n",
    "    while temp != 1:\n",
    "        tmp1 = 1\n",
    "        while temp % p == 0:\n",
    "            tmp1 *= p\n",
    "            temp //= p\n",
    "        if tmp1 != 1: factor.append(tmp1)\n",
    "        p += 1\n",
    "    for x in factor:\n",
    "        val = b % x\n",
    "        if x % 4 == 3: square.append(pow(val, (x + 1) // 4, x))\n",
    "        else:\n",
    "            for i in range(x):\n",
    "                if pow(i, 2, x) == val:\n",
    "                    square.append(i)\n",
    "                    break\n",
    "    \n",
    "    for i in range(2 ** len(square)):\n",
    "        sign = []\n",
    "        while i:\n",
    "            sign.append(i % 2)\n",
    "            i //= 2\n",
    "        while len(sign) != len(square):\n",
    "            sign.append(0)\n",
    "        sign.reverse()\n",
    "        inp = []\n",
    "        for k in range(len(square)):\n",
    "            inp.append([pow(-1, sign[k]) * square[k], factor[k]])\n",
    "        res.append(int(chinese_remainder_theorem(inp)))\n",
    "\n",
    "    return res\n",
    "\n",
    "print(\"(a). Square root of 340 modulo 437:\", find_square_root(340, 437))\n",
    "print(\"(b). Square root of 253 modulo 3143:\", find_square_root(253, 3143))\n",
    "print(\"(c). Square root of 2833 modulo 4189:\", find_square_root(2833, 4189))\n",
    "print(\"(d). Square root of 813 modulo 868:\", find_square_root(813, 868))"
   ]
  },
  {
   "attachments": {},
   "cell_type": "markdown",
   "metadata": {},
   "source": [
    "#### 2.25"
   ]
  },
  {
   "attachments": {},
   "cell_type": "markdown",
   "metadata": {},
   "source": [
    "(a) Với $gcd(a,pq)=1$, ta có\n",
    "\n",
    "$x^2=a$ $(mod$ $n) \\rightarrow x^2=a_1$ $(mod$ $p)$ và $x^2=a_2$ $(mod$ $q)$ với $0 < a_1, a_2 < p$\n",
    "\n",
    "Do phương trình $x^2=a$ $(mod$ $n)$ có nghiệm nên 2 phương trình $x^2=a_1$ $(mod$ $p)$ và $x^2=a_2$ $(mod$ $q)$ cũng có nghiệm\n",
    "\n",
    "Ta có định lý nếu phương trình $x^2=t$ $(mod$ $p)$ (với $p$ là số nguyên tố) có nghiệm thì sẽ có 2 nghiệm $x$ $\\rightarrow x=\\pm \\sqrt{a_1}$ $(mod$ $p)$ và $x = \\pm \\sqrt{a_2}$ $(mod$ $q)$\n",
    "\n",
    "Với $x=\\pm \\sqrt{a_1}$ $(mod$ $p)$ ta có 2 cách chọn và $x = \\pm \\sqrt{a_2}$ $(mod$ $q)$ có 2 cách chọn, đồng thời khi ta lấy được phương trình theo modulo $p$ và $q$ thì ta có thể áp dụng định lý CRT để suy ra nghiệm $x$ theo modulo $n$ $\\rightarrow$ có 4 nghiệm\n",
    "\n",
    "(b) Ta có 1 thuật toán và máy để tìm được tất cả 4 nghiệm với một con $a$ nào đó. Giả sử ta sinh ra một giá trị $x_1$ và tính $a=x_1^2$. Ta sẽ dùng thuật toán trên để giải ra toàn bộ 4 nghiệm, trong đó 4 nghiệm lần lượt là $x_1, -x_1, x_2$ và $-x_2$\n",
    "\n",
    "Xét $x_2^2-x_1^2=(x_2-x_1)*(x_2+x_1)$ chia hết cho $pq$\n",
    "- Nếu $x_2-x_1$ chia hết cho $pq$ hay $x_2+x_1$ chia hết cho $pq$ $\\rightarrow$ ta sẽ chọn giá trị $a$ khác\n",
    "- Còn không thì $x_2-x_1=ap$ và $x_2+x_1=bq$ (hoặc ngược lại)\n",
    "\n",
    "Vậy $gcd(x_2-x_1, n)=gcd(x_2-x_1,n)=p$ và $gcd(x_2+x_1, n)=gcd(x_2+x_1,n)=q$"
   ]
  },
  {
   "attachments": {},
   "cell_type": "markdown",
   "metadata": {},
   "source": [
    "#### 2.28"
   ]
  },
  {
   "cell_type": "code",
   "execution_count": 9,
   "metadata": {},
   "outputs": [
    {
     "name": "stdout",
     "output_type": "stream",
     "text": [
      "(a). x = 47\n",
      "(b). x = 223755\n",
      "(c). x = 33703314\n",
      "(d). x = 984414\n"
     ]
    }
   ],
   "source": [
    "def pohlighellman(g, p, a):\n",
    "    for N in range(1, p):\n",
    "        if pow(g, N, p) == 1: break\n",
    "    \n",
    "    temp = N\n",
    "    fi = 2\n",
    "    res = [[]]\n",
    "    input_crt = []\n",
    "    factor = []\n",
    "    while temp != 1:\n",
    "        count = 0\n",
    "        while temp % fi == 0:\n",
    "            count += 1\n",
    "            temp /= fi\n",
    "        if count != 0: factor.append([fi, count])\n",
    "        fi += 1\n",
    "\n",
    "    count = 0\n",
    "    for f in factor:\n",
    "        g_f = pow(g, N // pow(f[0], f[1]), p)\n",
    "        h_f = pow(a, N // pow(f[0], f[1]), p)\n",
    "        g_i = pow(g_f, pow(f[0], f[1] - 1), p)\n",
    "        for i in range(f[1]):\n",
    "            ex = 0\n",
    "            for j in range(i): ex += res[count][j] * pow(f[0], j)\n",
    "            h_i = pow(h_f * pow(g_f, -ex, p), pow(f[0], f[1] - i - 1), p)\n",
    "            for x_i in range(f[0]):\n",
    "                if pow(g_i, x_i, p) == h_i:\n",
    "                    res[len(res) - 1].append(x_i)\n",
    "                    break\n",
    "        temp = 0\n",
    "        c = 0\n",
    "        for x in res[len(res) - 1]:\n",
    "            temp += x * pow(f[0], c)\n",
    "            c += 1\n",
    "        input_crt.append([temp, pow(f[0], f[1])])\n",
    "        count += 1\n",
    "        res.append([])\n",
    "    \n",
    "    if len(input_crt) == 1: return input_crt[0][0]\n",
    "    else: return chinese_remainder_theorem(input_crt)\n",
    "\n",
    "print(\"(a). x =\", pohlighellman(7, 433, 166))\n",
    "print(\"(b). x =\", pohlighellman(10, 746497, 243278))\n",
    "print(\"(c). x =\", pohlighellman(2, 41022299, 39183497))\n",
    "print(\"(d). x =\", pohlighellman(17, 1291799, 192988))"
   ]
  },
  {
   "attachments": {},
   "cell_type": "markdown",
   "metadata": {},
   "source": [
    "#### 2.31"
   ]
  },
  {
   "attachments": {},
   "cell_type": "markdown",
   "metadata": {},
   "source": [
    "$a_1\\equiv a_2$ $(mod$ $m)$ $\\rightarrow a_1 = k_1*m+a_2$\n",
    "\n",
    "$b_1\\equiv b_2$ $(mod$ $m)$ $\\rightarrow b_1 = k_2*m+b_2$\n",
    "\n",
    "$\\rightarrow a_1 \\pm a_2$ và $b_1 \\pm b_2$ nằm trong $R$ $\\rightarrow a_1 \\pm a_2 \\equiv b_1 \\pm b_2$ $(mod$ $m)$\n",
    "\n",
    "$a_1*b_1=a_2*b_2+(...)*m \\rightarrow a_1*b_1\\equiv a_2*b_2$ $(mod$ $m)$"
   ]
  },
  {
   "attachments": {},
   "cell_type": "markdown",
   "metadata": {},
   "source": [
    "#### 2.33"
   ]
  },
  {
   "attachments": {},
   "cell_type": "markdown",
   "metadata": {},
   "source": [
    "(a) Giả sử $deg(a)=m$ và $deg(b)=n$ thì $a=a_0+a_1x+a_2x^2+...+a_mx^m$ và $b=b_0+b_1x+b_2x^2+...+b_nx^n \\rightarrow a*b$ có phần tử với bậc lớn nhất là $a_mb_nx^{m+n} \\Rightarrow deg(a*b)=m+n=deg(a)+deg(b)$\n",
    "\n",
    "(b) $a \\in \\mathbb{F} \\rightarrow$ theo định nghĩa của trường $\\mathbb{F}$ thì luôn tồn tại nghịch đảo $a^{-1}$ theo phép nhân\n",
    "\n",
    "Nếu $a$ là đa thức hằng $\\rightarrow$ tồn tại phần tử nghịch đảo trong trường $\\mathbb{F}$ của $a$\n",
    "\n",
    "Nếu $a$ không phải là đa thức hằng $\\rightarrow$ không thể tìm nghịch đảo được vì ta chỉ có thể biểu diễn theo biến $x^{-1}$ chứ không thể biểu diễn theo $x$\n",
    "\n",
    "(d) Vành $R=\\displaystyle\\frac{\\mathbb{Z}}{6\\mathbb{Z}}$. Do $6=2*3$, ta xét $a=5+2x$ và $b=5+3x$ ta được những điều sau\n",
    "- $deg(a)=1$\n",
    "- $deg(b)=1$\n",
    "- $a*b=25+25x+6x^2=1+x$ trong vành được mô tả trên $\\rightarrow deg(a*b)=1 \\neq deg(a) + deg(b)$"
   ]
  },
  {
   "attachments": {},
   "cell_type": "markdown",
   "metadata": {},
   "source": [
    "#### 2.34"
   ]
  },
  {
   "cell_type": "code",
   "execution_count": 10,
   "metadata": {},
   "outputs": [
    {
     "name": "stdout",
     "output_type": "stream",
     "text": [
      "(a). p = 2, gcd(a, b) = [1, 1, 1, 1]\n",
      "(b). p = 3, gcd(a, b) = [1, 2, 2]\n",
      "(c). p = 5, gcd(a, b) = [4, 1]\n",
      "(d). p = 7, gcd(a, b) = [4]\n"
     ]
    }
   ],
   "source": [
    "def poly_divisor(p, a, b):\n",
    "    if len(a) < len(b): return a\n",
    "    res = []\n",
    "    for i in range(len(a) - len(b) + 1):\n",
    "        tmp = a[0] * pow(b[0], -1, p)\n",
    "        res.append(tmp)\n",
    "        poly_tmp = []\n",
    "        for j in range(len(b)):\n",
    "            poly_tmp.append(-tmp * b[j])\n",
    "        for j in range(len(b)):\n",
    "            a[j] = (a[j] + poly_tmp[j]) % p\n",
    "        a.pop(0)\n",
    "    while len(a) > 0 and a[0] == 0: a.pop(0)\n",
    "    for i in range(len(res)): res[i] %= p\n",
    "    return res, a # res là thương, a là phần dư\n",
    "\n",
    "def poly_gcd(p, a, b):\n",
    "    if len(b) == 0: return a\n",
    "    q, r = poly_divisor(p, a, b)\n",
    "    return poly_gcd(p, b, r)\n",
    "\n",
    "a = [1, 3, -5, -3, 2, 2]\n",
    "b = [1, 1, -2, 4, 1, 5]\n",
    "print(\"(a). p = 2, gcd(a, b) =\", poly_gcd(2, a, b))\n",
    "a = [1, 3, -5, -3, 2, 2]\n",
    "b = [1, 1, -2, 4, 1, 5]\n",
    "print(\"(b). p = 3, gcd(a, b) =\", poly_gcd(3, a, b))\n",
    "a = [1, 3, -5, -3, 2, 2]\n",
    "b = [1, 1, -2, 4, 1, 5]\n",
    "print(\"(c). p = 5, gcd(a, b) =\", poly_gcd(5, a, b))\n",
    "a = [1, 3, -5, -3, 2, 2]\n",
    "b = [1, 1, -2, 4, 1, 5]\n",
    "print(\"(d). p = 7, gcd(a, b) =\", poly_gcd(7, a, b))"
   ]
  },
  {
   "attachments": {},
   "cell_type": "markdown",
   "metadata": {},
   "source": [
    "Cách biểu diễn đa thức dưới dạng mảng là chứa từng hệ số của đa thức theo bậc giảm dần. Ví dụ [1, 1, 1, 1] thì sẽ là đa thức $x^3+x^2+x+1$ hay [1, 3, 5, -2, 4] là đa thức $x^4+3x^3+5x^2-2x+4$"
   ]
  },
  {
   "attachments": {},
   "cell_type": "markdown",
   "metadata": {},
   "source": [
    "#### 2.35"
   ]
  },
  {
   "cell_type": "code",
   "execution_count": 21,
   "metadata": {},
   "outputs": [
    {
     "name": "stdout",
     "output_type": "stream",
     "text": [
      "(a). u = [1], v = [1]\n",
      "(b). u = [1, 1], v = [2, 0]\n",
      "(c). u = [2, 1, 4, 3], v = [3, 0, 4, 0]\n",
      "(d). u = [5, 5, 4, 6, 2], v = [2, 6, 4, 1, 0]\n"
     ]
    }
   ],
   "source": [
    "def poly_plus(p, a, b):\n",
    "    while len(a) < len(b): a.insert(0, 0)\n",
    "    while len(a) > len(b): b.insert(0, 0)\n",
    "    return [(a[i] + b[i]) % p for i in range(len(a))]\n",
    "\n",
    "def poly_minus(p, a, b):\n",
    "    while len(a) < len(b): a.insert(0, 0)\n",
    "    while len(a) > len(b): b.insert(0, 0)\n",
    "    return [(a[i] - b[i]) % p for i in range(len(a))]\n",
    "\n",
    "def poly_multiply(p, a, b):\n",
    "    n = len(a) + len(b) - 1\n",
    "    res = [0 for i in range(n)]\n",
    "    for i in range(len(a)):\n",
    "        deg_ai = len(a) - i - 1\n",
    "        for j in range(len(b)):\n",
    "            deg_bj = len(b) - j - 1\n",
    "            res[n - 1 - deg_ai - deg_bj] += a[i] * b[j]\n",
    "    for i in range(len(res)): res[i] %= p\n",
    "    return res\n",
    "\n",
    "def solve235(p, a, b):\n",
    "    if len(a) < len(b): a, b = b, a\n",
    "    if b == [0]: return [1], [0]\n",
    "    x2 = [1]; x1 = [0]; y2 = [0]; y1 = [1]\n",
    "\n",
    "    while b != []:\n",
    "        q, r = poly_divisor(p, a, b)\n",
    "        x = poly_minus(p, x2, poly_multiply(p, q, x1))\n",
    "        y = poly_minus(p, y2, poly_multiply(p, q, y1))\n",
    "        a = b; b = r; x2 = x1; x1 = x; y2 = y1; y1 = y\n",
    "\n",
    "    while len(x2) > 0 and x2[0] == 0: x2.pop(0)\n",
    "    while len(y2) > 0 and y2[0] == 0: y2.pop(0)\n",
    "    return x2, y2\n",
    "\n",
    "a = [1, 3, -5, -3, 2, 2]\n",
    "b = [1, 1, -2, 4, 1, 5]\n",
    "u, v = solve235(2, a, b)\n",
    "print(\"(a). u = \" + str(u) + \", v =\", v)\n",
    "\n",
    "a = [1, 3, -5, -3, 2, 2]\n",
    "b = [1, 1, -2, 4, 1, 5]\n",
    "u, v = solve235(3, a, b)\n",
    "print(\"(b). u = \" + str(u) + \", v =\", v)\n",
    "\n",
    "a = [1, 3, -5, -3, 2, 2]\n",
    "b = [1, 1, -2, 4, 1, 5]\n",
    "u, v = solve235(5, a, b)\n",
    "print(\"(c). u = \" + str(u) + \", v =\", v)\n",
    "\n",
    "a = [1, 3, -5, -3, 2, 2]\n",
    "b = [1, 1, -2, 4, 1, 5]\n",
    "u, v = solve235(7, a, b)\n",
    "print(\"(d). u = \" + str(u) + \", v =\", v)"
   ]
  }
 ],
 "metadata": {
  "kernelspec": {
   "display_name": "Python 3",
   "language": "python",
   "name": "python3"
  },
  "language_info": {
   "codemirror_mode": {
    "name": "ipython",
    "version": 3
   },
   "file_extension": ".py",
   "mimetype": "text/x-python",
   "name": "python",
   "nbconvert_exporter": "python",
   "pygments_lexer": "ipython3",
   "version": "3.11.1"
  },
  "orig_nbformat": 4,
  "vscode": {
   "interpreter": {
    "hash": "d2c7e20b4de8759bf70f06311a58eeb17bbc254d85ecaa7e2665fd598f87fd62"
   }
  }
 },
 "nbformat": 4,
 "nbformat_minor": 2
}
