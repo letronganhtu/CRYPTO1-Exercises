{
 "cells": [
  {
   "attachments": {},
   "cell_type": "markdown",
   "metadata": {},
   "source": [
    "#### Chapter 2: Discrete Logarithms and Diffie-Hellman"
   ]
  },
  {
   "attachments": {},
   "cell_type": "markdown",
   "metadata": {},
   "source": [
    "#### 2.3"
   ]
  },
  {
   "attachments": {},
   "cell_type": "markdown",
   "metadata": {},
   "source": [
    "(a) Do g là căn nguyên thuỷ của trường $\\mathbb{F}_p$ nên $ord(g) = p - 1$ $\\rightarrow x \\equiv log_g(h)$ $(mod$ $p-1)$ (mọi phần tử $x \\in \\mathbb{F}_p$ đều cho ra một giá trị $g^x$ duy nhất trong $\\mathbb{F}_p$)\n",
    "\n",
    "Do $x=a$ và $x=b$ nên $x\\equiv a \\equiv b \\equiv log_g(h)$ $(mod $ $p-1)$\n",
    "\n",
    "Ánh xạ được định nghĩa tốt là vì nếu giả sử tồn tại $a \\equiv b$ $(mod$ $p-1)$ thoả $g^a \\neq g^b$ $(mod$ $p)$ làm cho ánh xạ không được định nghĩa tốt thì ta có thể suy ra được $a \\equiv b \\equiv log_g(h)$ $(mod $ $p-1)$ như chứng minh ở trên và $g^a\\equiv g^b$ $(mod$ $p)$ (vô lí với điều ta đang giả sử)\n",
    "\n",
    "(b) Đặt $x_1=log_g(h_1)$ và $x_2=log_g(h_2)$ $\\rightarrow x_1+x_2=log_g(h_1)+log_g(h_2)=log_g(h_1h_2)$\n",
    "\n",
    "Với $h_1, h_2 \\in \\mathbb{F}_p^*$ nên $g^{x_1}=h_1$ $(mod$ $p)$ và $g^{x_2}=h_2$ $(mod$ $p)$ $\\rightarrow g^{x_1+x_2}=h_1h_2$ $(mod$ $p)$ $\\Rightarrow log_g(g^{x_1+x_2})=log_g(h_1h_2)=x_1+x_2=log_g(h_1)+log_g(h_2)$\n",
    "\n",
    "(c) Đặt $x=log_g(h)$ với $h \\in \\mathbb{F}_p^*$ $\\rightarrow g^x=h$ $(mod$ $p)$\n",
    "\n",
    "Gọi $n \\in \\mathbb{Z}$ và lấy mũ $n$ cho 2 vế của phương trình đồng dư trên $\\rightarrow g^{nx}=h^n$ $(mod$ $p)$ $\\rightarrow log_g(h^n)=nx=nlog_g(h)$"
   ]
  },
  {
   "attachments": {},
   "cell_type": "markdown",
   "metadata": {},
   "source": [
    "#### 2.4"
   ]
  },
  {
   "cell_type": "code",
   "execution_count": 5,
   "metadata": {},
   "outputs": [
    {
     "name": "stdout",
     "output_type": "stream",
     "text": [
      "(a). 7\n",
      "(b). 11\n",
      "(c). 18\n"
     ]
    }
   ],
   "source": [
    "def solve_dlp(g, h, p):\n",
    "    for x in range(0, p):\n",
    "        if pow(g, x, p) == h: return x\n",
    "\n",
    "print('(a). ' + str(solve_dlp(2, 13, 23))) # In ra kết quả câu a\n",
    "print('(b). ' + str(solve_dlp(10, 22, 47))) # In ra kết quả câu b\n",
    "print('(c). ' + str(solve_dlp(627, 608, 941))) # In ra kết quả câu c"
   ]
  },
  {
   "attachments": {},
   "cell_type": "markdown",
   "metadata": {},
   "source": [
    "#### 2.6"
   ]
  }
 ],
 "metadata": {
  "kernelspec": {
   "display_name": "Python 3",
   "language": "python",
   "name": "python3"
  },
  "language_info": {
   "codemirror_mode": {
    "name": "ipython",
    "version": 3
   },
   "file_extension": ".py",
   "mimetype": "text/x-python",
   "name": "python",
   "nbconvert_exporter": "python",
   "pygments_lexer": "ipython3",
   "version": "3.9.7"
  },
  "orig_nbformat": 4,
  "vscode": {
   "interpreter": {
    "hash": "eadba2b3581326a2d7bd273e9d419eb0fab219e321930fd6a453aab726dd8270"
   }
  }
 },
 "nbformat": 4,
 "nbformat_minor": 2
}
