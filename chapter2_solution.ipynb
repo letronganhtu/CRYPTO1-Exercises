{
 "cells": [
  {
   "attachments": {},
   "cell_type": "markdown",
   "metadata": {},
   "source": [
    "#### Chapter 2: Discrete Logarithms and Diffie-Hellman"
   ]
  },
  {
   "attachments": {},
   "cell_type": "markdown",
   "metadata": {},
   "source": [
    "#### 2.3"
   ]
  },
  {
   "attachments": {},
   "cell_type": "markdown",
   "metadata": {},
   "source": [
    "(a) Do g là căn nguyên thuỷ của trường $\\mathbb{F}_p$ nên $ord(g) = p - 1$ $\\rightarrow x \\equiv log_g(h)$ $(mod$ $p-1)$ (mọi phần tử $x \\in \\mathbb{F}_p$ đều cho ra một giá trị $g^x$ duy nhất trong $\\mathbb{F}_p$)\n",
    "\n",
    "Do $x=a$ và $x=b$ nên $x\\equiv a \\equiv b \\equiv log_g(h)$ $(mod $ $p-1)$\n",
    "\n",
    "Ánh xạ được định nghĩa tốt là vì nếu giả sử tồn tại $a \\equiv b$ $(mod$ $p-1)$ thoả $g^a \\neq g^b$ $(mod$ $p)$ làm cho ánh xạ không được định nghĩa tốt thì ta có thể suy ra được $a \\equiv b \\equiv log_g(h)$ $(mod $ $p-1)$ như chứng minh ở trên và $g^a\\equiv g^b$ $(mod$ $p)$ (vô lí với điều ta đang giả sử)\n",
    "\n",
    "(b) Đặt $x_1=log_g(h_1)$ và $x_2=log_g(h_2)$ $\\rightarrow x_1+x_2=log_g(h_1)+log_g(h_2)=log_g(h_1h_2)$\n",
    "\n",
    "Với $h_1, h_2 \\in \\mathbb{F}_p^*$ nên $g^{x_1}=h_1$ $(mod$ $p)$ và $g^{x_2}=h_2$ $(mod$ $p)$ $\\rightarrow g^{x_1+x_2}=h_1h_2$ $(mod$ $p)$ $\\Rightarrow log_g(g^{x_1+x_2})=log_g(h_1h_2)=x_1+x_2=log_g(h_1)+log_g(h_2)$\n",
    "\n",
    "(c) Đặt $x=log_g(h)$ với $h \\in \\mathbb{F}_p^*$ $\\rightarrow g^x=h$ $(mod$ $p)$\n",
    "\n",
    "Gọi $n \\in \\mathbb{Z}$ và lấy mũ $n$ cho 2 vế của phương trình đồng dư trên $\\rightarrow g^{nx}=h^n$ $(mod$ $p)$ $\\rightarrow log_g(h^n)=nx=nlog_g(h)$"
   ]
  },
  {
   "attachments": {},
   "cell_type": "markdown",
   "metadata": {},
   "source": [
    "#### 2.4"
   ]
  },
  {
   "cell_type": "code",
   "execution_count": 192,
   "metadata": {},
   "outputs": [
    {
     "name": "stdout",
     "output_type": "stream",
     "text": [
      "(a). 7\n",
      "(b). 11\n",
      "(c). 18\n"
     ]
    }
   ],
   "source": [
    "def solve_dlp(g, h, p):\n",
    "    for x in range(0, p):\n",
    "        if pow(g, x, p) == h: return x\n",
    "\n",
    "print('(a). ' + str(solve_dlp(2, 13, 23))) # In ra kết quả câu a\n",
    "print('(b). ' + str(solve_dlp(10, 22, 47))) # In ra kết quả câu b\n",
    "print('(c). ' + str(solve_dlp(627, 608, 941))) # In ra kết quả câu c"
   ]
  },
  {
   "attachments": {},
   "cell_type": "markdown",
   "metadata": {},
   "source": [
    "#### 2.6"
   ]
  },
  {
   "cell_type": "code",
   "execution_count": 193,
   "metadata": {},
   "outputs": [
    {
     "name": "stdout",
     "output_type": "stream",
     "text": [
      "Bob sends to Alice value B = 805\n",
      "Their secret shared value is K = 397\n",
      "Secret key of Alice is a = 587\n"
     ]
    }
   ],
   "source": [
    "g = 2\n",
    "p = 1373\n",
    "A = 974\n",
    "\n",
    "b = 871\n",
    "B = pow(g, b, p)\n",
    "print(\"Bob sends to Alice value B =\", B)\n",
    "print(\"Their secret shared value is K =\", pow(A, b, p))\n",
    "\n",
    "for x in range(0, p):\n",
    "    if pow(g, x, p) == A:\n",
    "        print(\"Secret key of Alice is a =\", x)\n",
    "        break"
   ]
  },
  {
   "attachments": {},
   "cell_type": "markdown",
   "metadata": {},
   "source": [
    "#### 2.8"
   ]
  },
  {
   "cell_type": "code",
   "execution_count": 194,
   "metadata": {},
   "outputs": [
    {
     "name": "stdout",
     "output_type": "stream",
     "text": [
      "a. Public key of Alice is A = 177\n",
      "b. Alice sends to Bob (c1, c2) = (719, 623)\n",
      "c. Decrypt the message m = 332\n",
      "d. Secret key of Bob is b = 219\n",
      "   Message m = 365\n"
     ]
    }
   ],
   "source": [
    "p = 1373\n",
    "g = 2\n",
    "\n",
    "a = 947\n",
    "public_key = pow(g, a, p)\n",
    "print(\"a. Public key of Alice is A =\", public_key)\n",
    "\n",
    "b = 716\n",
    "B = 469\n",
    "m = 583\n",
    "k = 877\n",
    "print(\"b. Alice sends to Bob (c1, c2) = (\" + str(pow(g, k, p)) + \", \" + str((m * pow(B, k, p)) % p) + \")\")\n",
    "\n",
    "a = 299\n",
    "A = 34\n",
    "c1 = 661\n",
    "c2 = 1325\n",
    "tmp = pow(c1, a, p)\n",
    "msg = (c2 * pow(tmp, -1, p)) % p\n",
    "print(\"c. Decrypt the message m =\", msg)\n",
    "\n",
    "B = 893\n",
    "c1 = 693\n",
    "c2 = 793\n",
    "for x in range(0, p):\n",
    "    if pow(g, x, p) == B:\n",
    "        b = x\n",
    "        print(\"d. Secret key of Bob is b =\", b)\n",
    "        break\n",
    "\n",
    "tmp = pow(c1, b, p)\n",
    "msg = (c2 * pow(tmp, -1, p)) % p\n",
    "print(\"   Message m =\", msg)"
   ]
  },
  {
   "attachments": {},
   "cell_type": "markdown",
   "metadata": {},
   "source": [
    "#### 2.9"
   ]
  },
  {
   "attachments": {},
   "cell_type": "markdown",
   "metadata": {},
   "source": [
    "Có $p$, $g$ và $pk=g^a$ $(mod$ $p)$ công khai trên kênh truyền với $a$ là khoá bí mật\n",
    "\n",
    "Nhắc lại về ElGamal, $(c1, c2)=(g^r$ $\\%$ $p, m*pk^r$ $\\%$ $p)=(g^r, m*g^{ar})$\n",
    "\n",
    "Do ta có oracle để giải được bài toán **DHP** $\\rightarrow$ Từ $g^a$ (khoá công khai) và $g^r$ ($c1$ được gửi trên kênh truyền) ta sẽ sinh ra được $g^{ar}$ $(mod$ $p) \\rightarrow (g^{ar})^{-1}$ $(mod$ $p)$\n",
    "\n",
    "Vậy lấy $c2$ nhân với giá trị $(g^{ar})^{-1}$ ta vừa tính được thì sẽ ra được $m$"
   ]
  },
  {
   "attachments": {},
   "cell_type": "markdown",
   "metadata": {},
   "source": [
    "#### 2.12"
   ]
  },
  {
   "attachments": {},
   "cell_type": "markdown",
   "metadata": {},
   "source": [
    "(a) Nếu $g \\in G[d] \\rightarrow g^d=e$\n",
    "\n",
    "Chứng minh $e^{-1}=e$\n",
    "\n",
    "- $e$ là phần tử đơn vị thoả $a*e=e*a=a$\n",
    "- $a*e=a\\rightarrow a=a*e^{-1}$\n",
    "- $e*a=a\\rightarrow a = e^{-1}*a \\Rightarrow a = a*e^{-1}=e^{-1}*a \\Rightarrow e$ cũng là phần tử đơn vị\n",
    "- Mà phần tử đơn vị của 1 nhóm là duy nhất $\\rightarrow e = e^{-1}$\n",
    "\n",
    "$g^d=e\\rightarrow (g^d)^{-1}=e^{-1}=e \\rightarrow (g^{-1})^d=e \\rightarrow g^{-1} \\in G[d]$\n",
    "\n",
    "(b) Nếu $g_1$ và $g_2 \\in G[d]$ thì $g_1^d=e$ và $g_2^d=e$ $\\rightarrow g_1^d*g_2^d=e*e=e$ $\\rightarrow g_1*g_1*...*g_1*g_2*...*g_2=e$ $\\rightarrow (g_1*g_2)^d=e \\rightarrow g_1*g_2 \\in G[d]$\n",
    "\n",
    "(c) $G[d]$ có phần tử đơn vị $e$ khi $g^d=e^d=e$\n",
    "\n",
    "$G[d]$ có phần tử nghịch đảo như đã chứng minh ở câu a\n",
    "\n",
    "$G[d]$ có tính kết hợp, $(g_1*g_2)^d*g_3^d=g_1^d*(g_2*g_3)^d=(g_1*g_2*g_3)^d$ như đã chứng minh ở câu b\n",
    "\n",
    "$\\Rightarrow G[d]$ là 1 nhóm\n",
    "\n",
    "(d) Xét nhóm ma trận $G = GL_n(\\mathbb{R})$ thì $G$ không phải là nhóm giao hoán\n",
    "\n",
    "Xét $(g_1g_2)^dg_3^d=g_1^d(g_2g_3)^d \\rightarrow (g_1*g_2)^d*g_3^d*(g_2g_3)^{-d}=g_1^d \\rightarrow (g_1*g_2)^d*g_3^d*g_3^{-d}*g_2^{-d}=g_1^d \\rightarrow (g_1*g_2)^d=g_1^d*g_2^d$\n",
    "\n",
    "Do $G$ không mang tính giao hoán nên phương trình cuối cùng ở trên không xảy ra $\\rightarrow G[d]$ không là 1 nhóm"
   ]
  }
 ],
 "metadata": {
  "kernelspec": {
   "display_name": "Python 3",
   "language": "python",
   "name": "python3"
  },
  "language_info": {
   "codemirror_mode": {
    "name": "ipython",
    "version": 3
   },
   "file_extension": ".py",
   "mimetype": "text/x-python",
   "name": "python",
   "nbconvert_exporter": "python",
   "pygments_lexer": "ipython3",
   "version": "3.9.7"
  },
  "orig_nbformat": 4,
  "vscode": {
   "interpreter": {
    "hash": "eadba2b3581326a2d7bd273e9d419eb0fab219e321930fd6a453aab726dd8270"
   }
  }
 },
 "nbformat": 4,
 "nbformat_minor": 2
}
